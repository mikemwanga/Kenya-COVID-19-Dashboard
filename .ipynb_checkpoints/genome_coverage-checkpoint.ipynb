{
 "cells": [
  {
   "cell_type": "code",
   "execution_count": 1,
   "metadata": {},
   "outputs": [],
   "source": [
    "import pandas as pd"
   ]
  },
  {
   "cell_type": "code",
   "execution_count": 5,
   "metadata": {},
   "outputs": [
    {
     "ename": "TypeError",
     "evalue": "fold_change.calculate_fold_change() takes 2 positional arguments but 3 were given",
     "output_type": "error",
     "traceback": [
      "\u001b[0;31m---------------------------------------------------------------------------\u001b[0m",
      "\u001b[0;31mTypeError\u001b[0m                                 Traceback (most recent call last)",
      "Cell \u001b[0;32mIn[5], line 8\u001b[0m\n\u001b[1;32m      4\u001b[0m         \u001b[38;5;28;01mreturn\u001b[39;00m case_fold_change\n\u001b[1;32m      6\u001b[0m calculate \u001b[38;5;241m=\u001b[39m fold_change()\n\u001b[0;32m----> 8\u001b[0m \u001b[43mcalculate\u001b[49m\u001b[38;5;241;43m.\u001b[39;49m\u001b[43mcalculate_fold_change\u001b[49m\u001b[43m(\u001b[49m\u001b[38;5;241;43m22\u001b[39;49m\u001b[43m,\u001b[49m\u001b[38;5;241;43m2\u001b[39;49m\u001b[43m)\u001b[49m\n",
      "\u001b[0;31mTypeError\u001b[0m: fold_change.calculate_fold_change() takes 2 positional arguments but 3 were given"
     ]
    }
   ],
   "source": [
    "class fold_change:\n",
    "    def calculate_fold_change(new_cases_last_24hrs,previous_case):\n",
    "        case_fold_change = (new_cases_last_24hrs/previous_case) - 1\n",
    "        return case_fold_change\n",
    "    \n",
    "calculate = fold_change()\n",
    "\n",
    "calculate.calculate_fold_change(22,2)"
   ]
  },
  {
   "cell_type": "code",
   "execution_count": null,
   "metadata": {},
   "outputs": [],
   "source": []
  }
 ],
 "metadata": {
  "kernelspec": {
   "display_name": "Python 3 (ipykernel)",
   "language": "python",
   "name": "python3"
  },
  "language_info": {
   "codemirror_mode": {
    "name": "ipython",
    "version": 3
   },
   "file_extension": ".py",
   "mimetype": "text/x-python",
   "name": "python",
   "nbconvert_exporter": "python",
   "pygments_lexer": "ipython3",
   "version": "3.10.8"
  },
  "vscode": {
   "interpreter": {
    "hash": "31f2aee4e71d21fbe5cf8b01ff0e069b9275f58929596ceb00d14d90e3e16cd6"
   }
  }
 },
 "nbformat": 4,
 "nbformat_minor": 2
}
