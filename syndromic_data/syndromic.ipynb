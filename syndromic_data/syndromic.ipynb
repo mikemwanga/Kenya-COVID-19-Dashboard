{
 "cells": [
  {
   "attachments": {},
   "cell_type": "markdown",
   "metadata": {},
   "source": [
    "# VISUALIZATION CONCENPT FOR SYNDROMIC DATA"
   ]
  },
  {
   "attachments": {},
   "cell_type": "markdown",
   "metadata": {},
   "source": [
    "1. Discharge Trends\n",
    "    \n",
    "    a. Figures summariseing patient  discharged (dead,referred, alive) by month or March April May\n",
    "    \n",
    "2. Patient Distibution by Age and Gender for the regions and month\n",
    "3. Priority Indicators (Datasets recorded by health providers)\n",
    "\n",
    "    a. COVID-19 vaccination status (period - March,April,Mya). \\\n",
    "        Recorded or not, Indeterminate,No, Undocumented,Yes\n",
    "    b. HIV Status\n",
    "        Negative,Positive,Undocumented,Unknown\n",
    "    \n",
    "    c. Comobordity at Admission\n",
    "        Undocumented, No, Yes,\n",
    "4. Duration of Hospital Stay\n",
    "    In days , number of days, interquatile range, by period\n",
    "5. Presenting symptoms at Admission\n",
    "    Chest pain.cpugh,diarrhoea, difficulty in breathing, fever, headache, vomiting\n",
    "6. Completion of Demographic measures\n",
    "7. Recording of Vital Signs\n",
    "8. Recording of Key Priority Measures\n",
    "9. Laboratory tests done at admission (count and disease/condition testsd)\n",
    "10. Disease patterns at discharge\n",
    "11. Outcome at Discharge\n",
    "\n",
    "\n",
    "    "
   ]
  },
  {
   "attachments": {},
   "cell_type": "markdown",
   "metadata": {},
   "source": [
    "## Notes\n",
    "\n",
    "There exists ages below 13 and some above 100. The current age graph is filtered between 0 - 100 years. A total of 992 above 70 years."
   ]
  },
  {
   "cell_type": "code",
   "execution_count": 1,
   "metadata": {},
   "outputs": [
    {
     "name": "stdout",
     "output_type": "stream",
     "text": [
      "/Users/jmwanga/Library/CloudStorage/OneDrive-KemriWellcomeTrust/Visualization/Kenya-COVID-19-Dashboard/syndromic_data\n"
     ]
    }
   ],
   "source": [
    "%cd '/Users/jmwanga/Library/CloudStorage/OneDrive-KemriWellcomeTrust/Visualization/Kenya-COVID-19-Dashboard/syndromic_data/'"
   ]
  },
  {
   "cell_type": "code",
   "execution_count": 55,
   "metadata": {},
   "outputs": [],
   "source": [
    "import pandas as pd\n",
    "import plotly.express as px\n",
    "import plotly.graph_objects as go\n",
    "pd.options.mode.chained_assignment = None\n",
    "import numpy as np\n",
    "import sys\n",
    "sys.path.append(\"utils.py\")\n",
    "import utils\n",
    "from utils import *"
   ]
  },
  {
   "cell_type": "code",
   "execution_count": 14,
   "metadata": {},
   "outputs": [],
   "source": [
    "\n",
    "data = pd.read_csv('./Syndromic_Surveillance_data2.csv',low_memory=False)\n",
    "data[['date_of_admission', 'date_of_discharge']] = data[['date_of_admission', 'date_of_discharge']].\\\n",
    "                                apply(pd.to_datetime, format=\"%Y-%m-%d\")\n",
    "data[(data['sex'] != 'Male') & (data['sex'] != 'Female')]\n",
    "data = data[data['date_of_admission'] >'2022-12-31']\n",
    "# data.age_years.fillna(data.calculated_age,inplace=True)\n",
    "data['month'] = data['date_of_admission'].apply(lambda x: x.strftime('%b-%y'))\n",
    "data['age_years'] = data['age']\n",
    "#map regions\n",
    "\n",
    "\n",
    "map_dict = {'Naivasha':'Central',\n",
    "'Kiambu':'Central','Mbagathi':'Central','Mama_Lucy':'Central','JOOTRH':'Western','Kisumu':'Western','Kakamega':'Western','Busia':'Western',\n",
    "'Kitale':'Western','Bungoma':'Western','Kisii':'Western'}\n",
    "\n",
    "map_dict2 = {'Jaramogi Oginga Odinga Teaching and Referral Hospital':'Western','Naivasha County Referral Hospital':'Central',\n",
    "                'Kiambu Level 5 Hospital':'Central','Machakos Level 5 Hospital':'Central',\n",
    "                'Mama Lucy Kibaki Hospital':'Central','Mbagathi Hospital':'Central',\n",
    "                'Kerugoya County Referral Hospital':'Central','Kisumu County Hospital':'Western',\n",
    "                'Kakamega County General & Teaching Referral Hospital':'Western','Busia County Referral Hospital':'Western',\n",
    "                'Kitale County Referral Hospital':'Western','Bungoma County Hospital':'Western',\n",
    "                'Kisii Teaching and Referral Hospital':'Western','Coast General Teaching and Referral Hospital':'Coast'}\n",
    "\n",
    "data['region'] = data['hospital'].map(map_dict2)\n",
    "#group age groups\n",
    "def age_group(dataframe,column):\n",
    "        '''Function to generate age groups. returns age groups column in the data frame'''\n",
    "        dataframe['age_groups'] = pd.qcut(dataframe[column],\n",
    "                                       [0,0.1,0.2,0.3,0.4,0.5,0.6,0.7,1],\n",
    "                                       labels=['<10','11-20','21-30','31-40','41-50','51-60','61-70','>70'])\n",
    "        return dataframe\n",
    "    \n",
    "data = age_group(data,'age_years')\n",
    "data['duration'] = (data['date_of_discharge']-data['date_of_admission'])/np.timedelta64(1,'D')\n",
    "total_central = len(data[data['region'] == 'Central'])\n",
    "total_western = len(data[data['region'] == 'Western'])\n"
   ]
  },
  {
   "cell_type": "code",
   "execution_count": 15,
   "metadata": {},
   "outputs": [],
   "source": [
    "\n",
    "margin = dict(l=10, r=10, t=5, b=5)\n",
    "\n",
    "total_patients = len(data)\n",
    "\n",
    "malep = len(data[data['sex'] == 'Male'])\n",
    "femalep = len(data[data['sex'] == 'Female'])\n",
    "#total_patients = malep + femalep\n",
    "male_percentage = round((malep/(total_patients)*100),1)\n",
    "female_percentage = round((femalep/(total_patients)*100),1)\n",
    "\n",
    "titlefont = {\"size\":11}\n",
    "\n",
    "reg_data = data[['record_id','date_of_admission','hospital','sex','age_years','region','age_groups','month','outcome',\n",
    "                 'status_at_discharge','date_of_discharge']]\n",
    "\n",
    "df_all = data.loc[(data['sex'].isin(['Male','Female'])) & (data['date_of_admission'] >'2022-12-31' )]\\\n",
    "    [['age_groups','month','sex','date_of_admission','calculated_age','age_years']]\n",
    "    \n",
    "df_age = df_all[(df_all.age_years > 0) & (df_all.age_years < 100)]\n",
    "age_sex = df_age.groupby(['sex','age_groups'])[['sex']].count().rename(columns={'sex':'count'}).reset_index()\n",
    "age_sex_f = age_sex[age_sex['sex'] == 'Female']\n",
    "age_sex_f['prop'] = round(age_sex_f['count']/age_sex_f['count'].sum()*100,0)\n",
    "\n",
    "age_sex_m = age_sex[age_sex['sex'] == 'Male']\n",
    "age_sex_m['prop'] = round(age_sex_m['count']/age_sex_m['count'].sum()*100,0)\n"
   ]
  },
  {
   "cell_type": "code",
   "execution_count": 58,
   "metadata": {},
   "outputs": [],
   "source": [
    "titlefont = {\"size\":11}\n",
    "def age_gender_plot(male_data,female_data):\n",
    "    age_plot= go.Figure()\n",
    "    age_plot.add_trace(go.Bar(y = female_data[\"age_groups\"], x = female_data[\"prop\"]*-1, orientation=\"h\",name = \"Female\",\n",
    "                            marker=dict(color=female_color),\n",
    "                            ))\n",
    "    age_plot.add_trace(go.Bar(y = male_data[\"age_groups\"], x = male_data[\"prop\"], orientation=\"h\",name = \"Male\",\n",
    "                            marker=dict(color=male_color)))\n",
    "    age_plot.update_layout(barmode = \"relative\",bargap = 0.5,bargroupgap=0,\n",
    "                            xaxis =  dict(tickvals = [-60,-40,-20,0,20,40,60],\n",
    "                                            ticktext = [\"60\",\"40\",\"20\",\"0\",\"20\",\"40\",\"60\"]),\n",
    "                            legend = dict(orientation = \"h\",title=None,yanchor='top',y=1.2,xanchor='right',x=1),\n",
    "                            margin=margin,paper_bgcolor=plot_color,plot_bgcolor=plot_color),\n",
    "    age_plot.update_traces(width=0.5)\n",
    "    age_plot.update_yaxes(tickfont = dict(size=12),title ='Age in Years',title_font = titlefont,ticks='outside',)\n",
    "    # age_plot.update_xaxes(tickfont = dict(size=12),title = 'Proportion(%)',gridcolor=gridcolor, linecolor=linecolor,ticks='outside',nticks=20)\n",
    "    return age_plot\n",
    "\n",
    "age_plot = age_gender_plot(age_sex_f,age_sex_m)"
   ]
  },
  {
   "cell_type": "code",
   "execution_count": 63,
   "metadata": {},
   "outputs": [],
   "source": [
    "df = reg_data.groupby(['region','sex'])[['sex']].count().rename(columns={'sex':'count'}).reset_index()\n",
    "df['gender_proportion'] = df['count'].apply(lambda x: x*100/df['count'].sum())\n",
    "\n",
    "\n",
    "reg_fig = px.bar(df, y='region',x='gender_proportion', color='sex',barmode='group',range_x=([0,100]),\n",
    "                 color_discrete_sequence= gender_color,text='count')\n",
    "reg_fig.update_traces(textposition='outside',textfont_size=10)\n",
    "reg_fig.update_layout(margin=margin,legend=dict(orientation='h',title=None,yanchor='top',y=1,xanchor='right',x=1),\n",
    "                      uniformtext_minsize=7, uniformtext_mode='hide',paper_bgcolor=plot_color,plot_bgcolor=plot_color)\n",
    "reg_fig.update_yaxes(tickfont = dict(size=12),title = None,ticks='outside')\n",
    "reg_fig.update_xaxes(title ='Proportion(%)',nticks=10, tickfont = dict(size=12),linecolor= linecolor,gridcolor=gridcolor,ticks='outside')\n",
    "\n",
    "\n",
    "reg_period = reg_data.groupby(['region','month'])[['region']].count().rename(columns={'region':'count'}).reset_index()\n",
    "reg_period['proportion'] = round(100 * reg_period['count']/reg_period.groupby('region')['count'].transform('sum'),1)\n",
    "\n",
    "\n",
    "def plot_reg_period(data):\n",
    "    fig = px.bar(data, x='month',y='count',barmode='group',color='region',range_y=[0, data['count'].max()+200],\n",
    "                        color_discrete_sequence= discrete_color,text = 'count')\n",
    "    fig.update_xaxes(categoryorder='array',categoryarray=['Jan-23','Feb-23','Mar-23','Apr-23','May-23','Jun-23'])\n",
    "    fig.update_layout(margin=margin,legend=dict(orientation='h', title=None,yanchor='top',y=1.2,xanchor='right',x=1),\n",
    "                      paper_bgcolor=plot_color,plot_bgcolor=plot_color)\n",
    "    fig.update_xaxes(tickfont = dict(size=12),title=None,linecolor='gray',ticks='outside',)\n",
    "    fig.update_yaxes(tickfont = dict(size=12),nticks=6,title='Frequency',gridcolor=gridcolor,ticks='outside',)\n",
    "    fig.update_traces(textposition='outside',textfont_size=10)\n",
    "    \n",
    "    return fig\n",
    "reg_per_fig =plot_reg_period(reg_period)\n"
   ]
  },
  {
   "cell_type": "code",
   "execution_count": 100,
   "metadata": {},
   "outputs": [],
   "source": [
    "\n",
    "data_campture = data[['record_id','dob_known','date_of_entry','biodata_complete','sex','age_years','region','age_groups','month',\\\n",
    "    'date_of_admission','weight','height','outcome','status_at_discharge','date_of_discharge',\n",
    "    'd1_present','cause_of_death','temp','heart_rate','resp_rate','blood_pressure_sys','blood_pressure_dia','oxygen_sat']]\n",
    "\n",
    "data_campture['blood_pressure_dia'] = data_campture['blood_pressure_dia'].fillna(0)\n",
    "def group_value(column,value):\n",
    "    grouped = data_campture[data_campture[column].isin([value])][['region', column]].groupby('region').count().reset_index()\n",
    "    return grouped\n",
    "\n",
    "def group_between(column,min,max):\n",
    "    grouped = data_campture[data_campture[column].between(min, max)][['region', column]].groupby('region').count().reset_index()\n",
    "    return grouped\n",
    "sex_complete = data_campture[data_campture['sex'].isin(['Male','Female'])][['sex','region']].groupby('region').count().reset_index()\n",
    "#bio_complete = group_value('biodata_complete','Complete')\n",
    "# dob_known  = group_value('dob_known','Yes')\n",
    "temp = group_between('temp',30,45)\n",
    "heart_rate = group_between('heart_rate',40,150)\n",
    "resp_rate = group_between('resp_rate',5,30)\n",
    "height_complete = group_between('height',50,250)\n",
    "weight_complete = group_between('weight',40,250)\n",
    "age_complete = group_between('age_years',18,100)\n",
    "# oxy_rate = group_between('oxygen_sat',20,100)\n",
    "\n",
    "df_demo = pd.merge(age_complete,sex_complete,on='region').\\\n",
    "    merge(height_complete,on='region').\\\n",
    "        merge(weight_complete,on='region')\n",
    "            \n",
    "df_demo.set_index('region',inplace=True)\n",
    "df_demo = (df_demo.div(total_patients)*100).round(1)\n",
    "df_vital_signs = pd.merge(temp,resp_rate,on='region').\\\n",
    "    merge(heart_rate,on='region')\n",
    "                \n",
    "df_vital_signs.set_index('region',inplace=True)\n",
    "df_vital_signs = (df_vital_signs.div(total_patients)*100).round(1)"
   ]
  },
  {
   "cell_type": "code",
   "execution_count": 103,
   "metadata": {},
   "outputs": [],
   "source": [
    "def heatmap_plot(data,yname):\n",
    "    fig = px.imshow(data,text_auto=True,aspect=\"auto\",range_color=(0,100),\n",
    "                    color_continuous_scale=px.colors.sequential.amp)#PuBu)amp\n",
    "    fig.update_layout(margin=margin)\n",
    "    fig.update_yaxes(title=yname,title_font=titlefont)\n",
    "    fig.update_xaxes(title=None,side='top', gridcolor='gray',ticks='outside')\n",
    "    fig.update_coloraxes(colorbar={'title':'Proportion(%)','orientation':'h', 'thickness':7, 'y':-0.4, 'titleside':'bottom'})\n",
    "    fig.update_traces(ygap=1,xgap=1)\n",
    "\n",
    "    return fig\n",
    "\n",
    "fig_demo_heatmap = heatmap_plot(df_demo.T,'Variable')\n",
    "fig_vital_heatmap = heatmap_plot(df_vital_signs.T,'Vital Signs')\n",
    "\n",
    "\n"
   ]
  },
  {
   "cell_type": "code",
   "execution_count": 109,
   "metadata": {},
   "outputs": [],
   "source": [
    "def priority_group(data,column1,column2):\n",
    "    df = data[[column1,column2]].groupby([column1,column2])[[column2]].count().\\\n",
    "        rename(columns={column2:'count'}).reset_index()\n",
    "    df['prop'] = round(100*df['count']/df.groupby(column1)['count'].transform('sum'),1)\n",
    "    return df\n",
    "\n",
    "hiv_data_region = priority_group(data,'region','hiv_status')\n",
    "hiv_data_month = priority_group(data,'month','hiv_status')\n",
    "cov_vaccine_region = priority_group(data,'region','received_covid_19_vaccine')\n",
    "cov_vaccine_month = priority_group(data,'month','received_covid_19_vaccine')\n",
    "\n",
    "#fucntion for plot\n",
    "def priority_plot(data,column,yaxis):\n",
    "    fig = px.bar(data, x='prop', y=yaxis, color=column,\n",
    "             orientation='h', color_discrete_map=colors)\n",
    "    fig.update_xaxes(title='Proportion(%)',title_font=titlefont,gridcolor=gridcolor,ticks='outside')\n",
    "    fig.update_yaxes(title=yaxis,title_font=titlefont,ticks='outside')\n",
    "    fig.update_yaxes(categoryorder='array',categoryarray=['Jan-23','Feb-23','Mar-23','Apr-23','May-23','Jun-23'])\n",
    "    fig.update_layout(barmode='stack',margin=margin,\n",
    "                      legend=dict(title=None,orientation='h',yanchor='top',y=1.5,x=0))\n",
    "    return fig\n",
    "                         \n",
    "fig_cov_vacc_region = priority_plot(cov_vaccine_region,'received_covid_19_vaccine','region')\n",
    "fig_cov_vacc_month = priority_plot(cov_vaccine_month,'received_covid_19_vaccine','month')\n",
    "\n",
    "fig_hiv_region = priority_plot(hiv_data_region,'hiv_status','region')\n",
    "fig_hiv_period = priority_plot(hiv_data_month,'hiv_status','month')\n"
   ]
  },
  {
   "cell_type": "code",
   "execution_count": 110,
   "metadata": {},
   "outputs": [],
   "source": [
    "completion = data[['month','region','biodata_complete','presenting_complaints_and_history_complete','examination_complete',\\\n",
    "    'admission_diagnosis_complete','investigations_complete','discharge_summary_complete']]\n",
    "\n",
    "def completion_group(column1,column2):\n",
    "    df = completion[[column1,column2]].groupby([column1,column2])[[column1]].count().\\\n",
    "    rename(columns={column1: 'count'}).reset_index()\n",
    "    df[(column1+'_'+'prop')] = round(100*df['count']/df.groupby(column2)['count'].transform('sum'),1)\n",
    "    df.drop('count',axis=1,inplace=True)\n",
    "    df.set_index('month',inplace=True)\n",
    "    df.rename(columns={column1:'variable'},inplace=True)\n",
    "    return df\n",
    "\n",
    "biodata_month = completion_group('biodata_complete','month')\n",
    "examination_data_month = completion_group('examination_complete','month')\n",
    "complaints_history_month = completion_group('presenting_complaints_and_history_complete','month')\n",
    "admi_diagnosis_month = completion_group('admission_diagnosis_complete','month')\n",
    "investigations_complete_month = completion_group('investigations_complete','month')\n",
    "discharge_summary_month = completion_group('discharge_summary_complete','month')\n"
   ]
  },
  {
   "cell_type": "code",
   "execution_count": 127,
   "metadata": {},
   "outputs": [
    {
     "data": {
      "text/plain": [
       "0        Empty\n",
       "1           No\n",
       "2        Empty\n",
       "3        Empty\n",
       "4        Empty\n",
       "         ...  \n",
       "19386      NaN\n",
       "19387      NaN\n",
       "19388      NaN\n",
       "19389      NaN\n",
       "19390      NaN\n",
       "Name: dysuria, Length: 17986, dtype: object"
      ]
     },
     "execution_count": 127,
     "metadata": {},
     "output_type": "execute_result"
    }
   ],
   "source": [
    "data['dysuria']"
   ]
  },
  {
   "cell_type": "code",
   "execution_count": 132,
   "metadata": {},
   "outputs": [
    {
     "data": {
      "text/html": [
       "<div>\n",
       "<style scoped>\n",
       "    .dataframe tbody tr th:only-of-type {\n",
       "        vertical-align: middle;\n",
       "    }\n",
       "\n",
       "    .dataframe tbody tr th {\n",
       "        vertical-align: top;\n",
       "    }\n",
       "\n",
       "    .dataframe thead th {\n",
       "        text-align: right;\n",
       "    }\n",
       "</style>\n",
       "<table border=\"1\" class=\"dataframe\">\n",
       "  <thead>\n",
       "    <tr style=\"text-align: right;\">\n",
       "      <th></th>\n",
       "      <th>record_id</th>\n",
       "      <th>month</th>\n",
       "      <th>region</th>\n",
       "      <th>cough</th>\n",
       "      <th>headache</th>\n",
       "      <th>diarrhoea</th>\n",
       "      <th>chest_pain</th>\n",
       "      <th>vomiting</th>\n",
       "      <th>fever</th>\n",
       "      <th>loss_of_consciousness</th>\n",
       "      <th>dysuria</th>\n",
       "      <th>difficulty_in_breathing</th>\n",
       "      <th>abdominal_pain</th>\n",
       "      <th>easy_fatigability</th>\n",
       "    </tr>\n",
       "  </thead>\n",
       "  <tbody>\n",
       "    <tr>\n",
       "      <th>0</th>\n",
       "      <td>4400001</td>\n",
       "      <td>May-23</td>\n",
       "      <td>Western</td>\n",
       "      <td>Empty</td>\n",
       "      <td>Empty</td>\n",
       "      <td>Empty</td>\n",
       "      <td>Empty</td>\n",
       "      <td>Empty</td>\n",
       "      <td>Empty</td>\n",
       "      <td>Yes</td>\n",
       "      <td>Empty</td>\n",
       "      <td>NaN</td>\n",
       "      <td>Empty</td>\n",
       "      <td>NaN</td>\n",
       "    </tr>\n",
       "    <tr>\n",
       "      <th>1</th>\n",
       "      <td>4400002</td>\n",
       "      <td>Mar-23</td>\n",
       "      <td>Western</td>\n",
       "      <td>Empty</td>\n",
       "      <td>Empty</td>\n",
       "      <td>Yes</td>\n",
       "      <td>Empty</td>\n",
       "      <td>No</td>\n",
       "      <td>Empty</td>\n",
       "      <td>No</td>\n",
       "      <td>No</td>\n",
       "      <td>NaN</td>\n",
       "      <td>No</td>\n",
       "      <td>NaN</td>\n",
       "    </tr>\n",
       "    <tr>\n",
       "      <th>2</th>\n",
       "      <td>4400003</td>\n",
       "      <td>Mar-23</td>\n",
       "      <td>Western</td>\n",
       "      <td>Yes</td>\n",
       "      <td>Empty</td>\n",
       "      <td>Yes</td>\n",
       "      <td>Empty</td>\n",
       "      <td>Empty</td>\n",
       "      <td>Empty</td>\n",
       "      <td>Empty</td>\n",
       "      <td>Empty</td>\n",
       "      <td>NaN</td>\n",
       "      <td>Empty</td>\n",
       "      <td>NaN</td>\n",
       "    </tr>\n",
       "    <tr>\n",
       "      <th>3</th>\n",
       "      <td>4400004</td>\n",
       "      <td>Mar-23</td>\n",
       "      <td>Western</td>\n",
       "      <td>No</td>\n",
       "      <td>Empty</td>\n",
       "      <td>No</td>\n",
       "      <td>Yes</td>\n",
       "      <td>Yes</td>\n",
       "      <td>No</td>\n",
       "      <td>Empty</td>\n",
       "      <td>Empty</td>\n",
       "      <td>NaN</td>\n",
       "      <td>No</td>\n",
       "      <td>NaN</td>\n",
       "    </tr>\n",
       "    <tr>\n",
       "      <th>4</th>\n",
       "      <td>4400005</td>\n",
       "      <td>Mar-23</td>\n",
       "      <td>Western</td>\n",
       "      <td>Empty</td>\n",
       "      <td>Yes</td>\n",
       "      <td>Empty</td>\n",
       "      <td>Empty</td>\n",
       "      <td>Empty</td>\n",
       "      <td>Empty</td>\n",
       "      <td>No</td>\n",
       "      <td>Empty</td>\n",
       "      <td>NaN</td>\n",
       "      <td>Empty</td>\n",
       "      <td>NaN</td>\n",
       "    </tr>\n",
       "    <tr>\n",
       "      <th>...</th>\n",
       "      <td>...</td>\n",
       "      <td>...</td>\n",
       "      <td>...</td>\n",
       "      <td>...</td>\n",
       "      <td>...</td>\n",
       "      <td>...</td>\n",
       "      <td>...</td>\n",
       "      <td>...</td>\n",
       "      <td>...</td>\n",
       "      <td>...</td>\n",
       "      <td>...</td>\n",
       "      <td>...</td>\n",
       "      <td>...</td>\n",
       "      <td>...</td>\n",
       "    </tr>\n",
       "    <tr>\n",
       "      <th>19386</th>\n",
       "      <td>331-163</td>\n",
       "      <td>Mar-23</td>\n",
       "      <td>Western</td>\n",
       "      <td>Empty</td>\n",
       "      <td>Empty</td>\n",
       "      <td>Empty</td>\n",
       "      <td>Empty</td>\n",
       "      <td>Empty</td>\n",
       "      <td>Empty</td>\n",
       "      <td>NaN</td>\n",
       "      <td>NaN</td>\n",
       "      <td>NaN</td>\n",
       "      <td>NaN</td>\n",
       "      <td>NaN</td>\n",
       "    </tr>\n",
       "    <tr>\n",
       "      <th>19387</th>\n",
       "      <td>331-164</td>\n",
       "      <td>Feb-23</td>\n",
       "      <td>Western</td>\n",
       "      <td>Empty</td>\n",
       "      <td>Empty</td>\n",
       "      <td>Empty</td>\n",
       "      <td>Empty</td>\n",
       "      <td>Empty</td>\n",
       "      <td>Empty</td>\n",
       "      <td>NaN</td>\n",
       "      <td>NaN</td>\n",
       "      <td>NaN</td>\n",
       "      <td>NaN</td>\n",
       "      <td>NaN</td>\n",
       "    </tr>\n",
       "    <tr>\n",
       "      <th>19388</th>\n",
       "      <td>331-165</td>\n",
       "      <td>Feb-23</td>\n",
       "      <td>Western</td>\n",
       "      <td>No</td>\n",
       "      <td>Yes</td>\n",
       "      <td>Empty</td>\n",
       "      <td>No</td>\n",
       "      <td>Empty</td>\n",
       "      <td>Empty</td>\n",
       "      <td>NaN</td>\n",
       "      <td>NaN</td>\n",
       "      <td>NaN</td>\n",
       "      <td>NaN</td>\n",
       "      <td>NaN</td>\n",
       "    </tr>\n",
       "    <tr>\n",
       "      <th>19389</th>\n",
       "      <td>331-166</td>\n",
       "      <td>Feb-23</td>\n",
       "      <td>Western</td>\n",
       "      <td>Empty</td>\n",
       "      <td>Yes</td>\n",
       "      <td>No</td>\n",
       "      <td>Yes</td>\n",
       "      <td>No</td>\n",
       "      <td>Empty</td>\n",
       "      <td>NaN</td>\n",
       "      <td>NaN</td>\n",
       "      <td>NaN</td>\n",
       "      <td>NaN</td>\n",
       "      <td>NaN</td>\n",
       "    </tr>\n",
       "    <tr>\n",
       "      <th>19390</th>\n",
       "      <td>331-167</td>\n",
       "      <td>Mar-23</td>\n",
       "      <td>Western</td>\n",
       "      <td>Empty</td>\n",
       "      <td>Empty</td>\n",
       "      <td>Empty</td>\n",
       "      <td>Empty</td>\n",
       "      <td>Empty</td>\n",
       "      <td>Empty</td>\n",
       "      <td>NaN</td>\n",
       "      <td>NaN</td>\n",
       "      <td>NaN</td>\n",
       "      <td>NaN</td>\n",
       "      <td>NaN</td>\n",
       "    </tr>\n",
       "  </tbody>\n",
       "</table>\n",
       "<p>17986 rows × 14 columns</p>\n",
       "</div>"
      ],
      "text/plain": [
       "      record_id   month   region  cough headache diarrhoea chest_pain  \\\n",
       "0       4400001  May-23  Western  Empty    Empty     Empty      Empty   \n",
       "1       4400002  Mar-23  Western  Empty    Empty       Yes      Empty   \n",
       "2       4400003  Mar-23  Western    Yes    Empty       Yes      Empty   \n",
       "3       4400004  Mar-23  Western     No    Empty        No        Yes   \n",
       "4       4400005  Mar-23  Western  Empty      Yes     Empty      Empty   \n",
       "...         ...     ...      ...    ...      ...       ...        ...   \n",
       "19386   331-163  Mar-23  Western  Empty    Empty     Empty      Empty   \n",
       "19387   331-164  Feb-23  Western  Empty    Empty     Empty      Empty   \n",
       "19388   331-165  Feb-23  Western     No      Yes     Empty         No   \n",
       "19389   331-166  Feb-23  Western  Empty      Yes        No        Yes   \n",
       "19390   331-167  Mar-23  Western  Empty    Empty     Empty      Empty   \n",
       "\n",
       "      vomiting  fever loss_of_consciousness dysuria difficulty_in_breathing  \\\n",
       "0        Empty  Empty                   Yes   Empty                     NaN   \n",
       "1           No  Empty                    No      No                     NaN   \n",
       "2        Empty  Empty                 Empty   Empty                     NaN   \n",
       "3          Yes     No                 Empty   Empty                     NaN   \n",
       "4        Empty  Empty                    No   Empty                     NaN   \n",
       "...        ...    ...                   ...     ...                     ...   \n",
       "19386    Empty  Empty                   NaN     NaN                     NaN   \n",
       "19387    Empty  Empty                   NaN     NaN                     NaN   \n",
       "19388    Empty  Empty                   NaN     NaN                     NaN   \n",
       "19389       No  Empty                   NaN     NaN                     NaN   \n",
       "19390    Empty  Empty                   NaN     NaN                     NaN   \n",
       "\n",
       "      abdominal_pain easy_fatigability  \n",
       "0              Empty               NaN  \n",
       "1                 No               NaN  \n",
       "2              Empty               NaN  \n",
       "3                 No               NaN  \n",
       "4              Empty               NaN  \n",
       "...              ...               ...  \n",
       "19386            NaN               NaN  \n",
       "19387            NaN               NaN  \n",
       "19388            NaN               NaN  \n",
       "19389            NaN               NaN  \n",
       "19390            NaN               NaN  \n",
       "\n",
       "[17986 rows x 14 columns]"
      ]
     },
     "execution_count": 132,
     "metadata": {},
     "output_type": "execute_result"
    }
   ],
   "source": []
  },
  {
   "cell_type": "code",
   "execution_count": 129,
   "metadata": {},
   "outputs": [
    {
     "data": {
      "text/plain": [
       "Index(['Unnamed: 0', 'record_id', 'redcap_data_access_group', 'date_of_entry',\n",
       "       'hospital', 'mar_used', 'ipno', 'control_number', 'subcounty',\n",
       "       'other_subcounty',\n",
       "       ...\n",
       "       'discharged_by_contact', 'discharged_by_cadre', 'completed_by_disch',\n",
       "       'date_time_completed_disch', 'date_of_outcome', 'age', 'month',\n",
       "       'region', 'age_groups', 'duration'],\n",
       "      dtype='object', length=392)"
      ]
     },
     "execution_count": 129,
     "metadata": {},
     "output_type": "execute_result"
    }
   ],
   "source": [
    "data.columns"
   ]
  },
  {
   "cell_type": "code",
   "execution_count": 121,
   "metadata": {},
   "outputs": [
    {
     "data": {
      "text/html": [
       "<div>\n",
       "<style scoped>\n",
       "    .dataframe tbody tr th:only-of-type {\n",
       "        vertical-align: middle;\n",
       "    }\n",
       "\n",
       "    .dataframe tbody tr th {\n",
       "        vertical-align: top;\n",
       "    }\n",
       "\n",
       "    .dataframe thead th {\n",
       "        text-align: right;\n",
       "    }\n",
       "</style>\n",
       "<table border=\"1\" class=\"dataframe\">\n",
       "  <thead>\n",
       "    <tr style=\"text-align: right;\">\n",
       "      <th></th>\n",
       "      <th>headache</th>\n",
       "    </tr>\n",
       "    <tr>\n",
       "      <th>region</th>\n",
       "      <th></th>\n",
       "    </tr>\n",
       "  </thead>\n",
       "  <tbody>\n",
       "    <tr>\n",
       "      <th>Central</th>\n",
       "      <td>6.577338</td>\n",
       "    </tr>\n",
       "    <tr>\n",
       "      <th>Coast</th>\n",
       "      <td>0.122317</td>\n",
       "    </tr>\n",
       "    <tr>\n",
       "      <th>Western</th>\n",
       "      <td>14.728122</td>\n",
       "    </tr>\n",
       "  </tbody>\n",
       "</table>\n",
       "</div>"
      ],
      "text/plain": [
       "          headache\n",
       "region            \n",
       "Central   6.577338\n",
       "Coast     0.122317\n",
       "Western  14.728122"
      ]
     },
     "execution_count": 121,
     "metadata": {},
     "output_type": "execute_result"
    }
   ],
   "source": [
    "def presenting_symptoms(value):\n",
    "    sum_len = len(data[value].isin(['Yes','No']))\n",
    "    df= data[data[value]=='Yes'][['record_id','region',value]]\n",
    "    df = df.groupby('region')[[value]].count()\n",
    "    df[value] =  df[value].apply(lambda x: (x/sum_len)*100)\n",
    "    return df\n",
    "\n",
    "df_headach = presenting_symptoms('headache')\n",
    "df_diarrhoea = presenting_symptoms('diarrhoea')\n",
    "df_cough = presenting_symptoms('cough')\n",
    "df_chestpain = presenting_symptoms('chest_pain')\n",
    "df_vomiting = presenting_symptoms('vomiting')\n",
    "df_fever = presenting_symptoms('fever')\n",
    "df_vomiting = presenting_symptoms('vomiting')\n",
    "df_dysuria = presenting_symptoms('dysuria')\n",
    "df_losscon = presenting_symptoms('loss_of_consciousness')\n",
    "\n",
    "symp_data = pd.merge(df_headach,df_diarrhoea,on='region').\\\n",
    "    merge(df_cough,on='region').merge(df_chestpain,on='region').\\\n",
    "            merge(df_vomiting,on='region').merge(df_fever,on='region').\\\n",
    "                        merge(df_dysuria,on='region').merge(df_losscon,on='region')\n",
    "\n",
    "symp_data.rename(columns={'loss_of_consciousness':'LoC'},inplace=True)\n",
    "\n",
    "df_headach\n",
    "\n"
   ]
  },
  {
   "cell_type": "code",
   "execution_count": 114,
   "metadata": {},
   "outputs": [],
   "source": [
    "df = symp_data.T\n",
    "figplot= go.Figure()\n",
    "figplot.add_trace(go.Bar(x = df['Central']*-1,y=df.index, orientation=\"h\",name = \"Central\",marker=dict(color=central)))\n",
    "figplot.add_trace(go.Bar(x = df['Western'],y=df.index, orientation=\"h\",name = \"Western\",marker=dict(color=western)))\n",
    "figplot.update_layout(barmode = \"relative\",bargap = 0.5,bargroupgap=0,\n",
    "                   xaxis =  dict(tickvals = [-15,-10,-5,0,5,10,15],\n",
    "                                        ticktext = ['15',\"10\",'5',\"0\",'5',\"10\",\"15\",'20']),\n",
    "                   legend = dict(orientation = \"h\",title=None,\n",
    "                                yanchor='top',y=1.3,xanchor='left',x=0.5),\n",
    "                   margin=margin,paper_bgcolor=plot_color,plot_bgcolor=plot_color)\n",
    "figplot.update_traces(width=0.5)\n",
    "figplot.update_yaxes(tickfont = dict(size=12),title = 'Symptoms',title_font = titlefont,ticks='outside')\n",
    "figplot.update_xaxes(tickfont = dict(size=12),title = \"Proportion(%)\",ticks='outside',\n",
    "                     gridcolor=gridcolor,title_font = titlefont,linecolor=linecolor)\n",
    "\n",
    "\n",
    "def presenting_symptoms_period(value):\n",
    "    sum_len = len(data[value].isin(['Yes','No']))\n",
    "    df= data[data[value]=='Yes'][['record_id','month',value]]\n",
    "    df = df.groupby('month')[[value]].count()\n",
    "    df[value] =  round(df[value].apply(lambda x: (100*x/sum_len)),0)\n",
    "    return df\n",
    "\n",
    "period_headach = presenting_symptoms_period('headache')\n",
    "period_diarrhoea = presenting_symptoms_period('diarrhoea')\n",
    "period_cough = presenting_symptoms_period('cough')\n",
    "period_chestpain = presenting_symptoms_period('chest_pain')\n",
    "period_vomiting = presenting_symptoms_period('vomiting')\n",
    "period_fever = presenting_symptoms_period('fever')\n",
    "period_vomiting = presenting_symptoms_period('vomiting')\n",
    "period_dysuria = presenting_symptoms_period('dysuria')\n",
    "period_losscon = presenting_symptoms_period('loss_of_consciousness')\n",
    "\n",
    "perioddata= pd.merge(period_headach,period_diarrhoea,on='month').\\\n",
    "    merge(period_cough,on='month').merge(period_chestpain,on='month').\\\n",
    "            merge(period_vomiting,on='month').merge(period_fever,on='month').\\\n",
    "                        merge(period_dysuria,on='month').merge(period_losscon,on='month')\n"
   ]
  },
  {
   "cell_type": "code",
   "execution_count": 115,
   "metadata": {},
   "outputs": [
    {
     "data": {
      "application/vnd.plotly.v1+json": {
       "config": {
        "plotlyServerURL": "https://plot.ly"
       },
       "data": [
        {
         "customdata": [
          [
           "Central"
          ],
          [
           "Central"
          ],
          [
           "Central"
          ],
          [
           "Central"
          ],
          [
           "Central"
          ],
          [
           "Central"
          ],
          [
           "Central"
          ],
          [
           "Central"
          ],
          [
           "Central"
          ],
          [
           "Central"
          ],
          [
           "Central"
          ],
          [
           "Central"
          ],
          [
           "Central"
          ],
          [
           "Central"
          ],
          [
           "Central"
          ],
          [
           "Central"
          ],
          [
           "Central"
          ],
          [
           "Central"
          ],
          [
           "Central"
          ],
          [
           "Central"
          ],
          [
           "Central"
          ],
          [
           "Central"
          ],
          [
           "Central"
          ],
          [
           "Central"
          ],
          [
           "Central"
          ],
          [
           "Central"
          ],
          [
           "Central"
          ],
          [
           "Central"
          ],
          [
           "Central"
          ],
          [
           "Central"
          ],
          [
           "Central"
          ],
          [
           "Central"
          ],
          [
           "Central"
          ],
          [
           "Central"
          ],
          [
           "Central"
          ],
          [
           "Central"
          ],
          [
           "Central"
          ],
          [
           "Central"
          ],
          [
           "Central"
          ],
          [
           "Central"
          ],
          [
           "Central"
          ],
          [
           "Central"
          ],
          [
           "Central"
          ],
          [
           "Central"
          ],
          [
           "Central"
          ],
          [
           "Central"
          ],
          [
           "Central"
          ],
          [
           "Central"
          ],
          [
           "Central"
          ],
          [
           "Central"
          ],
          [
           "Central"
          ],
          [
           "Central"
          ],
          [
           "Central"
          ],
          [
           "Central"
          ],
          [
           "Central"
          ],
          [
           "Central"
          ],
          [
           "Central"
          ],
          [
           "Central"
          ],
          [
           "Central"
          ],
          [
           "Central"
          ],
          [
           "Central"
          ],
          [
           "Central"
          ],
          [
           "Central"
          ],
          [
           "Central"
          ],
          [
           "Central"
          ],
          [
           "Central"
          ],
          [
           "Central"
          ],
          [
           "Central"
          ],
          [
           "Central"
          ],
          [
           "Central"
          ],
          [
           "Central"
          ],
          [
           "Central"
          ],
          [
           "Central"
          ],
          [
           "Central"
          ],
          [
           "Central"
          ],
          [
           "Central"
          ],
          [
           "Central"
          ],
          [
           "Central"
          ],
          [
           "Central"
          ],
          [
           "Central"
          ],
          [
           "Central"
          ],
          [
           "Central"
          ],
          [
           "Central"
          ],
          [
           "Central"
          ],
          [
           "Central"
          ],
          [
           "Central"
          ],
          [
           "Central"
          ],
          [
           "Central"
          ],
          [
           "Central"
          ],
          [
           "Central"
          ],
          [
           "Central"
          ],
          [
           "Central"
          ],
          [
           "Central"
          ],
          [
           "Central"
          ],
          [
           "Central"
          ],
          [
           "Central"
          ],
          [
           "Central"
          ],
          [
           "Central"
          ],
          [
           "Central"
          ],
          [
           "Central"
          ],
          [
           "Central"
          ],
          [
           "Central"
          ],
          [
           "Central"
          ],
          [
           "Central"
          ],
          [
           "Central"
          ],
          [
           "Central"
          ],
          [
           "Central"
          ],
          [
           "Central"
          ],
          [
           "Central"
          ],
          [
           "Central"
          ],
          [
           "Central"
          ],
          [
           "Central"
          ],
          [
           "Central"
          ],
          [
           "Central"
          ],
          [
           "Central"
          ],
          [
           "Central"
          ],
          [
           "Central"
          ],
          [
           "Central"
          ],
          [
           "Central"
          ],
          [
           "Central"
          ],
          [
           "Central"
          ],
          [
           "Central"
          ],
          [
           "Central"
          ],
          [
           "Central"
          ],
          [
           "Central"
          ],
          [
           "Central"
          ],
          [
           "Central"
          ],
          [
           "Central"
          ],
          [
           "Central"
          ],
          [
           "Central"
          ],
          [
           "Central"
          ],
          [
           "Central"
          ],
          [
           "Central"
          ],
          [
           "Central"
          ],
          [
           "Central"
          ],
          [
           "Central"
          ],
          [
           "Central"
          ],
          [
           "Central"
          ],
          [
           "Central"
          ],
          [
           "Central"
          ],
          [
           "Central"
          ],
          [
           "Central"
          ],
          [
           "Central"
          ],
          [
           "Central"
          ],
          [
           "Central"
          ],
          [
           "Central"
          ],
          [
           "Central"
          ],
          [
           "Central"
          ],
          [
           "Central"
          ],
          [
           "Central"
          ],
          [
           "Central"
          ],
          [
           "Central"
          ],
          [
           "Central"
          ],
          [
           "Central"
          ],
          [
           "Central"
          ],
          [
           "Central"
          ],
          [
           "Central"
          ],
          [
           "Central"
          ],
          [
           "Central"
          ],
          [
           "Central"
          ],
          [
           "Central"
          ],
          [
           "Central"
          ],
          [
           "Central"
          ],
          [
           "Central"
          ],
          [
           "Central"
          ],
          [
           "Central"
          ],
          [
           "Central"
          ],
          [
           "Central"
          ],
          [
           "Central"
          ],
          [
           "Central"
          ],
          [
           "Central"
          ],
          [
           "Central"
          ],
          [
           "Central"
          ],
          [
           "Central"
          ],
          [
           "Central"
          ],
          [
           "Central"
          ],
          [
           "Central"
          ],
          [
           "Central"
          ],
          [
           "Central"
          ],
          [
           "Central"
          ],
          [
           "Central"
          ],
          [
           "Central"
          ],
          [
           "Central"
          ],
          [
           "Central"
          ],
          [
           "Central"
          ],
          [
           "Central"
          ],
          [
           "Central"
          ],
          [
           "Central"
          ],
          [
           "Central"
          ],
          [
           "Central"
          ],
          [
           "Central"
          ],
          [
           "Central"
          ],
          [
           "Central"
          ],
          [
           "Central"
          ],
          [
           "Central"
          ],
          [
           "Central"
          ],
          [
           "Central"
          ],
          [
           "Central"
          ],
          [
           "Central"
          ],
          [
           "Central"
          ],
          [
           "Central"
          ],
          [
           "Central"
          ],
          [
           "Central"
          ],
          [
           "Central"
          ],
          [
           "Central"
          ],
          [
           "Central"
          ],
          [
           "Central"
          ],
          [
           "Central"
          ],
          [
           "Central"
          ],
          [
           "Central"
          ],
          [
           "Central"
          ],
          [
           "Central"
          ],
          [
           "Central"
          ],
          [
           "Central"
          ],
          [
           "Central"
          ],
          [
           "Central"
          ],
          [
           "Central"
          ],
          [
           "Central"
          ],
          [
           "Central"
          ],
          [
           "Central"
          ],
          [
           "Central"
          ],
          [
           "Central"
          ],
          [
           "Central"
          ],
          [
           "Central"
          ],
          [
           "Central"
          ],
          [
           "Central"
          ],
          [
           "Central"
          ],
          [
           "Central"
          ],
          [
           "Central"
          ],
          [
           "Central"
          ],
          [
           "Central"
          ],
          [
           "Central"
          ],
          [
           "Central"
          ],
          [
           "Central"
          ],
          [
           "Central"
          ],
          [
           "Central"
          ],
          [
           "Central"
          ],
          [
           "Central"
          ],
          [
           "Central"
          ],
          [
           "Central"
          ],
          [
           "Central"
          ],
          [
           "Central"
          ],
          [
           "Central"
          ],
          [
           "Central"
          ],
          [
           "Central"
          ],
          [
           "Central"
          ],
          [
           "Central"
          ],
          [
           "Central"
          ],
          [
           "Central"
          ],
          [
           "Central"
          ],
          [
           "Central"
          ],
          [
           "Central"
          ],
          [
           "Central"
          ],
          [
           "Central"
          ],
          [
           "Central"
          ],
          [
           "Central"
          ],
          [
           "Central"
          ]
         ],
         "hovertemplate": "<b>%{hovertext}</b><br><br>date_of_admission=%{x}<br>cumsum=%{y}<extra></extra>",
         "hovertext": [
          "Central",
          "Central",
          "Central",
          "Central",
          "Central",
          "Central",
          "Central",
          "Central",
          "Central",
          "Central",
          "Central",
          "Central",
          "Central",
          "Central",
          "Central",
          "Central",
          "Central",
          "Central",
          "Central",
          "Central",
          "Central",
          "Central",
          "Central",
          "Central",
          "Central",
          "Central",
          "Central",
          "Central",
          "Central",
          "Central",
          "Central",
          "Central",
          "Central",
          "Central",
          "Central",
          "Central",
          "Central",
          "Central",
          "Central",
          "Central",
          "Central",
          "Central",
          "Central",
          "Central",
          "Central",
          "Central",
          "Central",
          "Central",
          "Central",
          "Central",
          "Central",
          "Central",
          "Central",
          "Central",
          "Central",
          "Central",
          "Central",
          "Central",
          "Central",
          "Central",
          "Central",
          "Central",
          "Central",
          "Central",
          "Central",
          "Central",
          "Central",
          "Central",
          "Central",
          "Central",
          "Central",
          "Central",
          "Central",
          "Central",
          "Central",
          "Central",
          "Central",
          "Central",
          "Central",
          "Central",
          "Central",
          "Central",
          "Central",
          "Central",
          "Central",
          "Central",
          "Central",
          "Central",
          "Central",
          "Central",
          "Central",
          "Central",
          "Central",
          "Central",
          "Central",
          "Central",
          "Central",
          "Central",
          "Central",
          "Central",
          "Central",
          "Central",
          "Central",
          "Central",
          "Central",
          "Central",
          "Central",
          "Central",
          "Central",
          "Central",
          "Central",
          "Central",
          "Central",
          "Central",
          "Central",
          "Central",
          "Central",
          "Central",
          "Central",
          "Central",
          "Central",
          "Central",
          "Central",
          "Central",
          "Central",
          "Central",
          "Central",
          "Central",
          "Central",
          "Central",
          "Central",
          "Central",
          "Central",
          "Central",
          "Central",
          "Central",
          "Central",
          "Central",
          "Central",
          "Central",
          "Central",
          "Central",
          "Central",
          "Central",
          "Central",
          "Central",
          "Central",
          "Central",
          "Central",
          "Central",
          "Central",
          "Central",
          "Central",
          "Central",
          "Central",
          "Central",
          "Central",
          "Central",
          "Central",
          "Central",
          "Central",
          "Central",
          "Central",
          "Central",
          "Central",
          "Central",
          "Central",
          "Central",
          "Central",
          "Central",
          "Central",
          "Central",
          "Central",
          "Central",
          "Central",
          "Central",
          "Central",
          "Central",
          "Central",
          "Central",
          "Central",
          "Central",
          "Central",
          "Central",
          "Central",
          "Central",
          "Central",
          "Central",
          "Central",
          "Central",
          "Central",
          "Central",
          "Central",
          "Central",
          "Central",
          "Central",
          "Central",
          "Central",
          "Central",
          "Central",
          "Central",
          "Central",
          "Central",
          "Central",
          "Central",
          "Central",
          "Central",
          "Central",
          "Central",
          "Central",
          "Central",
          "Central",
          "Central",
          "Central",
          "Central",
          "Central",
          "Central",
          "Central",
          "Central",
          "Central",
          "Central",
          "Central",
          "Central",
          "Central",
          "Central",
          "Central",
          "Central",
          "Central",
          "Central",
          "Central",
          "Central",
          "Central",
          "Central",
          "Central",
          "Central",
          "Central",
          "Central",
          "Central",
          "Central",
          "Central",
          "Central",
          "Central",
          "Central",
          "Central",
          "Central",
          "Central",
          "Central",
          "Central",
          "Central",
          "Central",
          "Central",
          "Central",
          "Central",
          "Central",
          "Central",
          "Central",
          "Central"
         ],
         "legendgroup": "Central",
         "line": {
          "color": "#794d65",
          "dash": "solid"
         },
         "marker": {
          "symbol": "circle"
         },
         "mode": "lines",
         "name": "Central",
         "orientation": "v",
         "showlegend": true,
         "type": "scatter",
         "x": [
          "2023-01-01T00:00:00",
          "2023-01-02T00:00:00",
          "2023-01-03T00:00:00",
          "2023-01-04T00:00:00",
          "2023-01-05T00:00:00",
          "2023-01-06T00:00:00",
          "2023-01-07T00:00:00",
          "2023-01-08T00:00:00",
          "2023-01-09T00:00:00",
          "2023-01-10T00:00:00",
          "2023-01-11T00:00:00",
          "2023-01-12T00:00:00",
          "2023-01-13T00:00:00",
          "2023-01-14T00:00:00",
          "2023-01-15T00:00:00",
          "2023-01-16T00:00:00",
          "2023-01-17T00:00:00",
          "2023-01-18T00:00:00",
          "2023-01-19T00:00:00",
          "2023-01-20T00:00:00",
          "2023-01-21T00:00:00",
          "2023-01-22T00:00:00",
          "2023-01-23T00:00:00",
          "2023-01-24T00:00:00",
          "2023-01-25T00:00:00",
          "2023-01-26T00:00:00",
          "2023-01-27T00:00:00",
          "2023-01-28T00:00:00",
          "2023-01-29T00:00:00",
          "2023-01-30T00:00:00",
          "2023-01-31T00:00:00",
          "2023-02-01T00:00:00",
          "2023-02-02T00:00:00",
          "2023-02-03T00:00:00",
          "2023-02-04T00:00:00",
          "2023-02-05T00:00:00",
          "2023-02-06T00:00:00",
          "2023-02-07T00:00:00",
          "2023-02-08T00:00:00",
          "2023-02-09T00:00:00",
          "2023-02-10T00:00:00",
          "2023-02-11T00:00:00",
          "2023-02-12T00:00:00",
          "2023-02-13T00:00:00",
          "2023-02-14T00:00:00",
          "2023-02-15T00:00:00",
          "2023-02-16T00:00:00",
          "2023-02-17T00:00:00",
          "2023-02-18T00:00:00",
          "2023-02-19T00:00:00",
          "2023-02-20T00:00:00",
          "2023-02-21T00:00:00",
          "2023-02-22T00:00:00",
          "2023-02-23T00:00:00",
          "2023-02-24T00:00:00",
          "2023-02-25T00:00:00",
          "2023-02-26T00:00:00",
          "2023-02-27T00:00:00",
          "2023-02-28T00:00:00",
          "2023-03-01T00:00:00",
          "2023-03-02T00:00:00",
          "2023-03-03T00:00:00",
          "2023-03-04T00:00:00",
          "2023-03-05T00:00:00",
          "2023-03-06T00:00:00",
          "2023-03-07T00:00:00",
          "2023-03-08T00:00:00",
          "2023-03-09T00:00:00",
          "2023-03-10T00:00:00",
          "2023-03-11T00:00:00",
          "2023-03-12T00:00:00",
          "2023-03-13T00:00:00",
          "2023-03-14T00:00:00",
          "2023-03-15T00:00:00",
          "2023-03-16T00:00:00",
          "2023-03-17T00:00:00",
          "2023-03-18T00:00:00",
          "2023-03-19T00:00:00",
          "2023-03-20T00:00:00",
          "2023-03-21T00:00:00",
          "2023-03-22T00:00:00",
          "2023-03-23T00:00:00",
          "2023-03-24T00:00:00",
          "2023-03-25T00:00:00",
          "2023-03-26T00:00:00",
          "2023-03-27T00:00:00",
          "2023-03-28T00:00:00",
          "2023-03-29T00:00:00",
          "2023-03-30T00:00:00",
          "2023-03-31T00:00:00",
          "2023-04-01T00:00:00",
          "2023-04-02T00:00:00",
          "2023-04-03T00:00:00",
          "2023-04-04T00:00:00",
          "2023-04-05T00:00:00",
          "2023-04-06T00:00:00",
          "2023-04-07T00:00:00",
          "2023-04-08T00:00:00",
          "2023-04-09T00:00:00",
          "2023-04-10T00:00:00",
          "2023-04-11T00:00:00",
          "2023-04-12T00:00:00",
          "2023-04-13T00:00:00",
          "2023-04-14T00:00:00",
          "2023-04-15T00:00:00",
          "2023-04-16T00:00:00",
          "2023-04-17T00:00:00",
          "2023-04-18T00:00:00",
          "2023-04-19T00:00:00",
          "2023-04-20T00:00:00",
          "2023-04-21T00:00:00",
          "2023-04-22T00:00:00",
          "2023-04-23T00:00:00",
          "2023-04-24T00:00:00",
          "2023-04-25T00:00:00",
          "2023-04-26T00:00:00",
          "2023-04-27T00:00:00",
          "2023-04-28T00:00:00",
          "2023-04-29T00:00:00",
          "2023-04-30T00:00:00",
          "2023-05-01T00:00:00",
          "2023-05-02T00:00:00",
          "2023-05-03T00:00:00",
          "2023-05-04T00:00:00",
          "2023-05-05T00:00:00",
          "2023-05-06T00:00:00",
          "2023-05-07T00:00:00",
          "2023-05-08T00:00:00",
          "2023-05-09T00:00:00",
          "2023-05-10T00:00:00",
          "2023-05-11T00:00:00",
          "2023-05-12T00:00:00",
          "2023-05-13T00:00:00",
          "2023-05-14T00:00:00",
          "2023-05-15T00:00:00",
          "2023-05-16T00:00:00",
          "2023-05-17T00:00:00",
          "2023-05-18T00:00:00",
          "2023-05-19T00:00:00",
          "2023-05-20T00:00:00",
          "2023-05-21T00:00:00",
          "2023-05-22T00:00:00",
          "2023-05-23T00:00:00",
          "2023-05-24T00:00:00",
          "2023-05-25T00:00:00",
          "2023-05-26T00:00:00",
          "2023-05-27T00:00:00",
          "2023-05-28T00:00:00",
          "2023-05-29T00:00:00",
          "2023-05-30T00:00:00",
          "2023-05-31T00:00:00",
          "2023-06-01T00:00:00",
          "2023-06-02T00:00:00",
          "2023-06-03T00:00:00",
          "2023-06-04T00:00:00",
          "2023-06-05T00:00:00",
          "2023-06-06T00:00:00",
          "2023-06-07T00:00:00",
          "2023-06-08T00:00:00",
          "2023-06-09T00:00:00",
          "2023-06-10T00:00:00",
          "2023-06-11T00:00:00",
          "2023-06-12T00:00:00",
          "2023-06-13T00:00:00",
          "2023-06-14T00:00:00",
          "2023-06-15T00:00:00",
          "2023-06-16T00:00:00",
          "2023-06-17T00:00:00",
          "2023-06-18T00:00:00",
          "2023-06-19T00:00:00",
          "2023-06-20T00:00:00",
          "2023-06-21T00:00:00",
          "2023-06-22T00:00:00",
          "2023-06-23T00:00:00",
          "2023-06-24T00:00:00",
          "2023-06-25T00:00:00",
          "2023-06-26T00:00:00",
          "2023-06-27T00:00:00",
          "2023-06-28T00:00:00",
          "2023-06-29T00:00:00",
          "2023-06-30T00:00:00",
          "2023-07-01T00:00:00",
          "2023-07-02T00:00:00",
          "2023-07-03T00:00:00",
          "2023-07-04T00:00:00",
          "2023-07-05T00:00:00",
          "2023-07-06T00:00:00",
          "2023-07-07T00:00:00",
          "2023-07-08T00:00:00",
          "2023-07-09T00:00:00",
          "2023-07-10T00:00:00",
          "2023-07-11T00:00:00",
          "2023-07-12T00:00:00",
          "2023-07-13T00:00:00",
          "2023-07-14T00:00:00",
          "2023-07-15T00:00:00",
          "2023-07-16T00:00:00",
          "2023-07-17T00:00:00",
          "2023-07-18T00:00:00",
          "2023-07-19T00:00:00",
          "2023-07-20T00:00:00",
          "2023-07-21T00:00:00",
          "2023-07-22T00:00:00",
          "2023-07-23T00:00:00",
          "2023-07-24T00:00:00",
          "2023-07-25T00:00:00",
          "2023-07-26T00:00:00",
          "2023-07-27T00:00:00",
          "2023-07-28T00:00:00",
          "2023-07-29T00:00:00",
          "2023-07-30T00:00:00",
          "2023-07-31T00:00:00",
          "2023-08-01T00:00:00",
          "2023-08-02T00:00:00",
          "2023-08-03T00:00:00",
          "2023-08-04T00:00:00",
          "2023-08-05T00:00:00",
          "2023-08-06T00:00:00",
          "2023-08-07T00:00:00",
          "2023-08-08T00:00:00",
          "2023-08-09T00:00:00",
          "2023-08-10T00:00:00",
          "2023-08-11T00:00:00",
          "2023-08-12T00:00:00",
          "2023-08-13T00:00:00",
          "2023-08-14T00:00:00",
          "2023-08-15T00:00:00",
          "2023-08-16T00:00:00",
          "2023-08-17T00:00:00",
          "2023-08-18T00:00:00",
          "2023-08-19T00:00:00",
          "2023-08-20T00:00:00",
          "2023-08-21T00:00:00",
          "2023-08-22T00:00:00",
          "2023-08-23T00:00:00",
          "2023-08-24T00:00:00",
          "2023-08-25T00:00:00",
          "2023-08-26T00:00:00",
          "2023-08-27T00:00:00",
          "2023-08-28T00:00:00",
          "2023-08-29T00:00:00",
          "2023-08-30T00:00:00",
          "2023-08-31T00:00:00",
          "2023-09-01T00:00:00",
          "2023-09-02T00:00:00",
          "2023-09-03T00:00:00",
          "2023-09-04T00:00:00",
          "2023-09-05T00:00:00",
          "2023-09-06T00:00:00",
          "2023-09-07T00:00:00",
          "2023-09-08T00:00:00",
          "2023-09-09T00:00:00",
          "2023-09-10T00:00:00",
          "2023-09-11T00:00:00",
          "2023-09-12T00:00:00",
          "2023-09-13T00:00:00",
          "2023-09-14T00:00:00"
         ],
         "xaxis": "x",
         "y": [
          15,
          28,
          48,
          70,
          90,
          108,
          120,
          133,
          145,
          166,
          182,
          201,
          223,
          241,
          248,
          258,
          275,
          295,
          311,
          325,
          333,
          347,
          360,
          374,
          380,
          392,
          409,
          426,
          441,
          465,
          479,
          492,
          508,
          532,
          538,
          547,
          560,
          574,
          589,
          603,
          609,
          624,
          637,
          654,
          669,
          692,
          711,
          726,
          736,
          757,
          778,
          797,
          819,
          830,
          845,
          858,
          870,
          888,
          906,
          926,
          945,
          969,
          989,
          1004,
          1025,
          1045,
          1062,
          1075,
          1098,
          1110,
          1129,
          1159,
          1181,
          1203,
          1217,
          1229,
          1250,
          1263,
          1280,
          1309,
          1326,
          1363,
          1377,
          1400,
          1414,
          1458,
          1497,
          1542,
          1567,
          1587,
          1611,
          1637,
          1668,
          1718,
          1763,
          1791,
          1830,
          1853,
          1888,
          1909,
          1936,
          1961,
          1990,
          2023,
          2052,
          2067,
          2108,
          2141,
          2182,
          2215,
          2252,
          2277,
          2302,
          2351,
          2378,
          2419,
          2449,
          2479,
          2499,
          2527,
          2552,
          2599,
          2641,
          2677,
          2726,
          2745,
          2770,
          2805,
          2842,
          2887,
          2920,
          2959,
          2980,
          3006,
          3037,
          3073,
          3106,
          3143,
          3171,
          3196,
          3225,
          3261,
          3297,
          3337,
          3366,
          3400,
          3422,
          3448,
          3485,
          3514,
          3546,
          3576,
          3610,
          3627,
          3652,
          3695,
          3731,
          3769,
          3801,
          3842,
          3858,
          3883,
          3909,
          3933,
          3974,
          4001,
          4034,
          4054,
          4071,
          4108,
          4147,
          4185,
          4221,
          4254,
          4283,
          4309,
          4356,
          4390,
          4423,
          4457,
          4489,
          4510,
          4529,
          4566,
          4605,
          4642,
          4677,
          4717,
          4745,
          4768,
          4818,
          4865,
          4907,
          4956,
          4995,
          5028,
          5060,
          5109,
          5160,
          5202,
          5240,
          5275,
          5305,
          5335,
          5373,
          5415,
          5453,
          5501,
          5527,
          5566,
          5586,
          5622,
          5667,
          5704,
          5745,
          5786,
          5815,
          5851,
          5901,
          5944,
          5991,
          6022,
          6058,
          6091,
          6120,
          6162,
          6209,
          6244,
          6301,
          6334,
          6363,
          6392,
          6425,
          6462,
          6502,
          6531,
          6575,
          6598,
          6621,
          6661,
          6685,
          6716,
          6751,
          6792,
          6818,
          6840,
          6872,
          6904,
          6923,
          6937,
          6958,
          6974,
          6988,
          6994,
          7004,
          7010,
          7012
         ],
         "yaxis": "y"
        },
        {
         "customdata": [
          [
           "Coast"
          ],
          [
           "Coast"
          ],
          [
           "Coast"
          ],
          [
           "Coast"
          ],
          [
           "Coast"
          ],
          [
           "Coast"
          ],
          [
           "Coast"
          ],
          [
           "Coast"
          ],
          [
           "Coast"
          ],
          [
           "Coast"
          ],
          [
           "Coast"
          ],
          [
           "Coast"
          ],
          [
           "Coast"
          ],
          [
           "Coast"
          ],
          [
           "Coast"
          ],
          [
           "Coast"
          ],
          [
           "Coast"
          ],
          [
           "Coast"
          ],
          [
           "Coast"
          ],
          [
           "Coast"
          ],
          [
           "Coast"
          ],
          [
           "Coast"
          ],
          [
           "Coast"
          ],
          [
           "Coast"
          ],
          [
           "Coast"
          ],
          [
           "Coast"
          ],
          [
           "Coast"
          ],
          [
           "Coast"
          ],
          [
           "Coast"
          ],
          [
           "Coast"
          ],
          [
           "Coast"
          ],
          [
           "Coast"
          ],
          [
           "Coast"
          ],
          [
           "Coast"
          ],
          [
           "Coast"
          ],
          [
           "Coast"
          ],
          [
           "Coast"
          ],
          [
           "Coast"
          ],
          [
           "Coast"
          ],
          [
           "Coast"
          ],
          [
           "Coast"
          ],
          [
           "Coast"
          ],
          [
           "Coast"
          ],
          [
           "Coast"
          ],
          [
           "Coast"
          ],
          [
           "Coast"
          ],
          [
           "Coast"
          ],
          [
           "Coast"
          ],
          [
           "Coast"
          ],
          [
           "Coast"
          ],
          [
           "Coast"
          ],
          [
           "Coast"
          ],
          [
           "Coast"
          ],
          [
           "Coast"
          ],
          [
           "Coast"
          ],
          [
           "Coast"
          ],
          [
           "Coast"
          ],
          [
           "Coast"
          ],
          [
           "Coast"
          ],
          [
           "Coast"
          ],
          [
           "Coast"
          ],
          [
           "Coast"
          ],
          [
           "Coast"
          ],
          [
           "Coast"
          ],
          [
           "Coast"
          ],
          [
           "Coast"
          ],
          [
           "Coast"
          ],
          [
           "Coast"
          ],
          [
           "Coast"
          ],
          [
           "Coast"
          ],
          [
           "Coast"
          ],
          [
           "Coast"
          ],
          [
           "Coast"
          ],
          [
           "Coast"
          ],
          [
           "Coast"
          ],
          [
           "Coast"
          ],
          [
           "Coast"
          ],
          [
           "Coast"
          ],
          [
           "Coast"
          ],
          [
           "Coast"
          ],
          [
           "Coast"
          ],
          [
           "Coast"
          ],
          [
           "Coast"
          ],
          [
           "Coast"
          ],
          [
           "Coast"
          ],
          [
           "Coast"
          ],
          [
           "Coast"
          ],
          [
           "Coast"
          ],
          [
           "Coast"
          ],
          [
           "Coast"
          ],
          [
           "Coast"
          ],
          [
           "Coast"
          ],
          [
           "Coast"
          ],
          [
           "Coast"
          ],
          [
           "Coast"
          ],
          [
           "Coast"
          ],
          [
           "Coast"
          ],
          [
           "Coast"
          ],
          [
           "Coast"
          ],
          [
           "Coast"
          ],
          [
           "Coast"
          ],
          [
           "Coast"
          ],
          [
           "Coast"
          ],
          [
           "Coast"
          ],
          [
           "Coast"
          ],
          [
           "Coast"
          ],
          [
           "Coast"
          ],
          [
           "Coast"
          ],
          [
           "Coast"
          ],
          [
           "Coast"
          ],
          [
           "Coast"
          ],
          [
           "Coast"
          ],
          [
           "Coast"
          ],
          [
           "Coast"
          ],
          [
           "Coast"
          ],
          [
           "Coast"
          ],
          [
           "Coast"
          ],
          [
           "Coast"
          ],
          [
           "Coast"
          ],
          [
           "Coast"
          ],
          [
           "Coast"
          ],
          [
           "Coast"
          ],
          [
           "Coast"
          ],
          [
           "Coast"
          ],
          [
           "Coast"
          ],
          [
           "Coast"
          ],
          [
           "Coast"
          ],
          [
           "Coast"
          ],
          [
           "Coast"
          ]
         ],
         "hovertemplate": "<b>%{hovertext}</b><br><br>date_of_admission=%{x}<br>cumsum=%{y}<extra></extra>",
         "hovertext": [
          "Coast",
          "Coast",
          "Coast",
          "Coast",
          "Coast",
          "Coast",
          "Coast",
          "Coast",
          "Coast",
          "Coast",
          "Coast",
          "Coast",
          "Coast",
          "Coast",
          "Coast",
          "Coast",
          "Coast",
          "Coast",
          "Coast",
          "Coast",
          "Coast",
          "Coast",
          "Coast",
          "Coast",
          "Coast",
          "Coast",
          "Coast",
          "Coast",
          "Coast",
          "Coast",
          "Coast",
          "Coast",
          "Coast",
          "Coast",
          "Coast",
          "Coast",
          "Coast",
          "Coast",
          "Coast",
          "Coast",
          "Coast",
          "Coast",
          "Coast",
          "Coast",
          "Coast",
          "Coast",
          "Coast",
          "Coast",
          "Coast",
          "Coast",
          "Coast",
          "Coast",
          "Coast",
          "Coast",
          "Coast",
          "Coast",
          "Coast",
          "Coast",
          "Coast",
          "Coast",
          "Coast",
          "Coast",
          "Coast",
          "Coast",
          "Coast",
          "Coast",
          "Coast",
          "Coast",
          "Coast",
          "Coast",
          "Coast",
          "Coast",
          "Coast",
          "Coast",
          "Coast",
          "Coast",
          "Coast",
          "Coast",
          "Coast",
          "Coast",
          "Coast",
          "Coast",
          "Coast",
          "Coast",
          "Coast",
          "Coast",
          "Coast",
          "Coast",
          "Coast",
          "Coast",
          "Coast",
          "Coast",
          "Coast",
          "Coast",
          "Coast",
          "Coast",
          "Coast",
          "Coast",
          "Coast",
          "Coast",
          "Coast",
          "Coast",
          "Coast",
          "Coast",
          "Coast",
          "Coast",
          "Coast",
          "Coast",
          "Coast",
          "Coast",
          "Coast",
          "Coast",
          "Coast",
          "Coast",
          "Coast",
          "Coast",
          "Coast",
          "Coast",
          "Coast",
          "Coast",
          "Coast",
          "Coast",
          "Coast",
          "Coast",
          "Coast",
          "Coast",
          "Coast",
          "Coast",
          "Coast"
         ],
         "legendgroup": "Coast",
         "line": {
          "color": "#c39054",
          "dash": "solid"
         },
         "marker": {
          "symbol": "circle"
         },
         "mode": "lines",
         "name": "Coast",
         "orientation": "v",
         "showlegend": true,
         "type": "scatter",
         "x": [
          "2023-01-01T00:00:00",
          "2023-01-02T00:00:00",
          "2023-01-03T00:00:00",
          "2023-01-04T00:00:00",
          "2023-01-05T00:00:00",
          "2023-01-06T00:00:00",
          "2023-01-07T00:00:00",
          "2023-01-08T00:00:00",
          "2023-01-09T00:00:00",
          "2023-01-10T00:00:00",
          "2023-01-11T00:00:00",
          "2023-01-12T00:00:00",
          "2023-01-13T00:00:00",
          "2023-01-14T00:00:00",
          "2023-01-16T00:00:00",
          "2023-01-17T00:00:00",
          "2023-01-18T00:00:00",
          "2023-01-19T00:00:00",
          "2023-01-20T00:00:00",
          "2023-01-21T00:00:00",
          "2023-01-22T00:00:00",
          "2023-01-23T00:00:00",
          "2023-01-24T00:00:00",
          "2023-01-25T00:00:00",
          "2023-01-27T00:00:00",
          "2023-01-28T00:00:00",
          "2023-01-29T00:00:00",
          "2023-01-30T00:00:00",
          "2023-01-31T00:00:00",
          "2023-02-03T00:00:00",
          "2023-02-04T00:00:00",
          "2023-02-08T00:00:00",
          "2023-02-09T00:00:00",
          "2023-02-11T00:00:00",
          "2023-02-12T00:00:00",
          "2023-02-13T00:00:00",
          "2023-02-14T00:00:00",
          "2023-02-15T00:00:00",
          "2023-02-17T00:00:00",
          "2023-02-18T00:00:00",
          "2023-02-19T00:00:00",
          "2023-02-20T00:00:00",
          "2023-02-21T00:00:00",
          "2023-02-23T00:00:00",
          "2023-02-24T00:00:00",
          "2023-02-26T00:00:00",
          "2023-02-28T00:00:00",
          "2023-03-04T00:00:00",
          "2023-03-05T00:00:00",
          "2023-03-07T00:00:00",
          "2023-03-08T00:00:00",
          "2023-03-09T00:00:00",
          "2023-03-11T00:00:00",
          "2023-03-12T00:00:00",
          "2023-03-14T00:00:00",
          "2023-03-15T00:00:00",
          "2023-03-16T00:00:00",
          "2023-03-17T00:00:00",
          "2023-03-18T00:00:00",
          "2023-03-19T00:00:00",
          "2023-03-20T00:00:00",
          "2023-03-21T00:00:00",
          "2023-03-22T00:00:00",
          "2023-03-23T00:00:00",
          "2023-03-24T00:00:00",
          "2023-03-25T00:00:00",
          "2023-03-26T00:00:00",
          "2023-03-27T00:00:00",
          "2023-03-28T00:00:00",
          "2023-03-29T00:00:00",
          "2023-03-30T00:00:00",
          "2023-03-31T00:00:00",
          "2023-04-01T00:00:00",
          "2023-04-02T00:00:00",
          "2023-04-03T00:00:00",
          "2023-04-04T00:00:00",
          "2023-04-05T00:00:00",
          "2023-04-06T00:00:00",
          "2023-04-07T00:00:00",
          "2023-04-08T00:00:00",
          "2023-04-09T00:00:00",
          "2023-04-10T00:00:00",
          "2023-04-11T00:00:00",
          "2023-04-12T00:00:00",
          "2023-04-13T00:00:00",
          "2023-04-14T00:00:00",
          "2023-04-15T00:00:00",
          "2023-04-16T00:00:00",
          "2023-04-17T00:00:00",
          "2023-04-18T00:00:00",
          "2023-04-19T00:00:00",
          "2023-04-20T00:00:00",
          "2023-04-21T00:00:00",
          "2023-04-22T00:00:00",
          "2023-04-23T00:00:00",
          "2023-04-24T00:00:00",
          "2023-04-25T00:00:00",
          "2023-04-26T00:00:00",
          "2023-04-27T00:00:00",
          "2023-04-28T00:00:00",
          "2023-04-29T00:00:00",
          "2023-04-30T00:00:00",
          "2023-05-01T00:00:00",
          "2023-05-02T00:00:00",
          "2023-05-03T00:00:00",
          "2023-05-04T00:00:00",
          "2023-05-05T00:00:00",
          "2023-05-06T00:00:00",
          "2023-05-07T00:00:00",
          "2023-05-08T00:00:00",
          "2023-05-09T00:00:00",
          "2023-05-10T00:00:00",
          "2023-05-11T00:00:00",
          "2023-05-12T00:00:00",
          "2023-05-13T00:00:00",
          "2023-05-14T00:00:00",
          "2023-05-16T00:00:00",
          "2023-05-17T00:00:00",
          "2023-05-18T00:00:00",
          "2023-05-19T00:00:00",
          "2023-05-20T00:00:00",
          "2023-05-21T00:00:00",
          "2023-05-22T00:00:00",
          "2023-05-23T00:00:00",
          "2023-05-25T00:00:00",
          "2023-05-26T00:00:00",
          "2023-05-28T00:00:00",
          "2023-06-01T00:00:00",
          "2023-06-02T00:00:00"
         ],
         "xaxis": "x",
         "y": [
          2,
          3,
          4,
          9,
          12,
          13,
          14,
          15,
          18,
          21,
          24,
          28,
          32,
          37,
          40,
          42,
          45,
          47,
          48,
          50,
          51,
          52,
          53,
          54,
          55,
          59,
          60,
          63,
          64,
          65,
          66,
          67,
          69,
          71,
          73,
          74,
          76,
          78,
          79,
          80,
          85,
          86,
          87,
          88,
          89,
          90,
          94,
          96,
          98,
          100,
          101,
          105,
          107,
          108,
          110,
          113,
          114,
          115,
          116,
          117,
          118,
          119,
          124,
          125,
          127,
          129,
          131,
          136,
          137,
          141,
          142,
          145,
          149,
          150,
          152,
          155,
          157,
          160,
          163,
          166,
          167,
          169,
          171,
          177,
          182,
          184,
          188,
          192,
          196,
          199,
          205,
          208,
          211,
          212,
          215,
          219,
          223,
          225,
          227,
          229,
          231,
          233,
          236,
          239,
          242,
          248,
          250,
          252,
          257,
          258,
          264,
          266,
          269,
          272,
          274,
          281,
          284,
          287,
          293,
          294,
          295,
          297,
          298,
          300,
          301,
          302,
          304,
          305,
          306
         ],
         "yaxis": "y"
        },
        {
         "customdata": [
          [
           "Western"
          ],
          [
           "Western"
          ],
          [
           "Western"
          ],
          [
           "Western"
          ],
          [
           "Western"
          ],
          [
           "Western"
          ],
          [
           "Western"
          ],
          [
           "Western"
          ],
          [
           "Western"
          ],
          [
           "Western"
          ],
          [
           "Western"
          ],
          [
           "Western"
          ],
          [
           "Western"
          ],
          [
           "Western"
          ],
          [
           "Western"
          ],
          [
           "Western"
          ],
          [
           "Western"
          ],
          [
           "Western"
          ],
          [
           "Western"
          ],
          [
           "Western"
          ],
          [
           "Western"
          ],
          [
           "Western"
          ],
          [
           "Western"
          ],
          [
           "Western"
          ],
          [
           "Western"
          ],
          [
           "Western"
          ],
          [
           "Western"
          ],
          [
           "Western"
          ],
          [
           "Western"
          ],
          [
           "Western"
          ],
          [
           "Western"
          ],
          [
           "Western"
          ],
          [
           "Western"
          ],
          [
           "Western"
          ],
          [
           "Western"
          ],
          [
           "Western"
          ],
          [
           "Western"
          ],
          [
           "Western"
          ],
          [
           "Western"
          ],
          [
           "Western"
          ],
          [
           "Western"
          ],
          [
           "Western"
          ],
          [
           "Western"
          ],
          [
           "Western"
          ],
          [
           "Western"
          ],
          [
           "Western"
          ],
          [
           "Western"
          ],
          [
           "Western"
          ],
          [
           "Western"
          ],
          [
           "Western"
          ],
          [
           "Western"
          ],
          [
           "Western"
          ],
          [
           "Western"
          ],
          [
           "Western"
          ],
          [
           "Western"
          ],
          [
           "Western"
          ],
          [
           "Western"
          ],
          [
           "Western"
          ],
          [
           "Western"
          ],
          [
           "Western"
          ],
          [
           "Western"
          ],
          [
           "Western"
          ],
          [
           "Western"
          ],
          [
           "Western"
          ],
          [
           "Western"
          ],
          [
           "Western"
          ],
          [
           "Western"
          ],
          [
           "Western"
          ],
          [
           "Western"
          ],
          [
           "Western"
          ],
          [
           "Western"
          ],
          [
           "Western"
          ],
          [
           "Western"
          ],
          [
           "Western"
          ],
          [
           "Western"
          ],
          [
           "Western"
          ],
          [
           "Western"
          ],
          [
           "Western"
          ],
          [
           "Western"
          ],
          [
           "Western"
          ],
          [
           "Western"
          ],
          [
           "Western"
          ],
          [
           "Western"
          ],
          [
           "Western"
          ],
          [
           "Western"
          ],
          [
           "Western"
          ],
          [
           "Western"
          ],
          [
           "Western"
          ],
          [
           "Western"
          ],
          [
           "Western"
          ],
          [
           "Western"
          ],
          [
           "Western"
          ],
          [
           "Western"
          ],
          [
           "Western"
          ],
          [
           "Western"
          ],
          [
           "Western"
          ],
          [
           "Western"
          ],
          [
           "Western"
          ],
          [
           "Western"
          ],
          [
           "Western"
          ],
          [
           "Western"
          ],
          [
           "Western"
          ],
          [
           "Western"
          ],
          [
           "Western"
          ],
          [
           "Western"
          ],
          [
           "Western"
          ],
          [
           "Western"
          ],
          [
           "Western"
          ],
          [
           "Western"
          ],
          [
           "Western"
          ],
          [
           "Western"
          ],
          [
           "Western"
          ],
          [
           "Western"
          ],
          [
           "Western"
          ],
          [
           "Western"
          ],
          [
           "Western"
          ],
          [
           "Western"
          ],
          [
           "Western"
          ],
          [
           "Western"
          ],
          [
           "Western"
          ],
          [
           "Western"
          ],
          [
           "Western"
          ],
          [
           "Western"
          ],
          [
           "Western"
          ],
          [
           "Western"
          ],
          [
           "Western"
          ],
          [
           "Western"
          ],
          [
           "Western"
          ],
          [
           "Western"
          ],
          [
           "Western"
          ],
          [
           "Western"
          ],
          [
           "Western"
          ],
          [
           "Western"
          ],
          [
           "Western"
          ],
          [
           "Western"
          ],
          [
           "Western"
          ],
          [
           "Western"
          ],
          [
           "Western"
          ],
          [
           "Western"
          ],
          [
           "Western"
          ],
          [
           "Western"
          ],
          [
           "Western"
          ],
          [
           "Western"
          ],
          [
           "Western"
          ],
          [
           "Western"
          ],
          [
           "Western"
          ],
          [
           "Western"
          ],
          [
           "Western"
          ],
          [
           "Western"
          ],
          [
           "Western"
          ],
          [
           "Western"
          ],
          [
           "Western"
          ],
          [
           "Western"
          ],
          [
           "Western"
          ],
          [
           "Western"
          ],
          [
           "Western"
          ],
          [
           "Western"
          ],
          [
           "Western"
          ],
          [
           "Western"
          ],
          [
           "Western"
          ],
          [
           "Western"
          ],
          [
           "Western"
          ],
          [
           "Western"
          ],
          [
           "Western"
          ],
          [
           "Western"
          ],
          [
           "Western"
          ],
          [
           "Western"
          ],
          [
           "Western"
          ],
          [
           "Western"
          ],
          [
           "Western"
          ],
          [
           "Western"
          ],
          [
           "Western"
          ],
          [
           "Western"
          ],
          [
           "Western"
          ],
          [
           "Western"
          ],
          [
           "Western"
          ],
          [
           "Western"
          ],
          [
           "Western"
          ],
          [
           "Western"
          ],
          [
           "Western"
          ],
          [
           "Western"
          ],
          [
           "Western"
          ],
          [
           "Western"
          ],
          [
           "Western"
          ],
          [
           "Western"
          ],
          [
           "Western"
          ],
          [
           "Western"
          ],
          [
           "Western"
          ],
          [
           "Western"
          ],
          [
           "Western"
          ],
          [
           "Western"
          ],
          [
           "Western"
          ],
          [
           "Western"
          ],
          [
           "Western"
          ],
          [
           "Western"
          ],
          [
           "Western"
          ],
          [
           "Western"
          ],
          [
           "Western"
          ],
          [
           "Western"
          ],
          [
           "Western"
          ],
          [
           "Western"
          ],
          [
           "Western"
          ],
          [
           "Western"
          ],
          [
           "Western"
          ],
          [
           "Western"
          ],
          [
           "Western"
          ],
          [
           "Western"
          ],
          [
           "Western"
          ],
          [
           "Western"
          ],
          [
           "Western"
          ],
          [
           "Western"
          ],
          [
           "Western"
          ],
          [
           "Western"
          ],
          [
           "Western"
          ],
          [
           "Western"
          ],
          [
           "Western"
          ],
          [
           "Western"
          ],
          [
           "Western"
          ],
          [
           "Western"
          ],
          [
           "Western"
          ],
          [
           "Western"
          ],
          [
           "Western"
          ],
          [
           "Western"
          ],
          [
           "Western"
          ],
          [
           "Western"
          ],
          [
           "Western"
          ],
          [
           "Western"
          ],
          [
           "Western"
          ],
          [
           "Western"
          ],
          [
           "Western"
          ],
          [
           "Western"
          ],
          [
           "Western"
          ],
          [
           "Western"
          ],
          [
           "Western"
          ],
          [
           "Western"
          ],
          [
           "Western"
          ],
          [
           "Western"
          ],
          [
           "Western"
          ],
          [
           "Western"
          ],
          [
           "Western"
          ],
          [
           "Western"
          ],
          [
           "Western"
          ],
          [
           "Western"
          ],
          [
           "Western"
          ],
          [
           "Western"
          ],
          [
           "Western"
          ],
          [
           "Western"
          ],
          [
           "Western"
          ],
          [
           "Western"
          ],
          [
           "Western"
          ],
          [
           "Western"
          ],
          [
           "Western"
          ],
          [
           "Western"
          ],
          [
           "Western"
          ],
          [
           "Western"
          ],
          [
           "Western"
          ],
          [
           "Western"
          ]
         ],
         "hovertemplate": "<b>%{hovertext}</b><br><br>date_of_admission=%{x}<br>cumsum=%{y}<extra></extra>",
         "hovertext": [
          "Western",
          "Western",
          "Western",
          "Western",
          "Western",
          "Western",
          "Western",
          "Western",
          "Western",
          "Western",
          "Western",
          "Western",
          "Western",
          "Western",
          "Western",
          "Western",
          "Western",
          "Western",
          "Western",
          "Western",
          "Western",
          "Western",
          "Western",
          "Western",
          "Western",
          "Western",
          "Western",
          "Western",
          "Western",
          "Western",
          "Western",
          "Western",
          "Western",
          "Western",
          "Western",
          "Western",
          "Western",
          "Western",
          "Western",
          "Western",
          "Western",
          "Western",
          "Western",
          "Western",
          "Western",
          "Western",
          "Western",
          "Western",
          "Western",
          "Western",
          "Western",
          "Western",
          "Western",
          "Western",
          "Western",
          "Western",
          "Western",
          "Western",
          "Western",
          "Western",
          "Western",
          "Western",
          "Western",
          "Western",
          "Western",
          "Western",
          "Western",
          "Western",
          "Western",
          "Western",
          "Western",
          "Western",
          "Western",
          "Western",
          "Western",
          "Western",
          "Western",
          "Western",
          "Western",
          "Western",
          "Western",
          "Western",
          "Western",
          "Western",
          "Western",
          "Western",
          "Western",
          "Western",
          "Western",
          "Western",
          "Western",
          "Western",
          "Western",
          "Western",
          "Western",
          "Western",
          "Western",
          "Western",
          "Western",
          "Western",
          "Western",
          "Western",
          "Western",
          "Western",
          "Western",
          "Western",
          "Western",
          "Western",
          "Western",
          "Western",
          "Western",
          "Western",
          "Western",
          "Western",
          "Western",
          "Western",
          "Western",
          "Western",
          "Western",
          "Western",
          "Western",
          "Western",
          "Western",
          "Western",
          "Western",
          "Western",
          "Western",
          "Western",
          "Western",
          "Western",
          "Western",
          "Western",
          "Western",
          "Western",
          "Western",
          "Western",
          "Western",
          "Western",
          "Western",
          "Western",
          "Western",
          "Western",
          "Western",
          "Western",
          "Western",
          "Western",
          "Western",
          "Western",
          "Western",
          "Western",
          "Western",
          "Western",
          "Western",
          "Western",
          "Western",
          "Western",
          "Western",
          "Western",
          "Western",
          "Western",
          "Western",
          "Western",
          "Western",
          "Western",
          "Western",
          "Western",
          "Western",
          "Western",
          "Western",
          "Western",
          "Western",
          "Western",
          "Western",
          "Western",
          "Western",
          "Western",
          "Western",
          "Western",
          "Western",
          "Western",
          "Western",
          "Western",
          "Western",
          "Western",
          "Western",
          "Western",
          "Western",
          "Western",
          "Western",
          "Western",
          "Western",
          "Western",
          "Western",
          "Western",
          "Western",
          "Western",
          "Western",
          "Western",
          "Western",
          "Western",
          "Western",
          "Western",
          "Western",
          "Western",
          "Western",
          "Western",
          "Western",
          "Western",
          "Western",
          "Western",
          "Western",
          "Western",
          "Western",
          "Western",
          "Western",
          "Western",
          "Western",
          "Western",
          "Western",
          "Western",
          "Western",
          "Western",
          "Western",
          "Western",
          "Western",
          "Western",
          "Western",
          "Western",
          "Western",
          "Western",
          "Western",
          "Western",
          "Western",
          "Western",
          "Western",
          "Western",
          "Western",
          "Western",
          "Western",
          "Western",
          "Western",
          "Western",
          "Western",
          "Western",
          "Western",
          "Western",
          "Western",
          "Western",
          "Western",
          "Western",
          "Western",
          "Western",
          "Western",
          "Western",
          "Western",
          "Western",
          "Western"
         ],
         "legendgroup": "Western",
         "line": {
          "color": "#794d65",
          "dash": "solid"
         },
         "marker": {
          "symbol": "circle"
         },
         "mode": "lines",
         "name": "Western",
         "orientation": "v",
         "showlegend": true,
         "type": "scatter",
         "x": [
          "2023-01-01T00:00:00",
          "2023-01-02T00:00:00",
          "2023-01-03T00:00:00",
          "2023-01-04T00:00:00",
          "2023-01-05T00:00:00",
          "2023-01-06T00:00:00",
          "2023-01-07T00:00:00",
          "2023-01-08T00:00:00",
          "2023-01-09T00:00:00",
          "2023-01-10T00:00:00",
          "2023-01-11T00:00:00",
          "2023-01-12T00:00:00",
          "2023-01-13T00:00:00",
          "2023-01-14T00:00:00",
          "2023-01-15T00:00:00",
          "2023-01-16T00:00:00",
          "2023-01-17T00:00:00",
          "2023-01-18T00:00:00",
          "2023-01-19T00:00:00",
          "2023-01-20T00:00:00",
          "2023-01-21T00:00:00",
          "2023-01-22T00:00:00",
          "2023-01-23T00:00:00",
          "2023-01-24T00:00:00",
          "2023-01-25T00:00:00",
          "2023-01-26T00:00:00",
          "2023-01-27T00:00:00",
          "2023-01-28T00:00:00",
          "2023-01-29T00:00:00",
          "2023-01-30T00:00:00",
          "2023-01-31T00:00:00",
          "2023-02-01T00:00:00",
          "2023-02-02T00:00:00",
          "2023-02-03T00:00:00",
          "2023-02-04T00:00:00",
          "2023-02-05T00:00:00",
          "2023-02-06T00:00:00",
          "2023-02-07T00:00:00",
          "2023-02-08T00:00:00",
          "2023-02-09T00:00:00",
          "2023-02-10T00:00:00",
          "2023-02-11T00:00:00",
          "2023-02-12T00:00:00",
          "2023-02-13T00:00:00",
          "2023-02-14T00:00:00",
          "2023-02-15T00:00:00",
          "2023-02-16T00:00:00",
          "2023-02-17T00:00:00",
          "2023-02-18T00:00:00",
          "2023-02-19T00:00:00",
          "2023-02-20T00:00:00",
          "2023-02-21T00:00:00",
          "2023-02-22T00:00:00",
          "2023-02-23T00:00:00",
          "2023-02-24T00:00:00",
          "2023-02-25T00:00:00",
          "2023-02-26T00:00:00",
          "2023-02-27T00:00:00",
          "2023-02-28T00:00:00",
          "2023-03-01T00:00:00",
          "2023-03-02T00:00:00",
          "2023-03-03T00:00:00",
          "2023-03-04T00:00:00",
          "2023-03-05T00:00:00",
          "2023-03-06T00:00:00",
          "2023-03-07T00:00:00",
          "2023-03-08T00:00:00",
          "2023-03-09T00:00:00",
          "2023-03-10T00:00:00",
          "2023-03-11T00:00:00",
          "2023-03-12T00:00:00",
          "2023-03-13T00:00:00",
          "2023-03-14T00:00:00",
          "2023-03-15T00:00:00",
          "2023-03-16T00:00:00",
          "2023-03-17T00:00:00",
          "2023-03-18T00:00:00",
          "2023-03-19T00:00:00",
          "2023-03-20T00:00:00",
          "2023-03-21T00:00:00",
          "2023-03-22T00:00:00",
          "2023-03-23T00:00:00",
          "2023-03-24T00:00:00",
          "2023-03-25T00:00:00",
          "2023-03-26T00:00:00",
          "2023-03-27T00:00:00",
          "2023-03-28T00:00:00",
          "2023-03-29T00:00:00",
          "2023-03-30T00:00:00",
          "2023-03-31T00:00:00",
          "2023-04-01T00:00:00",
          "2023-04-02T00:00:00",
          "2023-04-03T00:00:00",
          "2023-04-04T00:00:00",
          "2023-04-05T00:00:00",
          "2023-04-06T00:00:00",
          "2023-04-07T00:00:00",
          "2023-04-08T00:00:00",
          "2023-04-09T00:00:00",
          "2023-04-10T00:00:00",
          "2023-04-11T00:00:00",
          "2023-04-12T00:00:00",
          "2023-04-13T00:00:00",
          "2023-04-14T00:00:00",
          "2023-04-15T00:00:00",
          "2023-04-16T00:00:00",
          "2023-04-17T00:00:00",
          "2023-04-18T00:00:00",
          "2023-04-19T00:00:00",
          "2023-04-20T00:00:00",
          "2023-04-21T00:00:00",
          "2023-04-22T00:00:00",
          "2023-04-23T00:00:00",
          "2023-04-24T00:00:00",
          "2023-04-25T00:00:00",
          "2023-04-26T00:00:00",
          "2023-04-27T00:00:00",
          "2023-04-28T00:00:00",
          "2023-04-29T00:00:00",
          "2023-04-30T00:00:00",
          "2023-05-01T00:00:00",
          "2023-05-02T00:00:00",
          "2023-05-03T00:00:00",
          "2023-05-04T00:00:00",
          "2023-05-05T00:00:00",
          "2023-05-06T00:00:00",
          "2023-05-07T00:00:00",
          "2023-05-08T00:00:00",
          "2023-05-09T00:00:00",
          "2023-05-10T00:00:00",
          "2023-05-11T00:00:00",
          "2023-05-12T00:00:00",
          "2023-05-13T00:00:00",
          "2023-05-14T00:00:00",
          "2023-05-15T00:00:00",
          "2023-05-16T00:00:00",
          "2023-05-17T00:00:00",
          "2023-05-18T00:00:00",
          "2023-05-19T00:00:00",
          "2023-05-20T00:00:00",
          "2023-05-21T00:00:00",
          "2023-05-22T00:00:00",
          "2023-05-23T00:00:00",
          "2023-05-24T00:00:00",
          "2023-05-25T00:00:00",
          "2023-05-26T00:00:00",
          "2023-05-27T00:00:00",
          "2023-05-28T00:00:00",
          "2023-05-29T00:00:00",
          "2023-05-30T00:00:00",
          "2023-05-31T00:00:00",
          "2023-06-01T00:00:00",
          "2023-06-02T00:00:00",
          "2023-06-03T00:00:00",
          "2023-06-04T00:00:00",
          "2023-06-05T00:00:00",
          "2023-06-06T00:00:00",
          "2023-06-07T00:00:00",
          "2023-06-08T00:00:00",
          "2023-06-09T00:00:00",
          "2023-06-10T00:00:00",
          "2023-06-11T00:00:00",
          "2023-06-12T00:00:00",
          "2023-06-13T00:00:00",
          "2023-06-14T00:00:00",
          "2023-06-15T00:00:00",
          "2023-06-16T00:00:00",
          "2023-06-17T00:00:00",
          "2023-06-18T00:00:00",
          "2023-06-19T00:00:00",
          "2023-06-20T00:00:00",
          "2023-06-21T00:00:00",
          "2023-06-22T00:00:00",
          "2023-06-23T00:00:00",
          "2023-06-24T00:00:00",
          "2023-06-25T00:00:00",
          "2023-06-26T00:00:00",
          "2023-06-27T00:00:00",
          "2023-06-28T00:00:00",
          "2023-06-29T00:00:00",
          "2023-06-30T00:00:00",
          "2023-07-01T00:00:00",
          "2023-07-02T00:00:00",
          "2023-07-03T00:00:00",
          "2023-07-04T00:00:00",
          "2023-07-05T00:00:00",
          "2023-07-06T00:00:00",
          "2023-07-07T00:00:00",
          "2023-07-08T00:00:00",
          "2023-07-09T00:00:00",
          "2023-07-10T00:00:00",
          "2023-07-11T00:00:00",
          "2023-07-12T00:00:00",
          "2023-07-13T00:00:00",
          "2023-07-14T00:00:00",
          "2023-07-15T00:00:00",
          "2023-07-16T00:00:00",
          "2023-07-17T00:00:00",
          "2023-07-18T00:00:00",
          "2023-07-19T00:00:00",
          "2023-07-20T00:00:00",
          "2023-07-21T00:00:00",
          "2023-07-22T00:00:00",
          "2023-07-23T00:00:00",
          "2023-07-24T00:00:00",
          "2023-07-25T00:00:00",
          "2023-07-26T00:00:00",
          "2023-07-27T00:00:00",
          "2023-07-28T00:00:00",
          "2023-07-29T00:00:00",
          "2023-07-30T00:00:00",
          "2023-07-31T00:00:00",
          "2023-08-01T00:00:00",
          "2023-08-02T00:00:00",
          "2023-08-03T00:00:00",
          "2023-08-04T00:00:00",
          "2023-08-05T00:00:00",
          "2023-08-06T00:00:00",
          "2023-08-07T00:00:00",
          "2023-08-08T00:00:00",
          "2023-08-09T00:00:00",
          "2023-08-10T00:00:00",
          "2023-08-11T00:00:00",
          "2023-08-12T00:00:00",
          "2023-08-13T00:00:00",
          "2023-08-14T00:00:00",
          "2023-08-15T00:00:00",
          "2023-08-16T00:00:00",
          "2023-08-17T00:00:00",
          "2023-08-18T00:00:00",
          "2023-08-19T00:00:00",
          "2023-08-20T00:00:00",
          "2023-08-21T00:00:00",
          "2023-08-22T00:00:00",
          "2023-08-23T00:00:00",
          "2023-08-24T00:00:00",
          "2023-08-25T00:00:00",
          "2023-08-26T00:00:00",
          "2023-08-27T00:00:00",
          "2023-08-28T00:00:00",
          "2023-08-29T00:00:00",
          "2023-08-30T00:00:00",
          "2023-08-31T00:00:00",
          "2023-09-01T00:00:00",
          "2023-09-02T00:00:00",
          "2023-09-03T00:00:00",
          "2023-09-04T00:00:00",
          "2023-09-05T00:00:00",
          "2023-09-06T00:00:00",
          "2023-09-07T00:00:00",
          "2023-09-08T00:00:00",
          "2023-09-09T00:00:00",
          "2023-09-10T00:00:00",
          "2023-09-11T00:00:00",
          "2023-09-12T00:00:00",
          "2023-09-13T00:00:00",
          "2023-09-14T00:00:00"
         ],
         "xaxis": "x",
         "y": [
          16,
          45,
          84,
          111,
          142,
          178,
          203,
          227,
          264,
          288,
          324,
          359,
          392,
          412,
          430,
          460,
          495,
          526,
          554,
          584,
          606,
          629,
          666,
          704,
          734,
          778,
          808,
          827,
          845,
          867,
          897,
          921,
          950,
          971,
          993,
          1018,
          1056,
          1095,
          1118,
          1153,
          1176,
          1191,
          1207,
          1239,
          1272,
          1300,
          1328,
          1356,
          1377,
          1400,
          1440,
          1465,
          1488,
          1513,
          1527,
          1544,
          1563,
          1583,
          1617,
          1648,
          1676,
          1704,
          1727,
          1763,
          1809,
          1843,
          1877,
          1901,
          1924,
          1945,
          1971,
          2006,
          2027,
          2064,
          2102,
          2130,
          2155,
          2178,
          2222,
          2248,
          2280,
          2304,
          2334,
          2355,
          2372,
          2404,
          2441,
          2475,
          2499,
          2535,
          2579,
          2620,
          2687,
          2754,
          2802,
          2846,
          2901,
          2947,
          3002,
          3061,
          3112,
          3167,
          3215,
          3272,
          3325,
          3361,
          3426,
          3487,
          3545,
          3593,
          3634,
          3668,
          3704,
          3764,
          3807,
          3865,
          3925,
          3961,
          3997,
          4037,
          4087,
          4145,
          4204,
          4246,
          4314,
          4360,
          4400,
          4465,
          4523,
          4575,
          4626,
          4683,
          4734,
          4773,
          4841,
          4908,
          4972,
          5009,
          5067,
          5119,
          5170,
          5232,
          5276,
          5348,
          5402,
          5447,
          5496,
          5543,
          5601,
          5657,
          5725,
          5777,
          5839,
          5901,
          5954,
          6024,
          6092,
          6148,
          6205,
          6260,
          6308,
          6360,
          6424,
          6489,
          6540,
          6602,
          6677,
          6717,
          6768,
          6834,
          6897,
          6956,
          7015,
          7074,
          7114,
          7151,
          7244,
          7294,
          7342,
          7386,
          7441,
          7492,
          7539,
          7600,
          7657,
          7731,
          7781,
          7824,
          7865,
          7910,
          7965,
          8026,
          8057,
          8101,
          8154,
          8190,
          8231,
          8263,
          8315,
          8345,
          8391,
          8427,
          8470,
          8505,
          8568,
          8625,
          8681,
          8750,
          8806,
          8847,
          8890,
          8937,
          8978,
          9022,
          9071,
          9122,
          9156,
          9204,
          9286,
          9349,
          9409,
          9452,
          9500,
          9547,
          9576,
          9625,
          9696,
          9762,
          9807,
          9850,
          9889,
          9915,
          9976,
          10028,
          10088,
          10130,
          10159,
          10196,
          10220,
          10269,
          10299,
          10342,
          10378,
          10422,
          10454,
          10483,
          10524,
          10558,
          10576,
          10597,
          10618,
          10633,
          10649,
          10657,
          10663,
          10664,
          10666
         ],
         "yaxis": "y"
        }
       ],
       "layout": {
        "legend": {
         "orientation": "h",
         "title": {},
         "tracegroupgap": 0,
         "x": 1,
         "xanchor": "right",
         "y": 1.2,
         "yanchor": "top"
        },
        "margin": {
         "b": 5,
         "l": 10,
         "r": 10,
         "t": 5
        },
        "template": {
         "data": {
          "bar": [
           {
            "error_x": {
             "color": "#2a3f5f"
            },
            "error_y": {
             "color": "#2a3f5f"
            },
            "marker": {
             "line": {
              "color": "white",
              "width": 0.5
             },
             "pattern": {
              "fillmode": "overlay",
              "size": 10,
              "solidity": 0.2
             }
            },
            "type": "bar"
           }
          ],
          "barpolar": [
           {
            "marker": {
             "line": {
              "color": "white",
              "width": 0.5
             },
             "pattern": {
              "fillmode": "overlay",
              "size": 10,
              "solidity": 0.2
             }
            },
            "type": "barpolar"
           }
          ],
          "carpet": [
           {
            "aaxis": {
             "endlinecolor": "#2a3f5f",
             "gridcolor": "#C8D4E3",
             "linecolor": "#C8D4E3",
             "minorgridcolor": "#C8D4E3",
             "startlinecolor": "#2a3f5f"
            },
            "baxis": {
             "endlinecolor": "#2a3f5f",
             "gridcolor": "#C8D4E3",
             "linecolor": "#C8D4E3",
             "minorgridcolor": "#C8D4E3",
             "startlinecolor": "#2a3f5f"
            },
            "type": "carpet"
           }
          ],
          "choropleth": [
           {
            "colorbar": {
             "outlinewidth": 0,
             "ticks": ""
            },
            "type": "choropleth"
           }
          ],
          "contour": [
           {
            "colorbar": {
             "outlinewidth": 0,
             "ticks": ""
            },
            "colorscale": [
             [
              0,
              "#0d0887"
             ],
             [
              0.1111111111111111,
              "#46039f"
             ],
             [
              0.2222222222222222,
              "#7201a8"
             ],
             [
              0.3333333333333333,
              "#9c179e"
             ],
             [
              0.4444444444444444,
              "#bd3786"
             ],
             [
              0.5555555555555556,
              "#d8576b"
             ],
             [
              0.6666666666666666,
              "#ed7953"
             ],
             [
              0.7777777777777778,
              "#fb9f3a"
             ],
             [
              0.8888888888888888,
              "#fdca26"
             ],
             [
              1,
              "#f0f921"
             ]
            ],
            "type": "contour"
           }
          ],
          "contourcarpet": [
           {
            "colorbar": {
             "outlinewidth": 0,
             "ticks": ""
            },
            "type": "contourcarpet"
           }
          ],
          "heatmap": [
           {
            "colorbar": {
             "outlinewidth": 0,
             "ticks": ""
            },
            "colorscale": [
             [
              0,
              "#0d0887"
             ],
             [
              0.1111111111111111,
              "#46039f"
             ],
             [
              0.2222222222222222,
              "#7201a8"
             ],
             [
              0.3333333333333333,
              "#9c179e"
             ],
             [
              0.4444444444444444,
              "#bd3786"
             ],
             [
              0.5555555555555556,
              "#d8576b"
             ],
             [
              0.6666666666666666,
              "#ed7953"
             ],
             [
              0.7777777777777778,
              "#fb9f3a"
             ],
             [
              0.8888888888888888,
              "#fdca26"
             ],
             [
              1,
              "#f0f921"
             ]
            ],
            "type": "heatmap"
           }
          ],
          "heatmapgl": [
           {
            "colorbar": {
             "outlinewidth": 0,
             "ticks": ""
            },
            "colorscale": [
             [
              0,
              "#0d0887"
             ],
             [
              0.1111111111111111,
              "#46039f"
             ],
             [
              0.2222222222222222,
              "#7201a8"
             ],
             [
              0.3333333333333333,
              "#9c179e"
             ],
             [
              0.4444444444444444,
              "#bd3786"
             ],
             [
              0.5555555555555556,
              "#d8576b"
             ],
             [
              0.6666666666666666,
              "#ed7953"
             ],
             [
              0.7777777777777778,
              "#fb9f3a"
             ],
             [
              0.8888888888888888,
              "#fdca26"
             ],
             [
              1,
              "#f0f921"
             ]
            ],
            "type": "heatmapgl"
           }
          ],
          "histogram": [
           {
            "marker": {
             "pattern": {
              "fillmode": "overlay",
              "size": 10,
              "solidity": 0.2
             }
            },
            "type": "histogram"
           }
          ],
          "histogram2d": [
           {
            "colorbar": {
             "outlinewidth": 0,
             "ticks": ""
            },
            "colorscale": [
             [
              0,
              "#0d0887"
             ],
             [
              0.1111111111111111,
              "#46039f"
             ],
             [
              0.2222222222222222,
              "#7201a8"
             ],
             [
              0.3333333333333333,
              "#9c179e"
             ],
             [
              0.4444444444444444,
              "#bd3786"
             ],
             [
              0.5555555555555556,
              "#d8576b"
             ],
             [
              0.6666666666666666,
              "#ed7953"
             ],
             [
              0.7777777777777778,
              "#fb9f3a"
             ],
             [
              0.8888888888888888,
              "#fdca26"
             ],
             [
              1,
              "#f0f921"
             ]
            ],
            "type": "histogram2d"
           }
          ],
          "histogram2dcontour": [
           {
            "colorbar": {
             "outlinewidth": 0,
             "ticks": ""
            },
            "colorscale": [
             [
              0,
              "#0d0887"
             ],
             [
              0.1111111111111111,
              "#46039f"
             ],
             [
              0.2222222222222222,
              "#7201a8"
             ],
             [
              0.3333333333333333,
              "#9c179e"
             ],
             [
              0.4444444444444444,
              "#bd3786"
             ],
             [
              0.5555555555555556,
              "#d8576b"
             ],
             [
              0.6666666666666666,
              "#ed7953"
             ],
             [
              0.7777777777777778,
              "#fb9f3a"
             ],
             [
              0.8888888888888888,
              "#fdca26"
             ],
             [
              1,
              "#f0f921"
             ]
            ],
            "type": "histogram2dcontour"
           }
          ],
          "mesh3d": [
           {
            "colorbar": {
             "outlinewidth": 0,
             "ticks": ""
            },
            "type": "mesh3d"
           }
          ],
          "parcoords": [
           {
            "line": {
             "colorbar": {
              "outlinewidth": 0,
              "ticks": ""
             }
            },
            "type": "parcoords"
           }
          ],
          "pie": [
           {
            "automargin": true,
            "type": "pie"
           }
          ],
          "scatter": [
           {
            "marker": {
             "line": {
              "color": "#fff"
             }
            },
            "type": "scatter"
           }
          ],
          "scatter3d": [
           {
            "line": {
             "colorbar": {
              "outlinewidth": 0,
              "ticks": ""
             }
            },
            "marker": {
             "colorbar": {
              "outlinewidth": 0,
              "ticks": ""
             }
            },
            "type": "scatter3d"
           }
          ],
          "scattercarpet": [
           {
            "marker": {
             "colorbar": {
              "outlinewidth": 0,
              "ticks": ""
             }
            },
            "type": "scattercarpet"
           }
          ],
          "scattergeo": [
           {
            "marker": {
             "colorbar": {
              "outlinewidth": 0,
              "ticks": ""
             }
            },
            "type": "scattergeo"
           }
          ],
          "scattergl": [
           {
            "marker": {
             "line": {
              "color": "#fff"
             }
            },
            "type": "scattergl"
           }
          ],
          "scattermapbox": [
           {
            "marker": {
             "colorbar": {
              "outlinewidth": 0,
              "ticks": ""
             }
            },
            "type": "scattermapbox"
           }
          ],
          "scatterpolar": [
           {
            "marker": {
             "colorbar": {
              "outlinewidth": 0,
              "ticks": ""
             }
            },
            "type": "scatterpolar"
           }
          ],
          "scatterpolargl": [
           {
            "marker": {
             "colorbar": {
              "outlinewidth": 0,
              "ticks": ""
             }
            },
            "type": "scatterpolargl"
           }
          ],
          "scatterternary": [
           {
            "marker": {
             "colorbar": {
              "outlinewidth": 0,
              "ticks": ""
             }
            },
            "type": "scatterternary"
           }
          ],
          "surface": [
           {
            "colorbar": {
             "outlinewidth": 0,
             "ticks": ""
            },
            "colorscale": [
             [
              0,
              "#0d0887"
             ],
             [
              0.1111111111111111,
              "#46039f"
             ],
             [
              0.2222222222222222,
              "#7201a8"
             ],
             [
              0.3333333333333333,
              "#9c179e"
             ],
             [
              0.4444444444444444,
              "#bd3786"
             ],
             [
              0.5555555555555556,
              "#d8576b"
             ],
             [
              0.6666666666666666,
              "#ed7953"
             ],
             [
              0.7777777777777778,
              "#fb9f3a"
             ],
             [
              0.8888888888888888,
              "#fdca26"
             ],
             [
              1,
              "#f0f921"
             ]
            ],
            "type": "surface"
           }
          ],
          "table": [
           {
            "cells": {
             "fill": {
              "color": "#EBF0F8"
             },
             "line": {
              "color": "white"
             }
            },
            "header": {
             "fill": {
              "color": "#C8D4E3"
             },
             "line": {
              "color": "white"
             }
            },
            "type": "table"
           }
          ]
         },
         "layout": {
          "annotationdefaults": {
           "arrowcolor": "#2a3f5f",
           "arrowhead": 0,
           "arrowwidth": 1,
           "font": {
            "color": "#212529"
           }
          },
          "autotypenumbers": "strict",
          "coloraxis": {
           "colorbar": {
            "outlinewidth": 0,
            "ticks": ""
           }
          },
          "colorscale": {
           "diverging": [
            [
             0,
             "#8e0152"
            ],
            [
             0.1,
             "#c51b7d"
            ],
            [
             0.2,
             "#de77ae"
            ],
            [
             0.3,
             "#f1b6da"
            ],
            [
             0.4,
             "#fde0ef"
            ],
            [
             0.5,
             "#f7f7f7"
            ],
            [
             0.6,
             "#e6f5d0"
            ],
            [
             0.7,
             "#b8e186"
            ],
            [
             0.8,
             "#7fbc41"
            ],
            [
             0.9,
             "#4d9221"
            ],
            [
             1,
             "#276419"
            ]
           ],
           "sequential": [
            [
             0,
             "#333333"
            ],
            [
             0.1,
             "#4a393a"
            ],
            [
             0.2,
             "#613f40"
            ],
            [
             0.30000000000000004,
             "#784547"
            ],
            [
             0.4,
             "#8f4c4e"
            ],
            [
             0.5,
             "#a55254"
            ],
            [
             0.6000000000000001,
             "#bc585b"
            ],
            [
             0.7000000000000001,
             "#d35e62"
            ],
            [
             0.8,
             "#ea6469"
            ],
            [
             0.9,
             "#ff6a6f"
            ],
            [
             1,
             "#ff7176"
            ]
           ],
           "sequentialminus": [
            [
             0,
             "#0d0887"
            ],
            [
             0.1111111111111111,
             "#46039f"
            ],
            [
             0.2222222222222222,
             "#7201a8"
            ],
            [
             0.3333333333333333,
             "#9c179e"
            ],
            [
             0.4444444444444444,
             "#bd3786"
            ],
            [
             0.5555555555555556,
             "#d8576b"
            ],
            [
             0.6666666666666666,
             "#ed7953"
            ],
            [
             0.7777777777777778,
             "#fb9f3a"
            ],
            [
             0.8888888888888888,
             "#fdca26"
            ],
            [
             1,
             "#f0f921"
            ]
           ]
          },
          "colorway": [
           "#585858",
           "#d93446",
           "#00801d",
           "#f7c200",
           "#48b1c7"
          ],
          "font": {
           "color": "#212529",
           "family": "Neucha,-apple-system,system-ui,BlinkMacSystemFont,\"Segoe UI\",Roboto,\"Helvetica Neue\",Arial,sans-serif"
          },
          "geo": {
           "bgcolor": "#fff",
           "lakecolor": "#fff",
           "landcolor": "#fff",
           "showlakes": true,
           "showland": true,
           "subunitcolor": "#C8D4E3"
          },
          "hoverlabel": {
           "align": "left",
           "font": {
            "family": "Neucha,-apple-system,system-ui,BlinkMacSystemFont,\"Segoe UI\",Roboto,\"Helvetica Neue\",Arial,sans-serif"
           }
          },
          "hovermode": "closest",
          "mapbox": {
           "style": "light"
          },
          "paper_bgcolor": "#ffffff",
          "piecolorway": [
           "#585858",
           "#d93446",
           "#00801d",
           "#f7c200",
           "#48b1c7"
          ],
          "plot_bgcolor": "#fff",
          "polar": {
           "angularaxis": {
            "gridcolor": "#EBF0F8",
            "linecolor": "#EBF0F8",
            "ticks": ""
           },
           "bgcolor": "white",
           "radialaxis": {
            "gridcolor": "#EBF0F8",
            "linecolor": "#EBF0F8",
            "ticks": ""
           }
          },
          "scene": {
           "xaxis": {
            "backgroundcolor": "white",
            "gridcolor": "#DFE8F3",
            "gridwidth": 2,
            "linecolor": "#EBF0F8",
            "showbackground": true,
            "ticks": "",
            "zerolinecolor": "#EBF0F8"
           },
           "yaxis": {
            "backgroundcolor": "white",
            "gridcolor": "#DFE8F3",
            "gridwidth": 2,
            "linecolor": "#EBF0F8",
            "showbackground": true,
            "ticks": "",
            "zerolinecolor": "#EBF0F8"
           },
           "zaxis": {
            "backgroundcolor": "white",
            "gridcolor": "#DFE8F3",
            "gridwidth": 2,
            "linecolor": "#EBF0F8",
            "showbackground": true,
            "ticks": "",
            "zerolinecolor": "#EBF0F8"
           }
          },
          "shapedefaults": {
           "line": {
            "color": "#2a3f5f"
           }
          },
          "ternary": {
           "aaxis": {
            "gridcolor": "#DFE8F3",
            "linecolor": "#A2B1C6",
            "ticks": ""
           },
           "baxis": {
            "gridcolor": "#DFE8F3",
            "linecolor": "#A2B1C6",
            "ticks": ""
           },
           "bgcolor": "white",
           "caxis": {
            "gridcolor": "#DFE8F3",
            "linecolor": "#A2B1C6",
            "ticks": ""
           }
          },
          "title": {
           "x": 0.05
          },
          "xaxis": {
           "automargin": true,
           "gridcolor": "#edeeee",
           "gridwidth": 0.5,
           "linecolor": "#EBF0F8",
           "ticks": "",
           "title": {
            "standoff": 15
           },
           "zerolinecolor": "#edeeee",
           "zerolinewidth": 2
          },
          "yaxis": {
           "automargin": true,
           "gridcolor": "#edeeee",
           "gridwidth": 0.5,
           "linecolor": "#EBF0F8",
           "ticks": "",
           "title": {
            "standoff": 15
           },
           "zerolinecolor": "#edeeee",
           "zerolinewidth": 2
          }
         }
        },
        "xaxis": {
         "anchor": "y",
         "domain": [
          0,
          1
         ],
         "dtick": "M1",
         "linecolor": "gray",
         "range": [
          "2023-01-01",
          "2023-07-01"
         ],
         "tickformat": "%b-%y",
         "ticks": "outside",
         "title": {}
        },
        "yaxis": {
         "anchor": "x",
         "domain": [
          0,
          1
         ],
         "ticks": "outside",
         "title": {}
        }
       }
      },
      "text/html": [
       "<div>                            <div id=\"0b8f8ad8-7096-4f81-ac2f-2d9fe9d0052a\" class=\"plotly-graph-div\" style=\"height:525px; width:100%;\"></div>            <script type=\"text/javascript\">                require([\"plotly\"], function(Plotly) {                    window.PLOTLYENV=window.PLOTLYENV || {};                                    if (document.getElementById(\"0b8f8ad8-7096-4f81-ac2f-2d9fe9d0052a\")) {                    Plotly.newPlot(                        \"0b8f8ad8-7096-4f81-ac2f-2d9fe9d0052a\",                        [{\"customdata\":[[\"Central\"],[\"Central\"],[\"Central\"],[\"Central\"],[\"Central\"],[\"Central\"],[\"Central\"],[\"Central\"],[\"Central\"],[\"Central\"],[\"Central\"],[\"Central\"],[\"Central\"],[\"Central\"],[\"Central\"],[\"Central\"],[\"Central\"],[\"Central\"],[\"Central\"],[\"Central\"],[\"Central\"],[\"Central\"],[\"Central\"],[\"Central\"],[\"Central\"],[\"Central\"],[\"Central\"],[\"Central\"],[\"Central\"],[\"Central\"],[\"Central\"],[\"Central\"],[\"Central\"],[\"Central\"],[\"Central\"],[\"Central\"],[\"Central\"],[\"Central\"],[\"Central\"],[\"Central\"],[\"Central\"],[\"Central\"],[\"Central\"],[\"Central\"],[\"Central\"],[\"Central\"],[\"Central\"],[\"Central\"],[\"Central\"],[\"Central\"],[\"Central\"],[\"Central\"],[\"Central\"],[\"Central\"],[\"Central\"],[\"Central\"],[\"Central\"],[\"Central\"],[\"Central\"],[\"Central\"],[\"Central\"],[\"Central\"],[\"Central\"],[\"Central\"],[\"Central\"],[\"Central\"],[\"Central\"],[\"Central\"],[\"Central\"],[\"Central\"],[\"Central\"],[\"Central\"],[\"Central\"],[\"Central\"],[\"Central\"],[\"Central\"],[\"Central\"],[\"Central\"],[\"Central\"],[\"Central\"],[\"Central\"],[\"Central\"],[\"Central\"],[\"Central\"],[\"Central\"],[\"Central\"],[\"Central\"],[\"Central\"],[\"Central\"],[\"Central\"],[\"Central\"],[\"Central\"],[\"Central\"],[\"Central\"],[\"Central\"],[\"Central\"],[\"Central\"],[\"Central\"],[\"Central\"],[\"Central\"],[\"Central\"],[\"Central\"],[\"Central\"],[\"Central\"],[\"Central\"],[\"Central\"],[\"Central\"],[\"Central\"],[\"Central\"],[\"Central\"],[\"Central\"],[\"Central\"],[\"Central\"],[\"Central\"],[\"Central\"],[\"Central\"],[\"Central\"],[\"Central\"],[\"Central\"],[\"Central\"],[\"Central\"],[\"Central\"],[\"Central\"],[\"Central\"],[\"Central\"],[\"Central\"],[\"Central\"],[\"Central\"],[\"Central\"],[\"Central\"],[\"Central\"],[\"Central\"],[\"Central\"],[\"Central\"],[\"Central\"],[\"Central\"],[\"Central\"],[\"Central\"],[\"Central\"],[\"Central\"],[\"Central\"],[\"Central\"],[\"Central\"],[\"Central\"],[\"Central\"],[\"Central\"],[\"Central\"],[\"Central\"],[\"Central\"],[\"Central\"],[\"Central\"],[\"Central\"],[\"Central\"],[\"Central\"],[\"Central\"],[\"Central\"],[\"Central\"],[\"Central\"],[\"Central\"],[\"Central\"],[\"Central\"],[\"Central\"],[\"Central\"],[\"Central\"],[\"Central\"],[\"Central\"],[\"Central\"],[\"Central\"],[\"Central\"],[\"Central\"],[\"Central\"],[\"Central\"],[\"Central\"],[\"Central\"],[\"Central\"],[\"Central\"],[\"Central\"],[\"Central\"],[\"Central\"],[\"Central\"],[\"Central\"],[\"Central\"],[\"Central\"],[\"Central\"],[\"Central\"],[\"Central\"],[\"Central\"],[\"Central\"],[\"Central\"],[\"Central\"],[\"Central\"],[\"Central\"],[\"Central\"],[\"Central\"],[\"Central\"],[\"Central\"],[\"Central\"],[\"Central\"],[\"Central\"],[\"Central\"],[\"Central\"],[\"Central\"],[\"Central\"],[\"Central\"],[\"Central\"],[\"Central\"],[\"Central\"],[\"Central\"],[\"Central\"],[\"Central\"],[\"Central\"],[\"Central\"],[\"Central\"],[\"Central\"],[\"Central\"],[\"Central\"],[\"Central\"],[\"Central\"],[\"Central\"],[\"Central\"],[\"Central\"],[\"Central\"],[\"Central\"],[\"Central\"],[\"Central\"],[\"Central\"],[\"Central\"],[\"Central\"],[\"Central\"],[\"Central\"],[\"Central\"],[\"Central\"],[\"Central\"],[\"Central\"],[\"Central\"],[\"Central\"],[\"Central\"],[\"Central\"],[\"Central\"],[\"Central\"],[\"Central\"],[\"Central\"],[\"Central\"],[\"Central\"],[\"Central\"],[\"Central\"],[\"Central\"],[\"Central\"],[\"Central\"],[\"Central\"],[\"Central\"],[\"Central\"],[\"Central\"],[\"Central\"],[\"Central\"],[\"Central\"],[\"Central\"]],\"hovertemplate\":\"<b>%{hovertext}</b><br><br>date_of_admission=%{x}<br>cumsum=%{y}<extra></extra>\",\"hovertext\":[\"Central\",\"Central\",\"Central\",\"Central\",\"Central\",\"Central\",\"Central\",\"Central\",\"Central\",\"Central\",\"Central\",\"Central\",\"Central\",\"Central\",\"Central\",\"Central\",\"Central\",\"Central\",\"Central\",\"Central\",\"Central\",\"Central\",\"Central\",\"Central\",\"Central\",\"Central\",\"Central\",\"Central\",\"Central\",\"Central\",\"Central\",\"Central\",\"Central\",\"Central\",\"Central\",\"Central\",\"Central\",\"Central\",\"Central\",\"Central\",\"Central\",\"Central\",\"Central\",\"Central\",\"Central\",\"Central\",\"Central\",\"Central\",\"Central\",\"Central\",\"Central\",\"Central\",\"Central\",\"Central\",\"Central\",\"Central\",\"Central\",\"Central\",\"Central\",\"Central\",\"Central\",\"Central\",\"Central\",\"Central\",\"Central\",\"Central\",\"Central\",\"Central\",\"Central\",\"Central\",\"Central\",\"Central\",\"Central\",\"Central\",\"Central\",\"Central\",\"Central\",\"Central\",\"Central\",\"Central\",\"Central\",\"Central\",\"Central\",\"Central\",\"Central\",\"Central\",\"Central\",\"Central\",\"Central\",\"Central\",\"Central\",\"Central\",\"Central\",\"Central\",\"Central\",\"Central\",\"Central\",\"Central\",\"Central\",\"Central\",\"Central\",\"Central\",\"Central\",\"Central\",\"Central\",\"Central\",\"Central\",\"Central\",\"Central\",\"Central\",\"Central\",\"Central\",\"Central\",\"Central\",\"Central\",\"Central\",\"Central\",\"Central\",\"Central\",\"Central\",\"Central\",\"Central\",\"Central\",\"Central\",\"Central\",\"Central\",\"Central\",\"Central\",\"Central\",\"Central\",\"Central\",\"Central\",\"Central\",\"Central\",\"Central\",\"Central\",\"Central\",\"Central\",\"Central\",\"Central\",\"Central\",\"Central\",\"Central\",\"Central\",\"Central\",\"Central\",\"Central\",\"Central\",\"Central\",\"Central\",\"Central\",\"Central\",\"Central\",\"Central\",\"Central\",\"Central\",\"Central\",\"Central\",\"Central\",\"Central\",\"Central\",\"Central\",\"Central\",\"Central\",\"Central\",\"Central\",\"Central\",\"Central\",\"Central\",\"Central\",\"Central\",\"Central\",\"Central\",\"Central\",\"Central\",\"Central\",\"Central\",\"Central\",\"Central\",\"Central\",\"Central\",\"Central\",\"Central\",\"Central\",\"Central\",\"Central\",\"Central\",\"Central\",\"Central\",\"Central\",\"Central\",\"Central\",\"Central\",\"Central\",\"Central\",\"Central\",\"Central\",\"Central\",\"Central\",\"Central\",\"Central\",\"Central\",\"Central\",\"Central\",\"Central\",\"Central\",\"Central\",\"Central\",\"Central\",\"Central\",\"Central\",\"Central\",\"Central\",\"Central\",\"Central\",\"Central\",\"Central\",\"Central\",\"Central\",\"Central\",\"Central\",\"Central\",\"Central\",\"Central\",\"Central\",\"Central\",\"Central\",\"Central\",\"Central\",\"Central\",\"Central\",\"Central\",\"Central\",\"Central\",\"Central\",\"Central\",\"Central\",\"Central\",\"Central\",\"Central\",\"Central\",\"Central\",\"Central\",\"Central\",\"Central\",\"Central\",\"Central\",\"Central\",\"Central\",\"Central\",\"Central\",\"Central\",\"Central\",\"Central\",\"Central\",\"Central\",\"Central\"],\"legendgroup\":\"Central\",\"line\":{\"color\":\"#794d65\",\"dash\":\"solid\"},\"marker\":{\"symbol\":\"circle\"},\"mode\":\"lines\",\"name\":\"Central\",\"orientation\":\"v\",\"showlegend\":true,\"x\":[\"2023-01-01T00:00:00\",\"2023-01-02T00:00:00\",\"2023-01-03T00:00:00\",\"2023-01-04T00:00:00\",\"2023-01-05T00:00:00\",\"2023-01-06T00:00:00\",\"2023-01-07T00:00:00\",\"2023-01-08T00:00:00\",\"2023-01-09T00:00:00\",\"2023-01-10T00:00:00\",\"2023-01-11T00:00:00\",\"2023-01-12T00:00:00\",\"2023-01-13T00:00:00\",\"2023-01-14T00:00:00\",\"2023-01-15T00:00:00\",\"2023-01-16T00:00:00\",\"2023-01-17T00:00:00\",\"2023-01-18T00:00:00\",\"2023-01-19T00:00:00\",\"2023-01-20T00:00:00\",\"2023-01-21T00:00:00\",\"2023-01-22T00:00:00\",\"2023-01-23T00:00:00\",\"2023-01-24T00:00:00\",\"2023-01-25T00:00:00\",\"2023-01-26T00:00:00\",\"2023-01-27T00:00:00\",\"2023-01-28T00:00:00\",\"2023-01-29T00:00:00\",\"2023-01-30T00:00:00\",\"2023-01-31T00:00:00\",\"2023-02-01T00:00:00\",\"2023-02-02T00:00:00\",\"2023-02-03T00:00:00\",\"2023-02-04T00:00:00\",\"2023-02-05T00:00:00\",\"2023-02-06T00:00:00\",\"2023-02-07T00:00:00\",\"2023-02-08T00:00:00\",\"2023-02-09T00:00:00\",\"2023-02-10T00:00:00\",\"2023-02-11T00:00:00\",\"2023-02-12T00:00:00\",\"2023-02-13T00:00:00\",\"2023-02-14T00:00:00\",\"2023-02-15T00:00:00\",\"2023-02-16T00:00:00\",\"2023-02-17T00:00:00\",\"2023-02-18T00:00:00\",\"2023-02-19T00:00:00\",\"2023-02-20T00:00:00\",\"2023-02-21T00:00:00\",\"2023-02-22T00:00:00\",\"2023-02-23T00:00:00\",\"2023-02-24T00:00:00\",\"2023-02-25T00:00:00\",\"2023-02-26T00:00:00\",\"2023-02-27T00:00:00\",\"2023-02-28T00:00:00\",\"2023-03-01T00:00:00\",\"2023-03-02T00:00:00\",\"2023-03-03T00:00:00\",\"2023-03-04T00:00:00\",\"2023-03-05T00:00:00\",\"2023-03-06T00:00:00\",\"2023-03-07T00:00:00\",\"2023-03-08T00:00:00\",\"2023-03-09T00:00:00\",\"2023-03-10T00:00:00\",\"2023-03-11T00:00:00\",\"2023-03-12T00:00:00\",\"2023-03-13T00:00:00\",\"2023-03-14T00:00:00\",\"2023-03-15T00:00:00\",\"2023-03-16T00:00:00\",\"2023-03-17T00:00:00\",\"2023-03-18T00:00:00\",\"2023-03-19T00:00:00\",\"2023-03-20T00:00:00\",\"2023-03-21T00:00:00\",\"2023-03-22T00:00:00\",\"2023-03-23T00:00:00\",\"2023-03-24T00:00:00\",\"2023-03-25T00:00:00\",\"2023-03-26T00:00:00\",\"2023-03-27T00:00:00\",\"2023-03-28T00:00:00\",\"2023-03-29T00:00:00\",\"2023-03-30T00:00:00\",\"2023-03-31T00:00:00\",\"2023-04-01T00:00:00\",\"2023-04-02T00:00:00\",\"2023-04-03T00:00:00\",\"2023-04-04T00:00:00\",\"2023-04-05T00:00:00\",\"2023-04-06T00:00:00\",\"2023-04-07T00:00:00\",\"2023-04-08T00:00:00\",\"2023-04-09T00:00:00\",\"2023-04-10T00:00:00\",\"2023-04-11T00:00:00\",\"2023-04-12T00:00:00\",\"2023-04-13T00:00:00\",\"2023-04-14T00:00:00\",\"2023-04-15T00:00:00\",\"2023-04-16T00:00:00\",\"2023-04-17T00:00:00\",\"2023-04-18T00:00:00\",\"2023-04-19T00:00:00\",\"2023-04-20T00:00:00\",\"2023-04-21T00:00:00\",\"2023-04-22T00:00:00\",\"2023-04-23T00:00:00\",\"2023-04-24T00:00:00\",\"2023-04-25T00:00:00\",\"2023-04-26T00:00:00\",\"2023-04-27T00:00:00\",\"2023-04-28T00:00:00\",\"2023-04-29T00:00:00\",\"2023-04-30T00:00:00\",\"2023-05-01T00:00:00\",\"2023-05-02T00:00:00\",\"2023-05-03T00:00:00\",\"2023-05-04T00:00:00\",\"2023-05-05T00:00:00\",\"2023-05-06T00:00:00\",\"2023-05-07T00:00:00\",\"2023-05-08T00:00:00\",\"2023-05-09T00:00:00\",\"2023-05-10T00:00:00\",\"2023-05-11T00:00:00\",\"2023-05-12T00:00:00\",\"2023-05-13T00:00:00\",\"2023-05-14T00:00:00\",\"2023-05-15T00:00:00\",\"2023-05-16T00:00:00\",\"2023-05-17T00:00:00\",\"2023-05-18T00:00:00\",\"2023-05-19T00:00:00\",\"2023-05-20T00:00:00\",\"2023-05-21T00:00:00\",\"2023-05-22T00:00:00\",\"2023-05-23T00:00:00\",\"2023-05-24T00:00:00\",\"2023-05-25T00:00:00\",\"2023-05-26T00:00:00\",\"2023-05-27T00:00:00\",\"2023-05-28T00:00:00\",\"2023-05-29T00:00:00\",\"2023-05-30T00:00:00\",\"2023-05-31T00:00:00\",\"2023-06-01T00:00:00\",\"2023-06-02T00:00:00\",\"2023-06-03T00:00:00\",\"2023-06-04T00:00:00\",\"2023-06-05T00:00:00\",\"2023-06-06T00:00:00\",\"2023-06-07T00:00:00\",\"2023-06-08T00:00:00\",\"2023-06-09T00:00:00\",\"2023-06-10T00:00:00\",\"2023-06-11T00:00:00\",\"2023-06-12T00:00:00\",\"2023-06-13T00:00:00\",\"2023-06-14T00:00:00\",\"2023-06-15T00:00:00\",\"2023-06-16T00:00:00\",\"2023-06-17T00:00:00\",\"2023-06-18T00:00:00\",\"2023-06-19T00:00:00\",\"2023-06-20T00:00:00\",\"2023-06-21T00:00:00\",\"2023-06-22T00:00:00\",\"2023-06-23T00:00:00\",\"2023-06-24T00:00:00\",\"2023-06-25T00:00:00\",\"2023-06-26T00:00:00\",\"2023-06-27T00:00:00\",\"2023-06-28T00:00:00\",\"2023-06-29T00:00:00\",\"2023-06-30T00:00:00\",\"2023-07-01T00:00:00\",\"2023-07-02T00:00:00\",\"2023-07-03T00:00:00\",\"2023-07-04T00:00:00\",\"2023-07-05T00:00:00\",\"2023-07-06T00:00:00\",\"2023-07-07T00:00:00\",\"2023-07-08T00:00:00\",\"2023-07-09T00:00:00\",\"2023-07-10T00:00:00\",\"2023-07-11T00:00:00\",\"2023-07-12T00:00:00\",\"2023-07-13T00:00:00\",\"2023-07-14T00:00:00\",\"2023-07-15T00:00:00\",\"2023-07-16T00:00:00\",\"2023-07-17T00:00:00\",\"2023-07-18T00:00:00\",\"2023-07-19T00:00:00\",\"2023-07-20T00:00:00\",\"2023-07-21T00:00:00\",\"2023-07-22T00:00:00\",\"2023-07-23T00:00:00\",\"2023-07-24T00:00:00\",\"2023-07-25T00:00:00\",\"2023-07-26T00:00:00\",\"2023-07-27T00:00:00\",\"2023-07-28T00:00:00\",\"2023-07-29T00:00:00\",\"2023-07-30T00:00:00\",\"2023-07-31T00:00:00\",\"2023-08-01T00:00:00\",\"2023-08-02T00:00:00\",\"2023-08-03T00:00:00\",\"2023-08-04T00:00:00\",\"2023-08-05T00:00:00\",\"2023-08-06T00:00:00\",\"2023-08-07T00:00:00\",\"2023-08-08T00:00:00\",\"2023-08-09T00:00:00\",\"2023-08-10T00:00:00\",\"2023-08-11T00:00:00\",\"2023-08-12T00:00:00\",\"2023-08-13T00:00:00\",\"2023-08-14T00:00:00\",\"2023-08-15T00:00:00\",\"2023-08-16T00:00:00\",\"2023-08-17T00:00:00\",\"2023-08-18T00:00:00\",\"2023-08-19T00:00:00\",\"2023-08-20T00:00:00\",\"2023-08-21T00:00:00\",\"2023-08-22T00:00:00\",\"2023-08-23T00:00:00\",\"2023-08-24T00:00:00\",\"2023-08-25T00:00:00\",\"2023-08-26T00:00:00\",\"2023-08-27T00:00:00\",\"2023-08-28T00:00:00\",\"2023-08-29T00:00:00\",\"2023-08-30T00:00:00\",\"2023-08-31T00:00:00\",\"2023-09-01T00:00:00\",\"2023-09-02T00:00:00\",\"2023-09-03T00:00:00\",\"2023-09-04T00:00:00\",\"2023-09-05T00:00:00\",\"2023-09-06T00:00:00\",\"2023-09-07T00:00:00\",\"2023-09-08T00:00:00\",\"2023-09-09T00:00:00\",\"2023-09-10T00:00:00\",\"2023-09-11T00:00:00\",\"2023-09-12T00:00:00\",\"2023-09-13T00:00:00\",\"2023-09-14T00:00:00\"],\"xaxis\":\"x\",\"y\":[15,28,48,70,90,108,120,133,145,166,182,201,223,241,248,258,275,295,311,325,333,347,360,374,380,392,409,426,441,465,479,492,508,532,538,547,560,574,589,603,609,624,637,654,669,692,711,726,736,757,778,797,819,830,845,858,870,888,906,926,945,969,989,1004,1025,1045,1062,1075,1098,1110,1129,1159,1181,1203,1217,1229,1250,1263,1280,1309,1326,1363,1377,1400,1414,1458,1497,1542,1567,1587,1611,1637,1668,1718,1763,1791,1830,1853,1888,1909,1936,1961,1990,2023,2052,2067,2108,2141,2182,2215,2252,2277,2302,2351,2378,2419,2449,2479,2499,2527,2552,2599,2641,2677,2726,2745,2770,2805,2842,2887,2920,2959,2980,3006,3037,3073,3106,3143,3171,3196,3225,3261,3297,3337,3366,3400,3422,3448,3485,3514,3546,3576,3610,3627,3652,3695,3731,3769,3801,3842,3858,3883,3909,3933,3974,4001,4034,4054,4071,4108,4147,4185,4221,4254,4283,4309,4356,4390,4423,4457,4489,4510,4529,4566,4605,4642,4677,4717,4745,4768,4818,4865,4907,4956,4995,5028,5060,5109,5160,5202,5240,5275,5305,5335,5373,5415,5453,5501,5527,5566,5586,5622,5667,5704,5745,5786,5815,5851,5901,5944,5991,6022,6058,6091,6120,6162,6209,6244,6301,6334,6363,6392,6425,6462,6502,6531,6575,6598,6621,6661,6685,6716,6751,6792,6818,6840,6872,6904,6923,6937,6958,6974,6988,6994,7004,7010,7012],\"yaxis\":\"y\",\"type\":\"scatter\"},{\"customdata\":[[\"Coast\"],[\"Coast\"],[\"Coast\"],[\"Coast\"],[\"Coast\"],[\"Coast\"],[\"Coast\"],[\"Coast\"],[\"Coast\"],[\"Coast\"],[\"Coast\"],[\"Coast\"],[\"Coast\"],[\"Coast\"],[\"Coast\"],[\"Coast\"],[\"Coast\"],[\"Coast\"],[\"Coast\"],[\"Coast\"],[\"Coast\"],[\"Coast\"],[\"Coast\"],[\"Coast\"],[\"Coast\"],[\"Coast\"],[\"Coast\"],[\"Coast\"],[\"Coast\"],[\"Coast\"],[\"Coast\"],[\"Coast\"],[\"Coast\"],[\"Coast\"],[\"Coast\"],[\"Coast\"],[\"Coast\"],[\"Coast\"],[\"Coast\"],[\"Coast\"],[\"Coast\"],[\"Coast\"],[\"Coast\"],[\"Coast\"],[\"Coast\"],[\"Coast\"],[\"Coast\"],[\"Coast\"],[\"Coast\"],[\"Coast\"],[\"Coast\"],[\"Coast\"],[\"Coast\"],[\"Coast\"],[\"Coast\"],[\"Coast\"],[\"Coast\"],[\"Coast\"],[\"Coast\"],[\"Coast\"],[\"Coast\"],[\"Coast\"],[\"Coast\"],[\"Coast\"],[\"Coast\"],[\"Coast\"],[\"Coast\"],[\"Coast\"],[\"Coast\"],[\"Coast\"],[\"Coast\"],[\"Coast\"],[\"Coast\"],[\"Coast\"],[\"Coast\"],[\"Coast\"],[\"Coast\"],[\"Coast\"],[\"Coast\"],[\"Coast\"],[\"Coast\"],[\"Coast\"],[\"Coast\"],[\"Coast\"],[\"Coast\"],[\"Coast\"],[\"Coast\"],[\"Coast\"],[\"Coast\"],[\"Coast\"],[\"Coast\"],[\"Coast\"],[\"Coast\"],[\"Coast\"],[\"Coast\"],[\"Coast\"],[\"Coast\"],[\"Coast\"],[\"Coast\"],[\"Coast\"],[\"Coast\"],[\"Coast\"],[\"Coast\"],[\"Coast\"],[\"Coast\"],[\"Coast\"],[\"Coast\"],[\"Coast\"],[\"Coast\"],[\"Coast\"],[\"Coast\"],[\"Coast\"],[\"Coast\"],[\"Coast\"],[\"Coast\"],[\"Coast\"],[\"Coast\"],[\"Coast\"],[\"Coast\"],[\"Coast\"],[\"Coast\"],[\"Coast\"],[\"Coast\"],[\"Coast\"],[\"Coast\"],[\"Coast\"],[\"Coast\"],[\"Coast\"],[\"Coast\"]],\"hovertemplate\":\"<b>%{hovertext}</b><br><br>date_of_admission=%{x}<br>cumsum=%{y}<extra></extra>\",\"hovertext\":[\"Coast\",\"Coast\",\"Coast\",\"Coast\",\"Coast\",\"Coast\",\"Coast\",\"Coast\",\"Coast\",\"Coast\",\"Coast\",\"Coast\",\"Coast\",\"Coast\",\"Coast\",\"Coast\",\"Coast\",\"Coast\",\"Coast\",\"Coast\",\"Coast\",\"Coast\",\"Coast\",\"Coast\",\"Coast\",\"Coast\",\"Coast\",\"Coast\",\"Coast\",\"Coast\",\"Coast\",\"Coast\",\"Coast\",\"Coast\",\"Coast\",\"Coast\",\"Coast\",\"Coast\",\"Coast\",\"Coast\",\"Coast\",\"Coast\",\"Coast\",\"Coast\",\"Coast\",\"Coast\",\"Coast\",\"Coast\",\"Coast\",\"Coast\",\"Coast\",\"Coast\",\"Coast\",\"Coast\",\"Coast\",\"Coast\",\"Coast\",\"Coast\",\"Coast\",\"Coast\",\"Coast\",\"Coast\",\"Coast\",\"Coast\",\"Coast\",\"Coast\",\"Coast\",\"Coast\",\"Coast\",\"Coast\",\"Coast\",\"Coast\",\"Coast\",\"Coast\",\"Coast\",\"Coast\",\"Coast\",\"Coast\",\"Coast\",\"Coast\",\"Coast\",\"Coast\",\"Coast\",\"Coast\",\"Coast\",\"Coast\",\"Coast\",\"Coast\",\"Coast\",\"Coast\",\"Coast\",\"Coast\",\"Coast\",\"Coast\",\"Coast\",\"Coast\",\"Coast\",\"Coast\",\"Coast\",\"Coast\",\"Coast\",\"Coast\",\"Coast\",\"Coast\",\"Coast\",\"Coast\",\"Coast\",\"Coast\",\"Coast\",\"Coast\",\"Coast\",\"Coast\",\"Coast\",\"Coast\",\"Coast\",\"Coast\",\"Coast\",\"Coast\",\"Coast\",\"Coast\",\"Coast\",\"Coast\",\"Coast\",\"Coast\",\"Coast\",\"Coast\",\"Coast\",\"Coast\",\"Coast\"],\"legendgroup\":\"Coast\",\"line\":{\"color\":\"#c39054\",\"dash\":\"solid\"},\"marker\":{\"symbol\":\"circle\"},\"mode\":\"lines\",\"name\":\"Coast\",\"orientation\":\"v\",\"showlegend\":true,\"x\":[\"2023-01-01T00:00:00\",\"2023-01-02T00:00:00\",\"2023-01-03T00:00:00\",\"2023-01-04T00:00:00\",\"2023-01-05T00:00:00\",\"2023-01-06T00:00:00\",\"2023-01-07T00:00:00\",\"2023-01-08T00:00:00\",\"2023-01-09T00:00:00\",\"2023-01-10T00:00:00\",\"2023-01-11T00:00:00\",\"2023-01-12T00:00:00\",\"2023-01-13T00:00:00\",\"2023-01-14T00:00:00\",\"2023-01-16T00:00:00\",\"2023-01-17T00:00:00\",\"2023-01-18T00:00:00\",\"2023-01-19T00:00:00\",\"2023-01-20T00:00:00\",\"2023-01-21T00:00:00\",\"2023-01-22T00:00:00\",\"2023-01-23T00:00:00\",\"2023-01-24T00:00:00\",\"2023-01-25T00:00:00\",\"2023-01-27T00:00:00\",\"2023-01-28T00:00:00\",\"2023-01-29T00:00:00\",\"2023-01-30T00:00:00\",\"2023-01-31T00:00:00\",\"2023-02-03T00:00:00\",\"2023-02-04T00:00:00\",\"2023-02-08T00:00:00\",\"2023-02-09T00:00:00\",\"2023-02-11T00:00:00\",\"2023-02-12T00:00:00\",\"2023-02-13T00:00:00\",\"2023-02-14T00:00:00\",\"2023-02-15T00:00:00\",\"2023-02-17T00:00:00\",\"2023-02-18T00:00:00\",\"2023-02-19T00:00:00\",\"2023-02-20T00:00:00\",\"2023-02-21T00:00:00\",\"2023-02-23T00:00:00\",\"2023-02-24T00:00:00\",\"2023-02-26T00:00:00\",\"2023-02-28T00:00:00\",\"2023-03-04T00:00:00\",\"2023-03-05T00:00:00\",\"2023-03-07T00:00:00\",\"2023-03-08T00:00:00\",\"2023-03-09T00:00:00\",\"2023-03-11T00:00:00\",\"2023-03-12T00:00:00\",\"2023-03-14T00:00:00\",\"2023-03-15T00:00:00\",\"2023-03-16T00:00:00\",\"2023-03-17T00:00:00\",\"2023-03-18T00:00:00\",\"2023-03-19T00:00:00\",\"2023-03-20T00:00:00\",\"2023-03-21T00:00:00\",\"2023-03-22T00:00:00\",\"2023-03-23T00:00:00\",\"2023-03-24T00:00:00\",\"2023-03-25T00:00:00\",\"2023-03-26T00:00:00\",\"2023-03-27T00:00:00\",\"2023-03-28T00:00:00\",\"2023-03-29T00:00:00\",\"2023-03-30T00:00:00\",\"2023-03-31T00:00:00\",\"2023-04-01T00:00:00\",\"2023-04-02T00:00:00\",\"2023-04-03T00:00:00\",\"2023-04-04T00:00:00\",\"2023-04-05T00:00:00\",\"2023-04-06T00:00:00\",\"2023-04-07T00:00:00\",\"2023-04-08T00:00:00\",\"2023-04-09T00:00:00\",\"2023-04-10T00:00:00\",\"2023-04-11T00:00:00\",\"2023-04-12T00:00:00\",\"2023-04-13T00:00:00\",\"2023-04-14T00:00:00\",\"2023-04-15T00:00:00\",\"2023-04-16T00:00:00\",\"2023-04-17T00:00:00\",\"2023-04-18T00:00:00\",\"2023-04-19T00:00:00\",\"2023-04-20T00:00:00\",\"2023-04-21T00:00:00\",\"2023-04-22T00:00:00\",\"2023-04-23T00:00:00\",\"2023-04-24T00:00:00\",\"2023-04-25T00:00:00\",\"2023-04-26T00:00:00\",\"2023-04-27T00:00:00\",\"2023-04-28T00:00:00\",\"2023-04-29T00:00:00\",\"2023-04-30T00:00:00\",\"2023-05-01T00:00:00\",\"2023-05-02T00:00:00\",\"2023-05-03T00:00:00\",\"2023-05-04T00:00:00\",\"2023-05-05T00:00:00\",\"2023-05-06T00:00:00\",\"2023-05-07T00:00:00\",\"2023-05-08T00:00:00\",\"2023-05-09T00:00:00\",\"2023-05-10T00:00:00\",\"2023-05-11T00:00:00\",\"2023-05-12T00:00:00\",\"2023-05-13T00:00:00\",\"2023-05-14T00:00:00\",\"2023-05-16T00:00:00\",\"2023-05-17T00:00:00\",\"2023-05-18T00:00:00\",\"2023-05-19T00:00:00\",\"2023-05-20T00:00:00\",\"2023-05-21T00:00:00\",\"2023-05-22T00:00:00\",\"2023-05-23T00:00:00\",\"2023-05-25T00:00:00\",\"2023-05-26T00:00:00\",\"2023-05-28T00:00:00\",\"2023-06-01T00:00:00\",\"2023-06-02T00:00:00\"],\"xaxis\":\"x\",\"y\":[2,3,4,9,12,13,14,15,18,21,24,28,32,37,40,42,45,47,48,50,51,52,53,54,55,59,60,63,64,65,66,67,69,71,73,74,76,78,79,80,85,86,87,88,89,90,94,96,98,100,101,105,107,108,110,113,114,115,116,117,118,119,124,125,127,129,131,136,137,141,142,145,149,150,152,155,157,160,163,166,167,169,171,177,182,184,188,192,196,199,205,208,211,212,215,219,223,225,227,229,231,233,236,239,242,248,250,252,257,258,264,266,269,272,274,281,284,287,293,294,295,297,298,300,301,302,304,305,306],\"yaxis\":\"y\",\"type\":\"scatter\"},{\"customdata\":[[\"Western\"],[\"Western\"],[\"Western\"],[\"Western\"],[\"Western\"],[\"Western\"],[\"Western\"],[\"Western\"],[\"Western\"],[\"Western\"],[\"Western\"],[\"Western\"],[\"Western\"],[\"Western\"],[\"Western\"],[\"Western\"],[\"Western\"],[\"Western\"],[\"Western\"],[\"Western\"],[\"Western\"],[\"Western\"],[\"Western\"],[\"Western\"],[\"Western\"],[\"Western\"],[\"Western\"],[\"Western\"],[\"Western\"],[\"Western\"],[\"Western\"],[\"Western\"],[\"Western\"],[\"Western\"],[\"Western\"],[\"Western\"],[\"Western\"],[\"Western\"],[\"Western\"],[\"Western\"],[\"Western\"],[\"Western\"],[\"Western\"],[\"Western\"],[\"Western\"],[\"Western\"],[\"Western\"],[\"Western\"],[\"Western\"],[\"Western\"],[\"Western\"],[\"Western\"],[\"Western\"],[\"Western\"],[\"Western\"],[\"Western\"],[\"Western\"],[\"Western\"],[\"Western\"],[\"Western\"],[\"Western\"],[\"Western\"],[\"Western\"],[\"Western\"],[\"Western\"],[\"Western\"],[\"Western\"],[\"Western\"],[\"Western\"],[\"Western\"],[\"Western\"],[\"Western\"],[\"Western\"],[\"Western\"],[\"Western\"],[\"Western\"],[\"Western\"],[\"Western\"],[\"Western\"],[\"Western\"],[\"Western\"],[\"Western\"],[\"Western\"],[\"Western\"],[\"Western\"],[\"Western\"],[\"Western\"],[\"Western\"],[\"Western\"],[\"Western\"],[\"Western\"],[\"Western\"],[\"Western\"],[\"Western\"],[\"Western\"],[\"Western\"],[\"Western\"],[\"Western\"],[\"Western\"],[\"Western\"],[\"Western\"],[\"Western\"],[\"Western\"],[\"Western\"],[\"Western\"],[\"Western\"],[\"Western\"],[\"Western\"],[\"Western\"],[\"Western\"],[\"Western\"],[\"Western\"],[\"Western\"],[\"Western\"],[\"Western\"],[\"Western\"],[\"Western\"],[\"Western\"],[\"Western\"],[\"Western\"],[\"Western\"],[\"Western\"],[\"Western\"],[\"Western\"],[\"Western\"],[\"Western\"],[\"Western\"],[\"Western\"],[\"Western\"],[\"Western\"],[\"Western\"],[\"Western\"],[\"Western\"],[\"Western\"],[\"Western\"],[\"Western\"],[\"Western\"],[\"Western\"],[\"Western\"],[\"Western\"],[\"Western\"],[\"Western\"],[\"Western\"],[\"Western\"],[\"Western\"],[\"Western\"],[\"Western\"],[\"Western\"],[\"Western\"],[\"Western\"],[\"Western\"],[\"Western\"],[\"Western\"],[\"Western\"],[\"Western\"],[\"Western\"],[\"Western\"],[\"Western\"],[\"Western\"],[\"Western\"],[\"Western\"],[\"Western\"],[\"Western\"],[\"Western\"],[\"Western\"],[\"Western\"],[\"Western\"],[\"Western\"],[\"Western\"],[\"Western\"],[\"Western\"],[\"Western\"],[\"Western\"],[\"Western\"],[\"Western\"],[\"Western\"],[\"Western\"],[\"Western\"],[\"Western\"],[\"Western\"],[\"Western\"],[\"Western\"],[\"Western\"],[\"Western\"],[\"Western\"],[\"Western\"],[\"Western\"],[\"Western\"],[\"Western\"],[\"Western\"],[\"Western\"],[\"Western\"],[\"Western\"],[\"Western\"],[\"Western\"],[\"Western\"],[\"Western\"],[\"Western\"],[\"Western\"],[\"Western\"],[\"Western\"],[\"Western\"],[\"Western\"],[\"Western\"],[\"Western\"],[\"Western\"],[\"Western\"],[\"Western\"],[\"Western\"],[\"Western\"],[\"Western\"],[\"Western\"],[\"Western\"],[\"Western\"],[\"Western\"],[\"Western\"],[\"Western\"],[\"Western\"],[\"Western\"],[\"Western\"],[\"Western\"],[\"Western\"],[\"Western\"],[\"Western\"],[\"Western\"],[\"Western\"],[\"Western\"],[\"Western\"],[\"Western\"],[\"Western\"],[\"Western\"],[\"Western\"],[\"Western\"],[\"Western\"],[\"Western\"],[\"Western\"],[\"Western\"],[\"Western\"],[\"Western\"],[\"Western\"],[\"Western\"],[\"Western\"],[\"Western\"],[\"Western\"],[\"Western\"],[\"Western\"],[\"Western\"],[\"Western\"],[\"Western\"],[\"Western\"],[\"Western\"],[\"Western\"],[\"Western\"],[\"Western\"],[\"Western\"],[\"Western\"],[\"Western\"]],\"hovertemplate\":\"<b>%{hovertext}</b><br><br>date_of_admission=%{x}<br>cumsum=%{y}<extra></extra>\",\"hovertext\":[\"Western\",\"Western\",\"Western\",\"Western\",\"Western\",\"Western\",\"Western\",\"Western\",\"Western\",\"Western\",\"Western\",\"Western\",\"Western\",\"Western\",\"Western\",\"Western\",\"Western\",\"Western\",\"Western\",\"Western\",\"Western\",\"Western\",\"Western\",\"Western\",\"Western\",\"Western\",\"Western\",\"Western\",\"Western\",\"Western\",\"Western\",\"Western\",\"Western\",\"Western\",\"Western\",\"Western\",\"Western\",\"Western\",\"Western\",\"Western\",\"Western\",\"Western\",\"Western\",\"Western\",\"Western\",\"Western\",\"Western\",\"Western\",\"Western\",\"Western\",\"Western\",\"Western\",\"Western\",\"Western\",\"Western\",\"Western\",\"Western\",\"Western\",\"Western\",\"Western\",\"Western\",\"Western\",\"Western\",\"Western\",\"Western\",\"Western\",\"Western\",\"Western\",\"Western\",\"Western\",\"Western\",\"Western\",\"Western\",\"Western\",\"Western\",\"Western\",\"Western\",\"Western\",\"Western\",\"Western\",\"Western\",\"Western\",\"Western\",\"Western\",\"Western\",\"Western\",\"Western\",\"Western\",\"Western\",\"Western\",\"Western\",\"Western\",\"Western\",\"Western\",\"Western\",\"Western\",\"Western\",\"Western\",\"Western\",\"Western\",\"Western\",\"Western\",\"Western\",\"Western\",\"Western\",\"Western\",\"Western\",\"Western\",\"Western\",\"Western\",\"Western\",\"Western\",\"Western\",\"Western\",\"Western\",\"Western\",\"Western\",\"Western\",\"Western\",\"Western\",\"Western\",\"Western\",\"Western\",\"Western\",\"Western\",\"Western\",\"Western\",\"Western\",\"Western\",\"Western\",\"Western\",\"Western\",\"Western\",\"Western\",\"Western\",\"Western\",\"Western\",\"Western\",\"Western\",\"Western\",\"Western\",\"Western\",\"Western\",\"Western\",\"Western\",\"Western\",\"Western\",\"Western\",\"Western\",\"Western\",\"Western\",\"Western\",\"Western\",\"Western\",\"Western\",\"Western\",\"Western\",\"Western\",\"Western\",\"Western\",\"Western\",\"Western\",\"Western\",\"Western\",\"Western\",\"Western\",\"Western\",\"Western\",\"Western\",\"Western\",\"Western\",\"Western\",\"Western\",\"Western\",\"Western\",\"Western\",\"Western\",\"Western\",\"Western\",\"Western\",\"Western\",\"Western\",\"Western\",\"Western\",\"Western\",\"Western\",\"Western\",\"Western\",\"Western\",\"Western\",\"Western\",\"Western\",\"Western\",\"Western\",\"Western\",\"Western\",\"Western\",\"Western\",\"Western\",\"Western\",\"Western\",\"Western\",\"Western\",\"Western\",\"Western\",\"Western\",\"Western\",\"Western\",\"Western\",\"Western\",\"Western\",\"Western\",\"Western\",\"Western\",\"Western\",\"Western\",\"Western\",\"Western\",\"Western\",\"Western\",\"Western\",\"Western\",\"Western\",\"Western\",\"Western\",\"Western\",\"Western\",\"Western\",\"Western\",\"Western\",\"Western\",\"Western\",\"Western\",\"Western\",\"Western\",\"Western\",\"Western\",\"Western\",\"Western\",\"Western\",\"Western\",\"Western\",\"Western\",\"Western\",\"Western\",\"Western\",\"Western\",\"Western\",\"Western\",\"Western\",\"Western\",\"Western\",\"Western\",\"Western\",\"Western\",\"Western\",\"Western\"],\"legendgroup\":\"Western\",\"line\":{\"color\":\"#794d65\",\"dash\":\"solid\"},\"marker\":{\"symbol\":\"circle\"},\"mode\":\"lines\",\"name\":\"Western\",\"orientation\":\"v\",\"showlegend\":true,\"x\":[\"2023-01-01T00:00:00\",\"2023-01-02T00:00:00\",\"2023-01-03T00:00:00\",\"2023-01-04T00:00:00\",\"2023-01-05T00:00:00\",\"2023-01-06T00:00:00\",\"2023-01-07T00:00:00\",\"2023-01-08T00:00:00\",\"2023-01-09T00:00:00\",\"2023-01-10T00:00:00\",\"2023-01-11T00:00:00\",\"2023-01-12T00:00:00\",\"2023-01-13T00:00:00\",\"2023-01-14T00:00:00\",\"2023-01-15T00:00:00\",\"2023-01-16T00:00:00\",\"2023-01-17T00:00:00\",\"2023-01-18T00:00:00\",\"2023-01-19T00:00:00\",\"2023-01-20T00:00:00\",\"2023-01-21T00:00:00\",\"2023-01-22T00:00:00\",\"2023-01-23T00:00:00\",\"2023-01-24T00:00:00\",\"2023-01-25T00:00:00\",\"2023-01-26T00:00:00\",\"2023-01-27T00:00:00\",\"2023-01-28T00:00:00\",\"2023-01-29T00:00:00\",\"2023-01-30T00:00:00\",\"2023-01-31T00:00:00\",\"2023-02-01T00:00:00\",\"2023-02-02T00:00:00\",\"2023-02-03T00:00:00\",\"2023-02-04T00:00:00\",\"2023-02-05T00:00:00\",\"2023-02-06T00:00:00\",\"2023-02-07T00:00:00\",\"2023-02-08T00:00:00\",\"2023-02-09T00:00:00\",\"2023-02-10T00:00:00\",\"2023-02-11T00:00:00\",\"2023-02-12T00:00:00\",\"2023-02-13T00:00:00\",\"2023-02-14T00:00:00\",\"2023-02-15T00:00:00\",\"2023-02-16T00:00:00\",\"2023-02-17T00:00:00\",\"2023-02-18T00:00:00\",\"2023-02-19T00:00:00\",\"2023-02-20T00:00:00\",\"2023-02-21T00:00:00\",\"2023-02-22T00:00:00\",\"2023-02-23T00:00:00\",\"2023-02-24T00:00:00\",\"2023-02-25T00:00:00\",\"2023-02-26T00:00:00\",\"2023-02-27T00:00:00\",\"2023-02-28T00:00:00\",\"2023-03-01T00:00:00\",\"2023-03-02T00:00:00\",\"2023-03-03T00:00:00\",\"2023-03-04T00:00:00\",\"2023-03-05T00:00:00\",\"2023-03-06T00:00:00\",\"2023-03-07T00:00:00\",\"2023-03-08T00:00:00\",\"2023-03-09T00:00:00\",\"2023-03-10T00:00:00\",\"2023-03-11T00:00:00\",\"2023-03-12T00:00:00\",\"2023-03-13T00:00:00\",\"2023-03-14T00:00:00\",\"2023-03-15T00:00:00\",\"2023-03-16T00:00:00\",\"2023-03-17T00:00:00\",\"2023-03-18T00:00:00\",\"2023-03-19T00:00:00\",\"2023-03-20T00:00:00\",\"2023-03-21T00:00:00\",\"2023-03-22T00:00:00\",\"2023-03-23T00:00:00\",\"2023-03-24T00:00:00\",\"2023-03-25T00:00:00\",\"2023-03-26T00:00:00\",\"2023-03-27T00:00:00\",\"2023-03-28T00:00:00\",\"2023-03-29T00:00:00\",\"2023-03-30T00:00:00\",\"2023-03-31T00:00:00\",\"2023-04-01T00:00:00\",\"2023-04-02T00:00:00\",\"2023-04-03T00:00:00\",\"2023-04-04T00:00:00\",\"2023-04-05T00:00:00\",\"2023-04-06T00:00:00\",\"2023-04-07T00:00:00\",\"2023-04-08T00:00:00\",\"2023-04-09T00:00:00\",\"2023-04-10T00:00:00\",\"2023-04-11T00:00:00\",\"2023-04-12T00:00:00\",\"2023-04-13T00:00:00\",\"2023-04-14T00:00:00\",\"2023-04-15T00:00:00\",\"2023-04-16T00:00:00\",\"2023-04-17T00:00:00\",\"2023-04-18T00:00:00\",\"2023-04-19T00:00:00\",\"2023-04-20T00:00:00\",\"2023-04-21T00:00:00\",\"2023-04-22T00:00:00\",\"2023-04-23T00:00:00\",\"2023-04-24T00:00:00\",\"2023-04-25T00:00:00\",\"2023-04-26T00:00:00\",\"2023-04-27T00:00:00\",\"2023-04-28T00:00:00\",\"2023-04-29T00:00:00\",\"2023-04-30T00:00:00\",\"2023-05-01T00:00:00\",\"2023-05-02T00:00:00\",\"2023-05-03T00:00:00\",\"2023-05-04T00:00:00\",\"2023-05-05T00:00:00\",\"2023-05-06T00:00:00\",\"2023-05-07T00:00:00\",\"2023-05-08T00:00:00\",\"2023-05-09T00:00:00\",\"2023-05-10T00:00:00\",\"2023-05-11T00:00:00\",\"2023-05-12T00:00:00\",\"2023-05-13T00:00:00\",\"2023-05-14T00:00:00\",\"2023-05-15T00:00:00\",\"2023-05-16T00:00:00\",\"2023-05-17T00:00:00\",\"2023-05-18T00:00:00\",\"2023-05-19T00:00:00\",\"2023-05-20T00:00:00\",\"2023-05-21T00:00:00\",\"2023-05-22T00:00:00\",\"2023-05-23T00:00:00\",\"2023-05-24T00:00:00\",\"2023-05-25T00:00:00\",\"2023-05-26T00:00:00\",\"2023-05-27T00:00:00\",\"2023-05-28T00:00:00\",\"2023-05-29T00:00:00\",\"2023-05-30T00:00:00\",\"2023-05-31T00:00:00\",\"2023-06-01T00:00:00\",\"2023-06-02T00:00:00\",\"2023-06-03T00:00:00\",\"2023-06-04T00:00:00\",\"2023-06-05T00:00:00\",\"2023-06-06T00:00:00\",\"2023-06-07T00:00:00\",\"2023-06-08T00:00:00\",\"2023-06-09T00:00:00\",\"2023-06-10T00:00:00\",\"2023-06-11T00:00:00\",\"2023-06-12T00:00:00\",\"2023-06-13T00:00:00\",\"2023-06-14T00:00:00\",\"2023-06-15T00:00:00\",\"2023-06-16T00:00:00\",\"2023-06-17T00:00:00\",\"2023-06-18T00:00:00\",\"2023-06-19T00:00:00\",\"2023-06-20T00:00:00\",\"2023-06-21T00:00:00\",\"2023-06-22T00:00:00\",\"2023-06-23T00:00:00\",\"2023-06-24T00:00:00\",\"2023-06-25T00:00:00\",\"2023-06-26T00:00:00\",\"2023-06-27T00:00:00\",\"2023-06-28T00:00:00\",\"2023-06-29T00:00:00\",\"2023-06-30T00:00:00\",\"2023-07-01T00:00:00\",\"2023-07-02T00:00:00\",\"2023-07-03T00:00:00\",\"2023-07-04T00:00:00\",\"2023-07-05T00:00:00\",\"2023-07-06T00:00:00\",\"2023-07-07T00:00:00\",\"2023-07-08T00:00:00\",\"2023-07-09T00:00:00\",\"2023-07-10T00:00:00\",\"2023-07-11T00:00:00\",\"2023-07-12T00:00:00\",\"2023-07-13T00:00:00\",\"2023-07-14T00:00:00\",\"2023-07-15T00:00:00\",\"2023-07-16T00:00:00\",\"2023-07-17T00:00:00\",\"2023-07-18T00:00:00\",\"2023-07-19T00:00:00\",\"2023-07-20T00:00:00\",\"2023-07-21T00:00:00\",\"2023-07-22T00:00:00\",\"2023-07-23T00:00:00\",\"2023-07-24T00:00:00\",\"2023-07-25T00:00:00\",\"2023-07-26T00:00:00\",\"2023-07-27T00:00:00\",\"2023-07-28T00:00:00\",\"2023-07-29T00:00:00\",\"2023-07-30T00:00:00\",\"2023-07-31T00:00:00\",\"2023-08-01T00:00:00\",\"2023-08-02T00:00:00\",\"2023-08-03T00:00:00\",\"2023-08-04T00:00:00\",\"2023-08-05T00:00:00\",\"2023-08-06T00:00:00\",\"2023-08-07T00:00:00\",\"2023-08-08T00:00:00\",\"2023-08-09T00:00:00\",\"2023-08-10T00:00:00\",\"2023-08-11T00:00:00\",\"2023-08-12T00:00:00\",\"2023-08-13T00:00:00\",\"2023-08-14T00:00:00\",\"2023-08-15T00:00:00\",\"2023-08-16T00:00:00\",\"2023-08-17T00:00:00\",\"2023-08-18T00:00:00\",\"2023-08-19T00:00:00\",\"2023-08-20T00:00:00\",\"2023-08-21T00:00:00\",\"2023-08-22T00:00:00\",\"2023-08-23T00:00:00\",\"2023-08-24T00:00:00\",\"2023-08-25T00:00:00\",\"2023-08-26T00:00:00\",\"2023-08-27T00:00:00\",\"2023-08-28T00:00:00\",\"2023-08-29T00:00:00\",\"2023-08-30T00:00:00\",\"2023-08-31T00:00:00\",\"2023-09-01T00:00:00\",\"2023-09-02T00:00:00\",\"2023-09-03T00:00:00\",\"2023-09-04T00:00:00\",\"2023-09-05T00:00:00\",\"2023-09-06T00:00:00\",\"2023-09-07T00:00:00\",\"2023-09-08T00:00:00\",\"2023-09-09T00:00:00\",\"2023-09-10T00:00:00\",\"2023-09-11T00:00:00\",\"2023-09-12T00:00:00\",\"2023-09-13T00:00:00\",\"2023-09-14T00:00:00\"],\"xaxis\":\"x\",\"y\":[16,45,84,111,142,178,203,227,264,288,324,359,392,412,430,460,495,526,554,584,606,629,666,704,734,778,808,827,845,867,897,921,950,971,993,1018,1056,1095,1118,1153,1176,1191,1207,1239,1272,1300,1328,1356,1377,1400,1440,1465,1488,1513,1527,1544,1563,1583,1617,1648,1676,1704,1727,1763,1809,1843,1877,1901,1924,1945,1971,2006,2027,2064,2102,2130,2155,2178,2222,2248,2280,2304,2334,2355,2372,2404,2441,2475,2499,2535,2579,2620,2687,2754,2802,2846,2901,2947,3002,3061,3112,3167,3215,3272,3325,3361,3426,3487,3545,3593,3634,3668,3704,3764,3807,3865,3925,3961,3997,4037,4087,4145,4204,4246,4314,4360,4400,4465,4523,4575,4626,4683,4734,4773,4841,4908,4972,5009,5067,5119,5170,5232,5276,5348,5402,5447,5496,5543,5601,5657,5725,5777,5839,5901,5954,6024,6092,6148,6205,6260,6308,6360,6424,6489,6540,6602,6677,6717,6768,6834,6897,6956,7015,7074,7114,7151,7244,7294,7342,7386,7441,7492,7539,7600,7657,7731,7781,7824,7865,7910,7965,8026,8057,8101,8154,8190,8231,8263,8315,8345,8391,8427,8470,8505,8568,8625,8681,8750,8806,8847,8890,8937,8978,9022,9071,9122,9156,9204,9286,9349,9409,9452,9500,9547,9576,9625,9696,9762,9807,9850,9889,9915,9976,10028,10088,10130,10159,10196,10220,10269,10299,10342,10378,10422,10454,10483,10524,10558,10576,10597,10618,10633,10649,10657,10663,10664,10666],\"yaxis\":\"y\",\"type\":\"scatter\"}],                        {\"template\":{\"data\":{\"barpolar\":[{\"marker\":{\"line\":{\"color\":\"white\",\"width\":0.5},\"pattern\":{\"fillmode\":\"overlay\",\"size\":10,\"solidity\":0.2}},\"type\":\"barpolar\"}],\"bar\":[{\"error_x\":{\"color\":\"#2a3f5f\"},\"error_y\":{\"color\":\"#2a3f5f\"},\"marker\":{\"line\":{\"color\":\"white\",\"width\":0.5},\"pattern\":{\"fillmode\":\"overlay\",\"size\":10,\"solidity\":0.2}},\"type\":\"bar\"}],\"carpet\":[{\"aaxis\":{\"endlinecolor\":\"#2a3f5f\",\"gridcolor\":\"#C8D4E3\",\"linecolor\":\"#C8D4E3\",\"minorgridcolor\":\"#C8D4E3\",\"startlinecolor\":\"#2a3f5f\"},\"baxis\":{\"endlinecolor\":\"#2a3f5f\",\"gridcolor\":\"#C8D4E3\",\"linecolor\":\"#C8D4E3\",\"minorgridcolor\":\"#C8D4E3\",\"startlinecolor\":\"#2a3f5f\"},\"type\":\"carpet\"}],\"choropleth\":[{\"colorbar\":{\"outlinewidth\":0,\"ticks\":\"\"},\"type\":\"choropleth\"}],\"contourcarpet\":[{\"colorbar\":{\"outlinewidth\":0,\"ticks\":\"\"},\"type\":\"contourcarpet\"}],\"contour\":[{\"colorbar\":{\"outlinewidth\":0,\"ticks\":\"\"},\"colorscale\":[[0.0,\"#0d0887\"],[0.1111111111111111,\"#46039f\"],[0.2222222222222222,\"#7201a8\"],[0.3333333333333333,\"#9c179e\"],[0.4444444444444444,\"#bd3786\"],[0.5555555555555556,\"#d8576b\"],[0.6666666666666666,\"#ed7953\"],[0.7777777777777778,\"#fb9f3a\"],[0.8888888888888888,\"#fdca26\"],[1.0,\"#f0f921\"]],\"type\":\"contour\"}],\"heatmapgl\":[{\"colorbar\":{\"outlinewidth\":0,\"ticks\":\"\"},\"colorscale\":[[0.0,\"#0d0887\"],[0.1111111111111111,\"#46039f\"],[0.2222222222222222,\"#7201a8\"],[0.3333333333333333,\"#9c179e\"],[0.4444444444444444,\"#bd3786\"],[0.5555555555555556,\"#d8576b\"],[0.6666666666666666,\"#ed7953\"],[0.7777777777777778,\"#fb9f3a\"],[0.8888888888888888,\"#fdca26\"],[1.0,\"#f0f921\"]],\"type\":\"heatmapgl\"}],\"heatmap\":[{\"colorbar\":{\"outlinewidth\":0,\"ticks\":\"\"},\"colorscale\":[[0.0,\"#0d0887\"],[0.1111111111111111,\"#46039f\"],[0.2222222222222222,\"#7201a8\"],[0.3333333333333333,\"#9c179e\"],[0.4444444444444444,\"#bd3786\"],[0.5555555555555556,\"#d8576b\"],[0.6666666666666666,\"#ed7953\"],[0.7777777777777778,\"#fb9f3a\"],[0.8888888888888888,\"#fdca26\"],[1.0,\"#f0f921\"]],\"type\":\"heatmap\"}],\"histogram2dcontour\":[{\"colorbar\":{\"outlinewidth\":0,\"ticks\":\"\"},\"colorscale\":[[0.0,\"#0d0887\"],[0.1111111111111111,\"#46039f\"],[0.2222222222222222,\"#7201a8\"],[0.3333333333333333,\"#9c179e\"],[0.4444444444444444,\"#bd3786\"],[0.5555555555555556,\"#d8576b\"],[0.6666666666666666,\"#ed7953\"],[0.7777777777777778,\"#fb9f3a\"],[0.8888888888888888,\"#fdca26\"],[1.0,\"#f0f921\"]],\"type\":\"histogram2dcontour\"}],\"histogram2d\":[{\"colorbar\":{\"outlinewidth\":0,\"ticks\":\"\"},\"colorscale\":[[0.0,\"#0d0887\"],[0.1111111111111111,\"#46039f\"],[0.2222222222222222,\"#7201a8\"],[0.3333333333333333,\"#9c179e\"],[0.4444444444444444,\"#bd3786\"],[0.5555555555555556,\"#d8576b\"],[0.6666666666666666,\"#ed7953\"],[0.7777777777777778,\"#fb9f3a\"],[0.8888888888888888,\"#fdca26\"],[1.0,\"#f0f921\"]],\"type\":\"histogram2d\"}],\"histogram\":[{\"marker\":{\"pattern\":{\"fillmode\":\"overlay\",\"size\":10,\"solidity\":0.2}},\"type\":\"histogram\"}],\"mesh3d\":[{\"colorbar\":{\"outlinewidth\":0,\"ticks\":\"\"},\"type\":\"mesh3d\"}],\"parcoords\":[{\"line\":{\"colorbar\":{\"outlinewidth\":0,\"ticks\":\"\"}},\"type\":\"parcoords\"}],\"pie\":[{\"automargin\":true,\"type\":\"pie\"}],\"scatter3d\":[{\"line\":{\"colorbar\":{\"outlinewidth\":0,\"ticks\":\"\"}},\"marker\":{\"colorbar\":{\"outlinewidth\":0,\"ticks\":\"\"}},\"type\":\"scatter3d\"}],\"scattercarpet\":[{\"marker\":{\"colorbar\":{\"outlinewidth\":0,\"ticks\":\"\"}},\"type\":\"scattercarpet\"}],\"scattergeo\":[{\"marker\":{\"colorbar\":{\"outlinewidth\":0,\"ticks\":\"\"}},\"type\":\"scattergeo\"}],\"scattergl\":[{\"marker\":{\"line\":{\"color\":\"#fff\"}},\"type\":\"scattergl\"}],\"scattermapbox\":[{\"marker\":{\"colorbar\":{\"outlinewidth\":0,\"ticks\":\"\"}},\"type\":\"scattermapbox\"}],\"scatterpolargl\":[{\"marker\":{\"colorbar\":{\"outlinewidth\":0,\"ticks\":\"\"}},\"type\":\"scatterpolargl\"}],\"scatterpolar\":[{\"marker\":{\"colorbar\":{\"outlinewidth\":0,\"ticks\":\"\"}},\"type\":\"scatterpolar\"}],\"scatter\":[{\"marker\":{\"line\":{\"color\":\"#fff\"}},\"type\":\"scatter\"}],\"scatterternary\":[{\"marker\":{\"colorbar\":{\"outlinewidth\":0,\"ticks\":\"\"}},\"type\":\"scatterternary\"}],\"surface\":[{\"colorbar\":{\"outlinewidth\":0,\"ticks\":\"\"},\"colorscale\":[[0.0,\"#0d0887\"],[0.1111111111111111,\"#46039f\"],[0.2222222222222222,\"#7201a8\"],[0.3333333333333333,\"#9c179e\"],[0.4444444444444444,\"#bd3786\"],[0.5555555555555556,\"#d8576b\"],[0.6666666666666666,\"#ed7953\"],[0.7777777777777778,\"#fb9f3a\"],[0.8888888888888888,\"#fdca26\"],[1.0,\"#f0f921\"]],\"type\":\"surface\"}],\"table\":[{\"cells\":{\"fill\":{\"color\":\"#EBF0F8\"},\"line\":{\"color\":\"white\"}},\"header\":{\"fill\":{\"color\":\"#C8D4E3\"},\"line\":{\"color\":\"white\"}},\"type\":\"table\"}]},\"layout\":{\"annotationdefaults\":{\"arrowcolor\":\"#2a3f5f\",\"arrowhead\":0,\"arrowwidth\":1,\"font\":{\"color\":\"#212529\"}},\"autotypenumbers\":\"strict\",\"coloraxis\":{\"colorbar\":{\"outlinewidth\":0,\"ticks\":\"\"}},\"colorscale\":{\"diverging\":[[0,\"#8e0152\"],[0.1,\"#c51b7d\"],[0.2,\"#de77ae\"],[0.3,\"#f1b6da\"],[0.4,\"#fde0ef\"],[0.5,\"#f7f7f7\"],[0.6,\"#e6f5d0\"],[0.7,\"#b8e186\"],[0.8,\"#7fbc41\"],[0.9,\"#4d9221\"],[1,\"#276419\"]],\"sequential\":[[0.0,\"#333333\"],[0.1,\"#4a393a\"],[0.2,\"#613f40\"],[0.30000000000000004,\"#784547\"],[0.4,\"#8f4c4e\"],[0.5,\"#a55254\"],[0.6000000000000001,\"#bc585b\"],[0.7000000000000001,\"#d35e62\"],[0.8,\"#ea6469\"],[0.9,\"#ff6a6f\"],[1.0,\"#ff7176\"]],\"sequentialminus\":[[0.0,\"#0d0887\"],[0.1111111111111111,\"#46039f\"],[0.2222222222222222,\"#7201a8\"],[0.3333333333333333,\"#9c179e\"],[0.4444444444444444,\"#bd3786\"],[0.5555555555555556,\"#d8576b\"],[0.6666666666666666,\"#ed7953\"],[0.7777777777777778,\"#fb9f3a\"],[0.8888888888888888,\"#fdca26\"],[1.0,\"#f0f921\"]]},\"colorway\":[\"#585858\",\"#d93446\",\"#00801d\",\"#f7c200\",\"#48b1c7\"],\"font\":{\"color\":\"#212529\",\"family\":\"Neucha,-apple-system,system-ui,BlinkMacSystemFont,\\\"Segoe UI\\\",Roboto,\\\"Helvetica Neue\\\",Arial,sans-serif\"},\"geo\":{\"bgcolor\":\"#fff\",\"lakecolor\":\"#fff\",\"landcolor\":\"#fff\",\"showlakes\":true,\"showland\":true,\"subunitcolor\":\"#C8D4E3\"},\"hoverlabel\":{\"align\":\"left\",\"font\":{\"family\":\"Neucha,-apple-system,system-ui,BlinkMacSystemFont,\\\"Segoe UI\\\",Roboto,\\\"Helvetica Neue\\\",Arial,sans-serif\"}},\"hovermode\":\"closest\",\"mapbox\":{\"style\":\"light\"},\"paper_bgcolor\":\"#ffffff\",\"piecolorway\":[\"#585858\",\"#d93446\",\"#00801d\",\"#f7c200\",\"#48b1c7\"],\"plot_bgcolor\":\"#fff\",\"polar\":{\"angularaxis\":{\"gridcolor\":\"#EBF0F8\",\"linecolor\":\"#EBF0F8\",\"ticks\":\"\"},\"bgcolor\":\"white\",\"radialaxis\":{\"gridcolor\":\"#EBF0F8\",\"linecolor\":\"#EBF0F8\",\"ticks\":\"\"}},\"scene\":{\"xaxis\":{\"backgroundcolor\":\"white\",\"gridcolor\":\"#DFE8F3\",\"gridwidth\":2,\"linecolor\":\"#EBF0F8\",\"showbackground\":true,\"ticks\":\"\",\"zerolinecolor\":\"#EBF0F8\"},\"yaxis\":{\"backgroundcolor\":\"white\",\"gridcolor\":\"#DFE8F3\",\"gridwidth\":2,\"linecolor\":\"#EBF0F8\",\"showbackground\":true,\"ticks\":\"\",\"zerolinecolor\":\"#EBF0F8\"},\"zaxis\":{\"backgroundcolor\":\"white\",\"gridcolor\":\"#DFE8F3\",\"gridwidth\":2,\"linecolor\":\"#EBF0F8\",\"showbackground\":true,\"ticks\":\"\",\"zerolinecolor\":\"#EBF0F8\"}},\"shapedefaults\":{\"line\":{\"color\":\"#2a3f5f\"}},\"ternary\":{\"aaxis\":{\"gridcolor\":\"#DFE8F3\",\"linecolor\":\"#A2B1C6\",\"ticks\":\"\"},\"baxis\":{\"gridcolor\":\"#DFE8F3\",\"linecolor\":\"#A2B1C6\",\"ticks\":\"\"},\"bgcolor\":\"white\",\"caxis\":{\"gridcolor\":\"#DFE8F3\",\"linecolor\":\"#A2B1C6\",\"ticks\":\"\"}},\"title\":{\"x\":0.05},\"xaxis\":{\"automargin\":true,\"gridcolor\":\"#edeeee\",\"gridwidth\":0.5,\"linecolor\":\"#EBF0F8\",\"ticks\":\"\",\"title\":{\"standoff\":15},\"zerolinecolor\":\"#edeeee\",\"zerolinewidth\":2},\"yaxis\":{\"automargin\":true,\"gridcolor\":\"#edeeee\",\"gridwidth\":0.5,\"linecolor\":\"#EBF0F8\",\"ticks\":\"\",\"title\":{\"standoff\":15},\"zerolinecolor\":\"#edeeee\",\"zerolinewidth\":2}}},\"xaxis\":{\"anchor\":\"y\",\"domain\":[0.0,1.0],\"title\":{},\"range\":[\"2023-01-01\",\"2023-07-01\"],\"linecolor\":\"gray\",\"ticks\":\"outside\",\"dtick\":\"M1\",\"tickformat\":\"%b-%y\"},\"yaxis\":{\"anchor\":\"x\",\"domain\":[0.0,1.0],\"title\":{},\"ticks\":\"outside\"},\"legend\":{\"title\":{},\"tracegroupgap\":0,\"orientation\":\"h\",\"yanchor\":\"top\",\"y\":1.2,\"xanchor\":\"right\",\"x\":1},\"margin\":{\"t\":5,\"l\":10,\"r\":10,\"b\":5}},                        {\"responsive\": true}                    ).then(function(){\n",
       "                            \n",
       "var gd = document.getElementById('0b8f8ad8-7096-4f81-ac2f-2d9fe9d0052a');\n",
       "var x = new MutationObserver(function (mutations, observer) {{\n",
       "        var display = window.getComputedStyle(gd).display;\n",
       "        if (!display || display === 'none') {{\n",
       "            console.log([gd, 'removed!']);\n",
       "            Plotly.purge(gd);\n",
       "            observer.disconnect();\n",
       "        }}\n",
       "}});\n",
       "\n",
       "// Listen for the removal of the full notebook cells\n",
       "var notebookContainer = gd.closest('#notebook-container');\n",
       "if (notebookContainer) {{\n",
       "    x.observe(notebookContainer, {childList: true});\n",
       "}}\n",
       "\n",
       "// Listen for the clearing of the current output cell\n",
       "var outputEl = gd.closest('.output');\n",
       "if (outputEl) {{\n",
       "    x.observe(outputEl, {childList: true});\n",
       "}}\n",
       "\n",
       "                        })                };                });            </script>        </div>"
      ]
     },
     "metadata": {},
     "output_type": "display_data"
    }
   ],
   "source": [
    "\n",
    "perioddata.rename(columns={'loss_of_consciousness':'LoC'},inplace=True)\n",
    "perioddata = perioddata.T[['Feb-23','Mar-23','Apr-23','May-23','Jun-23']]\n",
    "\n",
    "fig_period_heatmap = heatmap_plot(perioddata, 'Symptoms')\n",
    "\n",
    "count_data = data[['date_of_admission','region']].groupby(['region','date_of_admission'])[['date_of_admission']]\\\n",
    "                         .count().rename(columns={'date_of_admission':'Count'}).reset_index()\n",
    "count_data['cumsum'] = count_data.groupby('region')['Count'].cumsum()\n",
    "cum_plot = px.line(count_data, x = 'date_of_admission',y='cumsum',color='region',range_x=['2023-01-01','2023-07-01'],\n",
    "                   color_discrete_sequence = discrete_color,\n",
    "                   hover_name='region',hover_data={'region':False,'cumsum':True})\n",
    "\n",
    "cum_plot.update_xaxes(title = None,linecolor='gray',ticks='outside',dtick='M1',tickformat='%b-%y')\n",
    "cum_plot.update_yaxes(title = None,ticks='outside')\n",
    "cum_plot.update_layout(margin = margin,legend = dict(orientation='h',title=None,yanchor='top',y=1.2,xanchor='right',x=1))\n"
   ]
  },
  {
   "cell_type": "code",
   "execution_count": 117,
   "metadata": {},
   "outputs": [],
   "source": [
    "\n",
    "##Discharge and Outcom\n",
    "outcome_sex =  priority_group(data,'outcome','sex')\n",
    "outcome_region = priority_group(data,'outcome','region')\n",
    "\n",
    "def plot_figure(data):\n",
    "    '''Function to plot region for alive and dead'''\n",
    "    \n",
    "    fig = px.bar(data, y = 'region',x='prop',color='region',barmode='group',range_x=([0,100]),\n",
    "                 color_discrete_sequence= discrete_color,text='count')\n",
    "    fig.update_traces(textposition='outside',textfont_size=10)\n",
    "    fig.update_layout(margin=margin,legend=dict(orientation='h',title=None,yanchor='top',y=1,xanchor='right',x=1),\n",
    "                      uniformtext_minsize=7, uniformtext_mode='hide',paper_bgcolor=plot_color,plot_bgcolor=plot_color)\n",
    "    fig.update_yaxes(tickfont = dict(size=12),title = None,ticks='outside')\n",
    "    fig.update_xaxes(title ='Proportion(%)',nticks=10, tickfont = dict(size=12),linecolor= linecolor,gridcolor=gridcolor,ticks='outside')\n",
    "    return fig\n",
    "\n",
    "##outcome discharge\n",
    "##STATUS AT DISCHARGE\n",
    "status_at_discharge = data_campture[['status_at_discharge']].value_counts().rename_axis('status').reset_index(name='counts')\n",
    "status_at_discharge['prop'] = status_at_discharge['counts']/status_at_discharge['counts'].sum()*100\n",
    "\n",
    "status_at_discharge_plot = px.bar(status_at_discharge.sort_values('prop'),x='prop',y ='status',orientation='h',text='counts')\n",
    "                                  \n",
    "status_at_discharge_plot.update_yaxes(title=None)\n",
    "status_at_discharge_plot.update_layout(margin=margin,paper_bgcolor=plot_color,plot_bgcolor=plot_color)\n",
    "status_at_discharge_plot.update_traces(textposition='outside',marker_color='indianred')\n",
    "\n",
    "\n",
    "############################################################\n",
    "df_test = data[['outcome','status_at_discharge','date_of_admission','date_of_discharge','sex','age_years','month','region','d1_present','cause_of_death',\\\n",
    "                'disease_specific_tests___1','disease_specific_tests___2','disease_specific_tests___4','disease_specific_tests___5','microbiology___1',\n",
    "                'biochemistry___3','haematology___1','microbiology___5']]\n",
    "df_test.rename(columns={'disease_specific_tests___1':'Malaria','disease_specific_tests___2':'TB','disease_specific_tests___4':'HIV',\n",
    "                        'disease_specific_tests___5':'COVID-19','microbiology___1':'Urinalysis','microbiology___5':'stool_analysis',\n",
    "                        'biochemistry___3':'Glucose','haematology___1':'Blood Count'},\n",
    "                inplace=True)"
   ]
  },
  {
   "cell_type": "code",
   "execution_count": 118,
   "metadata": {},
   "outputs": [],
   "source": [
    "def admission_test_group(data, value):\n",
    "    '''Function to group data by region or period/Month'''\n",
    "    data = data[[value,'TB','Malaria','HIV','COVID-19','Urinalysis','Glucose','Blood Count','stool_analysis']]\n",
    "    data = data.groupby(value).apply(lambda x: x.eq('Checked').sum())\n",
    "    data = data.drop(value,axis=1)\n",
    "    data = data.apply(lambda x :round(100*x/5412),1)\n",
    "    #data = data.T.reset_index()\n",
    "    return data\n",
    "\n",
    "test_region = admission_test_group(df_test, 'region')\n",
    "test_period = admission_test_group(df_test, 'month')\n",
    "test_period = test_period.T[['Jan-23','Feb-23','Mar-23','Apr-23','May-23','Jun-23']]\n",
    "\n",
    "test_region = test_region.T.reset_index()"
   ]
  },
  {
   "cell_type": "code",
   "execution_count": 119,
   "metadata": {},
   "outputs": [],
   "source": [
    "test_region_fig = px.bar(test_region, x = ['Central','Western'] , y='index',barmode='group',range_x=[0,60],\n",
    "                         color_discrete_sequence= discrete_color)\n",
    "test_region_fig.update_xaxes(title='Proportion(%)',linecolor=linecolor)\n",
    "test_region_fig.update_yaxes(title='Tests',title_font=titlefont)\n",
    "test_region_fig.update_layout(margin=margin,legend=dict(orientation='h',title=None,yanchor='top',y=1.1,xanchor='right',x=1))\n",
    "\n",
    "\n",
    "test_period_figure = heatmap_plot(test_period,'Tests') #FIGURE showing tests done at admission by period\n",
    "##########################################################################################\n"
   ]
  },
  {
   "cell_type": "markdown",
   "metadata": {},
   "source": [
    "## Recommended figures"
   ]
  },
  {
   "cell_type": "markdown",
   "metadata": {},
   "source": [
    "## 1. Symptoms by Region Heatmap"
   ]
  },
  {
   "cell_type": "code",
   "execution_count": 243,
   "metadata": {},
   "outputs": [
    {
     "data": {
      "text/html": [
       "<div>\n",
       "<style scoped>\n",
       "    .dataframe tbody tr th:only-of-type {\n",
       "        vertical-align: middle;\n",
       "    }\n",
       "\n",
       "    .dataframe tbody tr th {\n",
       "        vertical-align: top;\n",
       "    }\n",
       "\n",
       "    .dataframe thead tr th {\n",
       "        text-align: left;\n",
       "    }\n",
       "\n",
       "    .dataframe thead tr:last-of-type th {\n",
       "        text-align: right;\n",
       "    }\n",
       "</style>\n",
       "<table border=\"1\" class=\"dataframe\">\n",
       "  <thead>\n",
       "    <tr>\n",
       "      <th></th>\n",
       "      <th>Respiratory</th>\n",
       "      <th>Cardiovascular</th>\n",
       "      <th>Gastrointestinal</th>\n",
       "      <th>Central_Nervous</th>\n",
       "      <th>Genitourinary</th>\n",
       "    </tr>\n",
       "    <tr>\n",
       "      <th></th>\n",
       "      <th></th>\n",
       "      <th></th>\n",
       "      <th></th>\n",
       "      <th></th>\n",
       "      <th></th>\n",
       "    </tr>\n",
       "    <tr>\n",
       "      <th>region</th>\n",
       "      <th></th>\n",
       "      <th></th>\n",
       "      <th></th>\n",
       "      <th></th>\n",
       "      <th></th>\n",
       "    </tr>\n",
       "  </thead>\n",
       "  <tbody>\n",
       "    <tr>\n",
       "      <th>Central</th>\n",
       "      <td>2912.0</td>\n",
       "      <td>1522.0</td>\n",
       "      <td>3385</td>\n",
       "      <td>1586</td>\n",
       "      <td>89</td>\n",
       "    </tr>\n",
       "    <tr>\n",
       "      <th>Western</th>\n",
       "      <td>3212.0</td>\n",
       "      <td>2649.0</td>\n",
       "      <td>5831</td>\n",
       "      <td>3431</td>\n",
       "      <td>294</td>\n",
       "    </tr>\n",
       "    <tr>\n",
       "      <th>Coast</th>\n",
       "      <td>56.0</td>\n",
       "      <td>32.0</td>\n",
       "      <td>108</td>\n",
       "      <td>39</td>\n",
       "      <td>1</td>\n",
       "    </tr>\n",
       "  </tbody>\n",
       "</table>\n",
       "</div>"
      ],
      "text/plain": [
       "        Respiratory Cardiovascular Gastrointestinal Central_Nervous  \\\n",
       "                                                                      \n",
       "region                                                                \n",
       "Central      2912.0         1522.0             3385            1586   \n",
       "Western      3212.0         2649.0             5831            3431   \n",
       "Coast          56.0           32.0              108              39   \n",
       "\n",
       "        Genitourinary  \n",
       "                       \n",
       "region                 \n",
       "Central            89  \n",
       "Western           294  \n",
       "Coast               1  "
      ]
     },
     "execution_count": 243,
     "metadata": {},
     "output_type": "execute_result"
    }
   ],
   "source": [
    "# data[['record_id','month','region','cough','headache','diarrhoea','chest_pain','vomiting','fever','loss_of_consciousness','dysuria',\n",
    "#       'difficulty_in_breathing','abdominal_pain','easy_fatigability']]\n",
    "\n",
    "\n",
    "\n",
    "\n",
    "def process_symptoms(data, symptoms):\n",
    "    data = data[['region', 'month'] + symptoms].replace('Empty', None)\n",
    "    symptom_counts = {}\n",
    "    \n",
    "    for symptom in symptoms:\n",
    "        filtered_data = data[data[symptom] == 'Yes'][['region', symptom]].groupby('region').count()\n",
    "        symptom_counts[symptom] = filtered_data\n",
    "    \n",
    "    merged_data = pd.concat(symptom_counts.values(), axis=1, keys=symptom_counts.keys()).fillna(0)\n",
    "    merged_data[f'{symptoms[0]}_{symptoms[-1]}'] = merged_data.sum(axis=1)\n",
    "    return merged_data[[f'{symptoms[0]}_{symptoms[-1]}']]\n",
    "\n",
    "symptom_categories = [\n",
    "    ['difficulty_in_breathing', 'cough'],\n",
    "    ['easy_fatigability', 'chest_pain'],\n",
    "    ['vomiting', 'diarrhoea', 'abdominal_pain'],['headache','loss_of_consciousness'],['dysuria']\n",
    "]\n",
    "\n",
    "result = pd.DataFrame()\n",
    "\n",
    "for category in symptom_categories:\n",
    "    category_name = \"_\".join(category)\n",
    "    symptom_data = process_symptoms(data, category)\n",
    "    result = pd.concat([result, symptom_data], axis=1, join='outer')\n",
    "\n",
    "\n",
    "symptoms = result.rename(columns={'difficulty_in_breathing_cough':'Respiratory','easy_fatigability_chest_pain':'Cardiovascular',\n",
    "                                  'vomiting_abdominal_pain':'Gastrointestinal','headache_loss_of_consciousness':'Central_Nervous',\n",
    "                                  'dysuria_dysuria':'Genitourinary'})\n",
    "symptoms\n",
    "\n",
    "\n"
   ]
  },
  {
   "cell_type": "markdown",
   "metadata": {},
   "source": []
  },
  {
   "cell_type": "code",
   "execution_count": 227,
   "metadata": {},
   "outputs": [
    {
     "data": {
      "text/plain": [
       "0        None\n",
       "1         Yes\n",
       "2         Yes\n",
       "3          No\n",
       "4        None\n",
       "         ... \n",
       "19386    None\n",
       "19387    None\n",
       "19388    None\n",
       "19389      No\n",
       "19390    None\n",
       "Name: diarrhoea, Length: 17986, dtype: object"
      ]
     },
     "execution_count": 227,
     "metadata": {},
     "output_type": "execute_result"
    }
   ],
   "source": [
    "data['diarrhoea']"
   ]
  },
  {
   "cell_type": "code",
   "execution_count": null,
   "metadata": {},
   "outputs": [],
   "source": []
  },
  {
   "cell_type": "code",
   "execution_count": null,
   "metadata": {},
   "outputs": [],
   "source": []
  },
  {
   "attachments": {},
   "cell_type": "markdown",
   "metadata": {},
   "source": [
    "# Data Clarifications\n",
    "\n",
    "How important is the Medical Admission Record form used?\n",
    "\n",
    "There exists:\n",
    "\n",
    "    1. 3 entries with no gender information.\n",
    "\n",
    "    \n",
    "    2. 4 entries with dates before 2023-01-01\n",
    "\n",
    "    3. How do we extract region information? No variable to define region. Do we use hospital or subcounty?\n",
    "\n",
    "    5. Why weight specified  Min: 40, Max: 150\n",
    "\n",
    "    6. On the outcome section, what is D1_present?\n",
    "\n",
    "    7. From current dataset 2 guys have no hospital information - 316-1057,318-234\n",
    "\n",
    "\n",
    "\n"
   ]
  },
  {
   "cell_type": "code",
   "execution_count": 22,
   "metadata": {},
   "outputs": [],
   "source": [
    "data1 = pd.read_table('../../Kenya-COVID-19-Dashboard/syndromic_data/kenya_data/1689336148515.metadata.tsv')\n",
    "data2 = pd.read_table('../../Kenya-COVID-19-Dashboard/syndromic_data/kenya_data/1689336178136.metadata.tsv')\n",
    "data3 = pd.read_table('../../Kenya-COVID-19-Dashboard/syndromic_data/kenya_data/1689336349172.metadata.tsv')\n",
    "\n",
    "data1 = data1[['strain','originating_lab','submitting_lab']]\n",
    "data2 = data2[['strain','originating_lab','submitting_lab']]\n",
    "data3 = data3[['strain','originating_lab','submitting_lab']]\n",
    "\n",
    "df = pd.concat([data1,data2,data3])"
   ]
  },
  {
   "cell_type": "code",
   "execution_count": 25,
   "metadata": {},
   "outputs": [
    {
     "data": {
      "text/plain": [
       "12630"
      ]
     },
     "execution_count": 25,
     "metadata": {},
     "output_type": "execute_result"
    }
   ],
   "source": [
    "len(df)"
   ]
  },
  {
   "cell_type": "code",
   "execution_count": 24,
   "metadata": {},
   "outputs": [],
   "source": [
    "df.to_csv('../syndromic_data/kenya_data/labs.txt',sep='\\t',index=False)"
   ]
  }
 ],
 "metadata": {
  "kernelspec": {
   "display_name": "Python 3 (ipykernel)",
   "language": "python",
   "name": "python3"
  },
  "language_info": {
   "codemirror_mode": {
    "name": "ipython",
    "version": 3
   },
   "file_extension": ".py",
   "mimetype": "text/x-python",
   "name": "python",
   "nbconvert_exporter": "python",
   "pygments_lexer": "ipython3",
   "version": "3.10.12"
  },
  "orig_nbformat": 4
 },
 "nbformat": 4,
 "nbformat_minor": 2
}
